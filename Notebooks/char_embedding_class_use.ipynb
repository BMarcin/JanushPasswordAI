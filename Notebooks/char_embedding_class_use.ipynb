{
 "cells": [
  {
   "cell_type": "markdown",
   "metadata": {},
   "source": [
    "# Działanie klasy\n",
    "Notebook ma przedstawiać podstawowe działanie klasy do Character Embeddings bez dodatkowego objaśniania co tam się w środku dzieje."
   ]
  },
  {
   "cell_type": "markdown",
   "metadata": {},
   "source": [
    "## Importy\n",
    "Tutaj zmieniamy path systemowy na katalog o jeden wyżej, by mieć dostęp do stworzonej klasy"
   ]
  },
  {
   "cell_type": "code",
   "execution_count": 1,
   "metadata": {},
   "outputs": [],
   "source": [
    "%matplotlib inline \n",
    "import sys\n",
    "sys.path.append(\"..\")\n",
    "\n",
    "from JanushPasswordGAN.CharacterEmbeddings import CharacterEmbeddings as CE\n",
    "import logging\n",
    "\n",
    "from random import randint"
   ]
  },
  {
   "cell_type": "markdown",
   "metadata": {},
   "source": [
    "## Logi\n",
    "Ustawiamy format wypisywania logów"
   ]
  },
  {
   "cell_type": "code",
   "execution_count": 2,
   "metadata": {},
   "outputs": [],
   "source": [
    "logging.basicConfig(format='\"%(asctime)s    %(message)s', level=logging.INFO)"
   ]
  },
  {
   "cell_type": "markdown",
   "metadata": {},
   "source": [
    "## Załadowanie pliku haseł\n",
    "Wczytujemy do tablicy plik z naszymi hasłami. Dodajemy również ważny limit jakim jest długość hasła wynosząca minimum 3 znaki.\n",
    "\n",
    "Jeżeli nie chcemy ładować całego pliku również możemy to określić."
   ]
  },
  {
   "cell_type": "code",
   "execution_count": 3,
   "metadata": {},
   "outputs": [
    {
     "name": "stdout",
     "output_type": "stream",
     "text": [
      "13000\n"
     ]
    }
   ],
   "source": [
    "f = open(\"../polskie-slowa.txt\", encoding=\"utf-8\")\n",
    "hasla = [line.replace(\"\\n\", \"\") for number, line in enumerate(f.readlines()) if len(line.replace(\"\\n\", \"\")) >= 3]\n",
    "print(len(hasla))"
   ]
  },
  {
   "cell_type": "markdown",
   "metadata": {},
   "source": [
    "## Filtrowanie zbioru danych\n",
    "Tutaj wybierzemy odpowiednią ilość haseł, żeby zmieściło nam się na raz do GPU i szybko przeliczyło 🐱‍👤\n",
    "\n",
    "Funkcja wykonywana opcjonalnie"
   ]
  },
  {
   "cell_type": "code",
   "execution_count": null,
   "metadata": {},
   "outputs": [],
   "source": [
    "haselka = []\n",
    "\n",
    "while len(haselka) < 13000:\n",
    "    randid = randint(0, len(hasla)-1)\n",
    "    \n",
    "    if hasla[randid] not in haselka:\n",
    "        haselka.append(hasla[randid])\n",
    "        \n",
    "print(len(haselka))\n",
    "print(haselka[:300])"
   ]
  },
  {
   "cell_type": "markdown",
   "metadata": {},
   "source": [
    "## Przepisanie dużego zbioru na mały zbiór\n",
    "Funkcja opcjonalna. Wykorzystywałem ją w przypadku, gdzie słownik źródłowy miał 200k+ słów, a chciałem jedynie korzystać np. z 13k."
   ]
  },
  {
   "cell_type": "code",
   "execution_count": null,
   "metadata": {},
   "outputs": [],
   "source": [
    "f2 = open(\"../polskie-slowa.txt\", \"w\", encoding=\"utf-8\")\n",
    "\n",
    "for slowo in haselka:\n",
    "    f2.write(slowo+\"\\n\")\n",
    "    \n",
    "f2.close()"
   ]
  },
  {
   "cell_type": "markdown",
   "metadata": {},
   "source": [
    "## Input"
   ]
  },
  {
   "cell_type": "code",
   "execution_count": 4,
   "metadata": {},
   "outputs": [
    {
     "name": "stdout",
     "output_type": "stream",
     "text": [
      "['harcowałabyś', 'groblowych', 'lonżowaliby', 'zasmagałabyś', 'zdradzań', 'niezamianowanej', 'transowych', 'nagonkowy', 'niezagubionych', 'karykaturką', 'wyhandlowałobyś', 'tessarotypie', 'niehermowi', 'dobiłobym', 'kantaty', 'siorpnijcie', 'rozlewanej', 'wciosałabym', 'równoczłonowego', 'jawię', 'stygmatoidalnej', 'niekaliskiej', 'wysiewach', 'niegodkowską', 'dystansowałobym', 'pokratkowane', 'nieetylujących', 'niedowąchaniem', 'siorbnęliście', 'majówkę', 'kontrujący', 'calówkę', 'niezbudowani', 'nieszkółkarską', 'falbaniaste', 'ogipsowałem', 'wykraczalibyśmy', 'niemikrosomalną', 'nieżółtkowego', 'zrywają', 'szatniarką', 'meteopaty', 'dosłużyłybyśmy', 'ampelografio', 'zlepianymi', 'okrętuję', 'niekonwentualną', 'baklavach', 'kreatywny', 'niebladnącego', 'przedkościelne', 'wiktymologami', 'adypinowe', 'odnawiałbym', 'siar', 'nieusiadań', 'usłaniom', 'doniczka', 'oblepiałem', 'szczypka', 'rzymiankę', 'pomieszkujące', 'tapicerować', 'metalurgów', 'plotowana', 'makaronizacyj', 'wzornikującemu', 'dedukowana', 'nadzwyczaj', 'wystrzelenia', 'nietrójsylabowe', 'świdrowatych', 'cmoktałby', 'wymigałyście', 'trwogom', 'karakolowałam', 'tryskawcach', 'zalterowana', 'mechaciłabyś', 'korduple', 'łachotliwymi', 'dobyć', 'niemamuninych', 'odratowującymi', 'dyktatorską', 'lodowanym', 'oskarżeniach', 'podrasowanym', 'zbałwaniejcie', 'niepoddębicka', 'niezastopowaną', 'zamulmy', 'warkną', 'poobjadało', 'przesyp', 'reformistów', 'przysięgań', 'neologizmie', 'nieprogresywna', 'obrzędowego', 'nietąpania', 'nienałowienie', 'mamuchną', 'ancestralne', 'zroszenie', 'niezakupującym', 'zasięgalibyście', 'zapracowywana', 'żonusie', 'nowozelandzka', 'zamarzeniach', 'ostrowiany', 'niezajarane', 'zamętnicowatym', 'feeriach', 'niewturlaniom', 'niezmydlanie', 'niemocą', 'nasadnikach', 'nieramotowatym', 'lekkostopej', 'popodbijałaś', 'ofiarników', 'defiladowy', 'gruszkujące', 'gestagenie', 'poszarpiemy', 'kulbaczyłbyś', 'podiwanień', 'nierozpadowemu', 'ekspediowaniom', 'zdziadziałeś', 'chadzajcie', 'odcyfrowujecie', 'ciągacze', 'pryskawki', 'zakropione', 'niewyleżanej', 'nierelaksowemu', 'drohobyczan', 'bezpłciowo', 'niepoddawaniach', 'przyłatałoś', 'gramodrobina', 'wygumkowujące', 'stanowiłoby', 'farbowaniami', 'wypociną', 'drogistkom', 'michę', 'porozumieli', 'zaśniedziło', 'podgorączkowych', 'dosiadałobyś', 'prosperowałaby', 'wyplatałby', 'spiczami', 'niezmieszczony', 'bulionizm', 'rewiowej', 'dochowujemy', 'krojownia', 'odpędziłom', 'skuwanie', 'guzdrajcie', 'magnificencją', 'komplemenciarz', 'zespój', 'niewzbierająca', 'ciotulą', 'promowały', 'hydrant', 'zaoszczędzałyby', 'porzucaniami', 'mulczują', 'zoariami', 'genealogom', 'rozmarudziły', 'najpoufniejsza', 'oscylogramem', 'plantatorską', 'zjazdówki', 'przebierze', 'niedomawiania', 'nieskopowi', 'ostudziłybyśmy', 'kanciarzowi', 'usypiało', 'dławce', 'niewzleceniem', 'podzióbaniami', 'niefiknięcia', 'kilimkowym', 'pobiedziłoś', 'niegrawitujące', 'zaprzedałeś', 'elblążaninie', 'wyrzężeniem', 'lipiogórska', 'zgrabiam']\n"
     ]
    }
   ],
   "source": [
    "print(hasla[:200])"
   ]
  },
  {
   "cell_type": "markdown",
   "metadata": {},
   "source": [
    "## Załadowanie klasy"
   ]
  },
  {
   "cell_type": "code",
   "execution_count": 5,
   "metadata": {},
   "outputs": [
    {
     "name": "stderr",
     "output_type": "stream",
     "text": [
      "\"2019-05-21 22:07:33,831    Witaj w Character Embeddings\n",
      "\"2019-05-21 22:07:33,831    CE: Wyszukiwanie unikalnych znaków...\n",
      "\"2019-05-21 22:07:33,837    CE: Budowanie one hot vectorów dla każego znaku...\n",
      "\"2019-05-21 22:07:33,838    CE: Tłumaczenie słów na one hot vectory...\n",
      "\"2019-05-21 22:07:34,138    CE: Wyznaczanie ID klas...\n",
      "\"2019-05-21 22:07:34,138    CE: Wyszukiwanie najdłuższego słowa...\n",
      "\"2019-05-21 22:07:34,141    CE: Obliczanie minimalnej wielkości okna...\n",
      "\"2019-05-21 22:07:34,145    CE: Tworzenie wejść i wyjść dla sieci...\n",
      "\"2019-05-21 22:07:57,672    CE: Wybieranie urządzenia...\n",
      "\"2019-05-21 22:07:57,844    CE: Witaj w CE - NN...\n",
      "\"2019-05-21 22:07:57,845    CE - NN: Zmiana wymiarów dla wektorów wejściowych...\n",
      "\"2019-05-21 22:07:57,845    CE - NN: Tłumaczenie wartości wyjściowych na klasy...\n",
      "\"2019-05-21 22:08:06,358    CE - NN: Posiadam 146602 próbek wejściowych\n",
      "\"2019-05-21 22:08:06,359    CE - NN: Budowanie modelu CBOW...\n",
      "\"2019-05-21 22:08:06,360    CE - NN: Ilość wejść: 924\n",
      "\"2019-05-21 22:08:06,360    CE - NN: Ilość wyjść 33\n",
      "\"2019-05-21 22:08:08,925    CE - NN: Budowanie tensora wartości wejściowych...\n",
      "\"2019-05-21 22:08:09,733    CE - NN: Budowanie tensora z klasami...\n",
      "\"2019-05-21 22:08:09,739    CE - NN: Przygotowywanie optymizera Adam z learning rate 0.0001...\n",
      "\"2019-05-21 22:08:09,740    CE - NN: Przygotowywanie CrossEntropyLoss...\n",
      "\"2019-05-21 22:08:09,741    CE - NN: Witaj w trybie uczenia...\n",
      "\"2019-05-21 22:08:09,742    CE - NN: Rozpoczynam naukę...\n",
      "\"2019-05-21 22:08:10,302    CE - NN: epoch: 0 loss: tensor(3.4944, device='cuda:0', grad_fn=<NllLossBackward>)\n",
      "\"2019-05-21 22:09:52,094    CE - NN: epoch: 1000 loss: tensor(1.6250, device='cuda:0', grad_fn=<NllLossBackward>)\n",
      "\"2019-05-21 22:11:36,479    CE - NN: epoch: 2000 loss: tensor(1.4267, device='cuda:0', grad_fn=<NllLossBackward>)\n",
      "\"2019-05-21 22:13:18,792    CE - NN: epoch: 3000 loss: tensor(1.4109, device='cuda:0', grad_fn=<NllLossBackward>)\n",
      "\"2019-05-21 22:15:00,393    CE - NN: Końcowy loss: tensor(1.4095, device='cuda:0', grad_fn=<NllLossBackward>)\n",
      "\"2019-05-21 22:15:00,394    CE - NN: Przestawianie sieci w tryb zwykły...\n"
     ]
    }
   ],
   "source": [
    "ce = CE(hasla, learningrate=0.0001, epochs=4000, hiddenvectors=500, device=\"auto\", printstep=1000, batchsize=None)"
   ]
  },
  {
   "cell_type": "markdown",
   "metadata": {},
   "source": [
    "## Wykres funkcji loss"
   ]
  },
  {
   "cell_type": "code",
   "execution_count": 6,
   "metadata": {},
   "outputs": [
    {
     "data": {
      "image/png": "[encoded data removed]",
      "text/plain": [
       "<Figure size 432x288 with 1 Axes>"
      ]
     },
     "metadata": {
      "needs_background": "light"
     },
     "output_type": "display_data"
    }
   ],
   "source": [
    "ce.wykresLoss()"
   ]
  },
  {
   "cell_type": "markdown",
   "metadata": {},
   "source": [
    "## Sprawdzenie predykcji dla danego słowa"
   ]
  },
  {
   "cell_type": "markdown",
   "metadata": {},
   "source": [
    "### Najpierw pobieramy wielkość okna"
   ]
  },
  {
   "cell_type": "code",
   "execution_count": 7,
   "metadata": {},
   "outputs": [
    {
     "name": "stdout",
     "output_type": "stream",
     "text": [
      "28\n",
      "A tu emotka: 🈳\n"
     ]
    }
   ],
   "source": [
    "ce.jaka_dlugosc_slowa()"
   ]
  },
  {
   "cell_type": "markdown",
   "metadata": {},
   "source": [
    "### A teraz budujemy nasze słowo do sprawdzenia\n",
    "Chcemy sprawdzić co sieć zaproponuje między literki \"kw\" oraz \"at\". Zgodnie ze zbiorem uczącym powinno być \"i\".\n",
    "\n",
    "Otrzymujemy w ten sposób słowo \"kwiat\" yay! ✌"
   ]
  },
  {
   "cell_type": "code",
   "execution_count": 8,
   "metadata": {},
   "outputs": [
    {
     "name": "stderr",
     "output_type": "stream",
     "text": [
      "\"2019-05-21 22:15:00,915    CE - NN: Witaj w trybie testowym...\n",
      "\"2019-05-21 22:15:00,916    CE - NN: Budowanie one hot vectora dla słowa testowego...\n",
      "\"2019-05-21 22:15:00,918    CE - NN: Budowanie tensora testowego, zmiana rozmiarów i wysyłanie do odpowiedniego urządzenia...\n",
      "\"2019-05-21 22:15:00,927    CE - NN: Wyłączanie gradientów...\n",
      "\"2019-05-21 22:15:00,928    CE - NN: Przeliczanie wartości...\n",
      "\"2019-05-21 22:15:00,931    CE - NN: Obliczanie CrossEntropyLoss dla każdej z klas...\n",
      "\"2019-05-21 22:15:00,946    CE - NN: Sortowanie prawdopodobieństw...\n"
     ]
    },
    {
     "name": "stdout",
     "output_type": "stream",
     "text": [
      "28\n",
      "i 0.27170276641845703\n",
      "e 2.5465822219848633\n",
      "r 3.5514841079711914\n",
      "ł 3.6692943572998047\n",
      "l 3.9361701011657715\n",
      "s 4.116141319274902\n",
      "z 4.375383377075195\n",
      "a 4.4896931648254395\n",
      "p 4.824924468994141\n",
      "n 4.844082832336426\n",
      "k 5.161656379699707\n",
      "y 5.3502349853515625\n",
      "t 5.400690078735352\n",
      "m 5.4378557205200195\n",
      "u 5.620311737060547\n",
      "c 5.906630516052246\n",
      "w 6.163616180419922\n",
      "o 6.92827033996582\n",
      "d 7.993160247802734\n",
      "j 8.242780685424805\n",
      "b 8.381454467773438\n",
      "g 8.80568790435791\n",
      "ż 9.612462043762207\n",
      "ę 10.389894485473633\n",
      "f 12.257159233093262\n",
      "h 13.909530639648438\n",
      "ą 14.153414726257324\n",
      "v 17.39669418334961\n",
      "ó 19.237667083740234\n",
      "ś 20.752622604370117\n",
      "ź 25.71689796447754\n",
      "ć 26.71058464050293\n",
      "ń 31.00142478942871\n"
     ]
    }
   ],
   "source": [
    "slowo = \"🈳🈳🈳🈳🈳🈳🈳🈳🈳🈳🈳🈳kwat🈳🈳🈳🈳🈳🈳🈳🈳🈳🈳🈳🈳\"\n",
    "print(len(slowo))\n",
    "ce.test_word(slowo)"
   ]
  },
  {
   "cell_type": "markdown",
   "metadata": {},
   "source": [
    "## Wykres częstotliwości występowania liter"
   ]
  },
  {
   "cell_type": "code",
   "execution_count": 9,
   "metadata": {},
   "outputs": [
    {
     "data": {
      "image/png": "[encoded data removed]",
      "text/plain": [
       "<Figure size 432x288 with 1 Axes>"
      ]
     },
     "metadata": {
      "needs_background": "light"
     },
     "output_type": "display_data"
    }
   ],
   "source": [
    "ce.wykres_czestosci_liter()"
   ]
  },
  {
   "cell_type": "markdown",
   "metadata": {},
   "source": [
    "## Podobieństwo liter do podanej\n",
    "Możemy tutaj wypisać jak podobne są do siebie dane litery.\n",
    "\n",
    "W języku naturalnym przy wypisaniu podobieństwa dla samogłoski powinniśmy zauważyć wysokie prawdopodobieństwa właśnie dla innych samogłosek."
   ]
  },
  {
   "cell_type": "code",
   "execution_count": 10,
   "metadata": {},
   "outputs": [
    {
     "name": "stdout",
     "output_type": "stream",
     "text": [
      "e oraz e:  0.9999998\n",
      "e oraz o:  0.36348537\n",
      "e oraz a:  0.35368356\n",
      "e oraz y:  0.2224424\n",
      "e oraz i:  0.21857262\n",
      "e oraz ó:  0.16346729\n",
      "e oraz u:  0.16163369\n",
      "e oraz ą:  0.13636075\n",
      "e oraz ę:  0.12740624\n",
      "e oraz m:  -0.041185707\n",
      "e oraz c:  -0.06701635\n",
      "e oraz z:  -0.07319648\n",
      "e oraz s:  -0.0823278\n",
      "e oraz g:  -0.09314107\n",
      "e oraz k:  -0.1118727\n",
      "e oraz l:  -0.11301876\n",
      "e oraz ś:  -0.115850665\n",
      "e oraz h:  -0.12453741\n",
      "e oraz b:  -0.14152877\n",
      "e oraz n:  -0.14343229\n",
      "e oraz ź:  -0.15775867\n",
      "e oraz t:  -0.16176592\n",
      "e oraz ć:  -0.1644385\n",
      "e oraz d:  -0.16846375\n",
      "e oraz v:  -0.16916047\n",
      "e oraz f:  -0.17428207\n",
      "e oraz j:  -0.18842052\n",
      "e oraz r:  -0.1888903\n",
      "e oraz ż:  -0.19583279\n",
      "e oraz ł:  -0.19786507\n",
      "e oraz ń:  -0.21765423\n",
      "e oraz w:  -0.22681026\n",
      "e oraz p:  -0.27788988\n"
     ]
    }
   ],
   "source": [
    "ce.print_similarity('e')"
   ]
  },
  {
   "cell_type": "markdown",
   "metadata": {},
   "source": [
    "## Sprawdzenie czy wg. sieci podane słowo jest poprawne"
   ]
  },
  {
   "cell_type": "code",
   "execution_count": 11,
   "metadata": {},
   "outputs": [
    {
     "name": "stdout",
     "output_type": "stream",
     "text": [
      "['p', 'n', 'r', 'z', 't', 'g', 's', 'd', 'h', 'k', 'w', 'm', 'l', 'ż', 'ł', 'j', 'b']\n",
      "['a', 'o', 'ą', 'i', 'u', 'ę', 'ó']\n",
      "['w', 'z', 'n', 's', 'p', 'r', 'i', 'd', 'l', 'b', 'j', 'm', 't']\n",
      "['z', 'j', 'h', 'i', 't', 'k', 'c']\n",
      "['e', 'y', 'o', 'i', 'ó', 'u', 'a', 'ą']\n",
      "['ć', 'ł', 'm', 'ń', 'n', 'j', 'k', 'r', 'l', 'u']\n",
      "Błędne słowo\n"
     ]
    }
   ],
   "source": [
    "ce.check_literowka(\"koccak\", marginesbledu=4.7)"
   ]
  },
  {
   "cell_type": "code",
   "execution_count": 12,
   "metadata": {},
   "outputs": [
    {
     "name": "stdout",
     "output_type": "stream",
     "text": [
      "['p', 'n', 'r', 'g', 'd', 'm', 'z', 's', 'j', 'l', 'w', 't', 'ł', 'k', 'ż', 'h', 'b']\n",
      "['a', 'ę', 'o', 'i', 'u', 'ą', 'r']\n",
      "['w', 'n', 'p', 'm', 'l', 'b', 'c', 's']\n",
      "['z', 'j', 'h', 'i', 't', 'k', 'c']\n",
      "['e', 'o', 's', 'n', 'ł', 'a', 'ó', 'l', 'ą', 'u']\n",
      "['m', 'ć', 'ń', 'ł', 'ż', 'n', 'h', 'k', 'l', 'r', 'j']\n",
      "\n",
      "Słowo poprawne\n"
     ]
    }
   ],
   "source": [
    "ce.check_literowka(\"kociak\", marginesbledu=4.7)"
   ]
  },
  {
   "cell_type": "code",
   "execution_count": 13,
   "metadata": {},
   "outputs": [
    {
     "name": "stdout",
     "output_type": "stream",
     "text": [
      "['b', 'r', 'w', 's', 'n', 'm', 'z', 't', 'p', 'c', 'ż', 'd']\n",
      "['a', 'o', 'y', 'u', 'i', 'e', 'ó']\n",
      "['z', 'r', 'l', 'j', 'd', 'm', 'n', 'b', 't', 'ł', 'o', 'w', 'u']\n",
      "['ł', 'g', 'r', 'z', 'l', 'p', 'n', 'k', 'd', 'i']\n",
      "['o', 'a', 'i', 'u', 'r', 'ę', 'e']\n",
      "['s', 'r', 'c', 'd', 'w', 'i']\n",
      "['i', 'z', 'a', 'ł', 'y', 'o', 't', 'e', 'u', 'ę', 'j', 'ą', 'k', 'p', 'c']\n",
      "['c', 'o', 'e', 'i', 'y', 'a', 'ą', 's']\n",
      "['y', 'e', 'i', 'h', 'a', 'ą', 'z', 'o', 'u', 'j']\n",
      "\n",
      "Słowo poprawne\n"
     ]
    }
   ],
   "source": [
    "ce.check_literowka(\"bydgoszcz\", marginesbledu=4.7)"
   ]
  },
  {
   "cell_type": "markdown",
   "metadata": {},
   "source": [
    "## Możemy zaobserwować reguły ortograficzne 😵"
   ]
  },
  {
   "cell_type": "code",
   "execution_count": 14,
   "metadata": {},
   "outputs": [
    {
     "name": "stdout",
     "output_type": "stream",
     "text": [
      "['s', 'm', 'p', 'z', 'l', 't', 'd', 'r', 'ł', 'k', 'b', 'w', 'n', 'ż', 'j', 'c']\n",
      "['ą', 'a', 'i', 'o', 'r', 'u', 'ł', 'ę', 's']\n",
      "['t', 'r', 'm', 'w', 'ł', 's', 'b', 'p', 'c', 'n', 'd']\n",
      "['e', 'i', 'y', 'o', 'a', 'z', 'ą', 'ę', 'u']\n",
      "['m', 'j', 'k', 'ł', 'w', 'n', 'ń', 'l', 'ć', 'o']\n",
      "\n",
      "Słowo poprawne\n"
     ]
    }
   ],
   "source": [
    "ce.check_literowka(\"kucyk\", marginesbledu=4.7)"
   ]
  },
  {
   "cell_type": "code",
   "execution_count": 15,
   "metadata": {},
   "outputs": [
    {
     "name": "stdout",
     "output_type": "stream",
     "text": [
      "['p', 'ż', 'r', 'm', 'g', 'ł', 'j', 'w', 'k', 't', 'n', 'd', 's', 'b', 'l']\n",
      "['ą', 'a', 'i', 'o', 'r', 'u', 'ł', 'ę', 's']\n",
      "['w', 'ł', 'r', 'b', 't', 'c']\n",
      "['e', 'i', 'z', 'o', 'y', 'k', 'a', 'c', 'ą']\n",
      "['m', 'ł', 'f', 'k', 'l', 'o', 'j', 'ń', 'n', 'w']\n",
      "Błędne słowo\n"
     ]
    }
   ],
   "source": [
    "ce.check_literowka(\"kócyk\", marginesbledu=4.7)"
   ]
  },
  {
   "cell_type": "markdown",
   "metadata": {},
   "source": [
    "## Jeszcze inne słowa, których nie ma w zbiorze uczącym"
   ]
  },
  {
   "cell_type": "code",
   "execution_count": 28,
   "metadata": {},
   "outputs": [
    {
     "name": "stdout",
     "output_type": "stream",
     "text": [
      "['s', 'd', 'r', 'c', 'o', 'i']\n",
      "['z', 'i', 'y', 'ł', 'a', 'o', 'u', 'ą', 'k', 'e', 'p', 'r']\n",
      "['c', 'r', 'd', 'y', 'i', 'a', 's', 'o', 'u']\n",
      "['z', 'i', 'k', 'j', 'h', 'l']\n",
      "['y', 'e', 'ę', 'o', 'a', 'u', 'i', 'ą', 'j']\n",
      "['ś', 'ź', 'ć', 'd', 'k', 'p', 's', 't', 'c', 'ż', 'ł']\n",
      "['c', 'n', 'l']\n",
      "['i']\n",
      "['e', 'ę', 'ą', 'a', 'o', 'ł', 'u']\n",
      "\n",
      "Słowo poprawne\n"
     ]
    }
   ],
   "source": [
    "ce.check_literowka(\"szczęście\", marginesbledu=4.7)"
   ]
  },
  {
   "cell_type": "code",
   "execution_count": 29,
   "metadata": {},
   "outputs": [
    {
     "name": "stdout",
     "output_type": "stream",
     "text": [
      "['s', 'c', 'r', 'd', 'o', 'i']\n",
      "['z', 'i', 'ł', 'o', 'u', 'y', 'a', 'k', 'e', 'p', 't']\n",
      "['c', 'r', 'd', 'y', 'i', 'a']\n",
      "['z', 'i', 'h', 'k', 'j']\n",
      "['y', 'e', 'ę', 'ą', 'o', 'a', 'i', 'u', 'j']\n",
      "['ś', 'd', 'k', 'ź', 'p', 't']\n",
      "['c', 'n', 'l', 'w']\n",
      "['i']\n",
      "['e', 'ę', 'ą', 'a', 'o', 'ł', 'u']\n",
      "\n",
      "Słowo poprawne\n"
     ]
    }
   ],
   "source": [
    "ce.check_literowka(\"szczęścię\", marginesbledu=4.7)"
   ]
  },
  {
   "cell_type": "code",
   "execution_count": 30,
   "metadata": {},
   "outputs": [
    {
     "name": "stdout",
     "output_type": "stream",
     "text": [
      "['s', 'r', 'd', 'c', 'o', 'i']\n",
      "['z', 'i', 'y', 'ł', 'a', 'o', 'ą', 'u', 'k', 'e', 'p']\n",
      "['c', 'r', 'd', 'y', 'i', 'a', 's']\n",
      "['z', 'i', 'k', 'h', 'j']\n",
      "['y', 'e', 'ę', 'o', 'a', 'u', 'i', 'ą', 'j']\n",
      "['ć', 'ź', 'ś', 'd', 'p', 'k', 's', 't', 'ż', 'ł', 'c']\n",
      "['c', 'n', 'l', 'w']\n",
      "['i']\n",
      "['n', 'ł', 'c', 'w', 'b', 'z', 'j', 'l', 's']\n",
      "['m', 'ż', 'j', 'ł', 'ś', 'n', 'k', 'ń', 'i', 'w', 'z', 'l']\n",
      "Błędne słowo\n"
     ]
    }
   ],
   "source": [
    "ce.check_literowka(\"szczęściee\", marginesbledu=4.7)"
   ]
  },
  {
   "cell_type": "code",
   "execution_count": 32,
   "metadata": {},
   "outputs": [
    {
     "name": "stdout",
     "output_type": "stream",
     "text": [
      "['z', 'ż', 'f', 'n', 's', 't', 'd', 'w', 'i', 'p', 'g', 'b', 'l', 'c', 'h', 'm', 'j']\n",
      "['a', 'o', 'u', 'e', 'i']\n",
      "['r', 'm', 'o', 'u', 'z', 'd', 'ł', 'l', 'i', 'a', 'j']\n",
      "['z', 'm', 'd', 'n', 'f', 'k', 'p', 't', 'u', 's', 'i', 'l', 'b', 'w', 'e', 'o', 'c']\n",
      "['y', 'a', 'e', 'o', 'u', 'i', 's']\n",
      "['ł', 'm', 'n', 't', 'k', 'l', 'g', 'r', 'w', 'j', 'd', 'c']\n",
      "['y', 'ę', 'ą', 'a', 'e', 'o', 'u', 'i']\n",
      "\n",
      "Słowo poprawne\n"
     ]
    }
   ],
   "source": [
    "ce.check_literowka(\"herbata\", marginesbledu=4.7)"
   ]
  },
  {
   "cell_type": "code",
   "execution_count": 34,
   "metadata": {},
   "outputs": [
    {
     "name": "stdout",
     "output_type": "stream",
     "text": [
      "['c', 'a', 'o']\n",
      "['a', 'o', 'u', 'e', 'i']\n",
      "['o', 'a', 'u', 'i', 'ę', 'r', 'ł', 'y', 'm', 'e']\n",
      "['z', 'm', 'u', 'f', 'i', 'w', 'd', 'k', 'l', 'p', 'o', 'a', 'e', 't', 'c', 'n', 'b', 'r']\n",
      "['e', 'y', 'a', 'o', 'ę', 'i', 'u']\n",
      "['ł', 't', 'n', 'm', 'k', 'l', 'g', 'w', 'r', 'j', 'c']\n",
      "['ę', 'y', 'a', 'ą', 'e', 'o', 'u', 'i']\n",
      "Błędne słowo\n"
     ]
    }
   ],
   "source": [
    "ce.check_literowka(\"hhrbata\", marginesbledu=4.7)"
   ]
  },
  {
   "cell_type": "code",
   "execution_count": 35,
   "metadata": {},
   "outputs": [
    {
     "name": "stdout",
     "output_type": "stream",
     "text": [
      "['o', 'u', 'e', 'a', 'z', 'l', 'i', 'r']\n",
      "['d', 'b', 'l', 'g', 'r', 'w', 'm', 'k', 'p', 'ż', 't', 'z']\n",
      "['l', 'n', 'o', 'm', 'w', 'e', 'r', 'a']\n",
      "['i', 'a', 'ą', 'u', 'o', 'ę', 'y', 'e']\n",
      "['e', 'ę', 's', 'a', 'c', 'o', 'ł']\n",
      "['k', 't', 'z', 'ł', 'm', 'i', 'p']\n",
      "['ą', 'i', 'a', 'ę', 'o', 'u']\n",
      "\n",
      "Słowo poprawne\n"
     ]
    }
   ],
   "source": [
    "ce.check_literowka(\"ognisko\", marginesbledu=4.7)"
   ]
  },
  {
   "cell_type": "code",
   "execution_count": 36,
   "metadata": {},
   "outputs": [
    {
     "name": "stdout",
     "output_type": "stream",
     "text": [
      "['o', 'd', 'u', 'a', 'r', 'e', 'n', 'z', 'ż', 'ł', 'b']\n",
      "['w', 'l', 'm', 'b', 'p', 'c', 'k', 'd', 's', 'n']\n",
      "['a', 'e', 'o', 'i']\n",
      "['ą', 'e', 'ę', 'a', 'ć', 'u', 'm', 'o', 'ł']\n",
      "Błędne słowo\n"
     ]
    }
   ],
   "source": [
    "ce.check_literowka(\"ogiń\", marginesbledu=4.7)"
   ]
  },
  {
   "cell_type": "code",
   "execution_count": 38,
   "metadata": {},
   "outputs": [
    {
     "name": "stdout",
     "output_type": "stream",
     "text": [
      "['z', 'u', 'd', 'o', 'r', 'a', 'e', 'ź', 'n', 'l', 'ł', 'b', 'w']\n",
      "['n', 'b', 'w', 'p', 'd', 'm', 'c', 's', 'k', 'f', 'r', 'l', 'g']\n",
      "['i', 'l', 'r', 'd', 'ł', 'w', 'n', 'z', 'ż', 'm']\n",
      "['e', 'a', 'o', 'u']\n",
      "['m', 'j', 'ż', 'ł', 'z', 'n', 'k', 'ń']\n",
      "\n",
      "Słowo poprawne\n"
     ]
    }
   ],
   "source": [
    "ce.check_literowka(\"ogień\", marginesbledu=4.8)"
   ]
  },
  {
   "cell_type": "code",
   "execution_count": 39,
   "metadata": {},
   "outputs": [
    {
     "name": "stdout",
     "output_type": "stream",
     "text": [
      "['w', 'b', 'n', 't', 'd', 's', 'z', 'm', 'r', 'p', 'c', 'ł']\n",
      "['u', 'a', 'i', 'o', 'y', 'r', 'b', 'e']\n",
      "['c', 's', 'd', 'r', 'g']\n",
      "['k', 't', 'z', 'p', 'i', 'n']\n",
      "['a', 'k', 'y', 'i', 'o', 'u', 't', 'w', 'e', 's', 'p']\n",
      "['r', 'n', 'ł', 'p', 'm', 'k', 'w', 'c', 'g', 'b', 't', 'l', 'd', 's', 'ż']\n",
      "['o', 'ó', 'e', 'a', 'y']\n",
      "['w', 'ł', 'ż', 'j', 'k', 'c']\n",
      "\n",
      "Słowo poprawne\n"
     ]
    }
   ],
   "source": [
    "ce.check_literowka(\"myszołów\", marginesbledu=4.7)"
   ]
  },
  {
   "cell_type": "code",
   "execution_count": 48,
   "metadata": {},
   "outputs": [
    {
     "name": "stdout",
     "output_type": "stream",
     "text": [
      "['n', 'r', 's', 'p', 'w', 'z', 'i', 'd', 'b', 't', 'k', 'm']\n",
      "['i', 'y', 'a', 'o', 'e', 'u']\n",
      "['r', 'n', 'k', 'l', 'd', 'z', 'j', 'w', 's', 'h', 'b', 't', 'o', 'u']\n",
      "['r', 't', 'n', 's', 'w', 'ł', 'c']\n",
      "['z', 'y', 'o', 'u', 'a', 'e', 'i', 't']\n",
      "['w', 'f', 'm', 't', 'k', 'c', 'p', 'n', 'j', 'b', 'l', 'd', 'r', 's']\n",
      "['a', 'i', 'o', 'b', 'u', 'e', 'f', 'g', 'y', 'k', 'p']\n",
      "['l', 'n', 'w', 'f', 'r', 'c', 'm', 'k', 't', 'g', 'b']\n",
      "['i', 'c', 's', 'o', 'a', 'e', 'u', 'g', 'ą', 'n']\n",
      "['t', 'z', 'k', 'n', 'f', 's', 'w', 'b', 'r', 'j', 'l', 'g', 'ż', 'm', 'c']\n",
      "['a', 'y', 'i', 'e', 'o', 'u']\n",
      "['c', 'u', 'z', 'b', 'i', 'w', 'a']\n",
      "['i', 'k', 'j', 'h', 'm', 'c', 'n', 'w']\n",
      "['ą', 'e', 'ó', 'o', 'u', 'm', 'a', 'k', 'i']\n",
      "\n",
      "Słowo poprawne\n"
     ]
    }
   ],
   "source": [
    "ce.check_literowka(\"maksymalizacja\", marginesbledu=6)"
   ]
  },
  {
   "cell_type": "code",
   "execution_count": 49,
   "metadata": {},
   "outputs": [
    {
     "name": "stdout",
     "output_type": "stream",
     "text": [
      "['p', 'n', 'k', 'r', 'z', 'm']\n",
      "['u', 'a', 'o', 'e', 'i']\n",
      "['d', 'n', 'w', 'l', 'z', 'ż', 't', 'g', 's', 'm', 'f', 'i']\n",
      "['e', 'o', 'a', 'y', 'u', 'ó']\n",
      "['r', 'l', 'g', 'a', 'ś', 'z', 'k', 'o', 't', 'i', 'u', 'm', 'n', 'p', 'f']\n",
      "['f', 'n', 'z', 'o', 'm', 'k', 'p', 'e', 'c', 'w', 'l', 'u', 'a', 's', 'b', 'g']\n",
      "['y', 'i', 'a', 'e', 'o', 'u']\n",
      "['e', 'a', 's', 'ę', 'o', 'u', 'z', 'k', 'ą', 'n']\n",
      "['z', 't', 'ł']\n",
      "['y', 'a', 'ę', 'o', 'e', 'ą', 'u']\n",
      "['c', 'w', 's', 'r']\n",
      "['z', 'i', 'j', 'a', 'h', 'e', 'o', 'y']\n",
      "['n', 'm', 'w', 'c', 'ł']\n",
      "['i', 'e', 'y', 'ą', 'o', 'a', 'ę', 'u']\n",
      "\n",
      "Słowo poprawne\n"
     ]
    }
   ],
   "source": [
    "ce.check_literowka(\"modernistyczny\", marginesbledu=4.7)"
   ]
  }
 ],
 "metadata": {
  "kernelspec": {
   "display_name": "Python 3",
   "language": "python",
   "name": "python3"
  },
  "language_info": {
   "codemirror_mode": {
    "name": "ipython",
    "version": 3
   },
   "file_extension": ".py",
   "mimetype": "text/x-python",
   "name": "python",
   "nbconvert_exporter": "python",
   "pygments_lexer": "ipython3",
   "version": "3.7.3"
  }
 },
 "nbformat": 4,
 "nbformat_minor": 2
}
