{
 "cells": [
  {
   "cell_type": "code",
   "execution_count": 1,
   "metadata": {},
   "outputs": [],
   "source": [
    "import numpy as np\n",
    "import torch"
   ]
  },
  {
   "cell_type": "code",
   "execution_count": 2,
   "metadata": {},
   "outputs": [
    {
     "name": "stdout",
     "output_type": "stream",
     "text": [
      "single\n"
     ]
    }
   ],
   "source": [
    "xx = \"😆\"\n",
    "\n",
    "\n",
    "\n",
    "if xx == '😆😆':\n",
    "    print('double')\n",
    "\n",
    "if xx == '😆':\n",
    "    print('single')"
   ]
  },
  {
   "cell_type": "code",
   "execution_count": 3,
   "metadata": {},
   "outputs": [
    {
     "name": "stdout",
     "output_type": "stream",
     "text": [
      "count 17\n",
      "div 2\n",
      "reszta 1\n"
     ]
    }
   ],
   "source": [
    "vectors = [\"a\", \"b\", \"c\", \"d\", \"e\", \"f\", \"g\", \"h\", \"i\", \"j\", \"k\", \"l\", \"m\", \"n\", \"x\", \"z\", \"d\"]\n",
    "\n",
    "\n",
    "print(\"count\", len(vectors))\n",
    "print(\"div\", int(len(vectors)/8))\n",
    "print(\"reszta\", len(vectors)%8)"
   ]
  },
  {
   "cell_type": "code",
   "execution_count": 4,
   "metadata": {},
   "outputs": [
    {
     "name": "stdout",
     "output_type": "stream",
     "text": [
      "['a', 'b', 'c']\n",
      "['d', 'e']\n",
      "['f', 'g']\n",
      "['h', 'i']\n",
      "['j', 'k']\n",
      "['l', 'm']\n",
      "['n', 'x']\n",
      "['z', 'd']\n"
     ]
    }
   ],
   "source": [
    "val = 0\n",
    "for x in range(8):\n",
    "    startval = val\n",
    "    if x < len(vectors)%8:\n",
    "        endval = val+int(len(vectors)/8)\n",
    "        val=val+int(len(vectors)/8)+1\n",
    "    else:\n",
    "        endval = val+int(len(vectors)/8)-1\n",
    "        val=val+int(len(vectors)/8)\n",
    "        \n",
    "    print(vectors[startval:endval+1])"
   ]
  },
  {
   "cell_type": "code",
   "execution_count": 10,
   "metadata": {},
   "outputs": [
    {
     "name": "stdout",
     "output_type": "stream",
     "text": [
      "0\n",
      "1\n"
     ]
    }
   ],
   "source": [
    "for x in range(0,2):\n",
    "    print(x)"
   ]
  },
  {
   "cell_type": "code",
   "execution_count": 8,
   "metadata": {},
   "outputs": [
    {
     "name": "stdout",
     "output_type": "stream",
     "text": [
      "1\n",
      "[2 1 0 0 0 0 1 1 1 2 2 2 1 2 0 0 1 2 1 0 2 2 0]\n",
      "[1]\n"
     ]
    }
   ],
   "source": [
    "testvec = np.array([2, 1, 0, 0, 0, 0, 1, 1, 1, 2, 2, 2, 1, 2, 0, 0, 1, 2, 1, 0, 2, 2, 0, 1])\n",
    "\n",
    "batchsize = 23\n",
    "reszta = len(testvec)%batchsize\n",
    "print(reszta)\n",
    "\n",
    "for x in range(int(len(testvec)/batchsize)):\n",
    "    print(testvec[x*batchsize:x*batchsize+batchsize])\n",
    "if reszta != 0:\n",
    "    print(testvec[x*batchsize+batchsize:])\n"
   ]
  },
  {
   "cell_type": "code",
   "execution_count": 2,
   "metadata": {},
   "outputs": [
    {
     "name": "stdout",
     "output_type": "stream",
     "text": [
      "<built-in method keys of dict object at 0x000001C1077C3288>\n"
     ]
    }
   ],
   "source": [
    "slownik = {'1': 0, '2': 1, '3': 2, '4': 3, '5': 4, '6': 5, 'a': 6, 'b': 7, 'c': 8, 'd': 9, 'e': 10, 'g': 11, 'h': 12, 'i': 13, 'j': 14, 'k': 15, 'l': 16, 'm': 17, 'n': 18, 'o': 19, 'p': 20, 'q': 21, 'r': 22, 's': 23, 't': 24, 'u': 25, 'w': 26, 'y': 27, 'z': 28}\n",
    "\n",
    "print(slownik.keys)"
   ]
  },
  {
   "cell_type": "code",
   "execution_count": null,
   "metadata": {},
   "outputs": [],
   "source": []
  }
 ],
 "metadata": {
  "kernelspec": {
   "display_name": "Python 3",
   "language": "python",
   "name": "python3"
  },
  "language_info": {
   "codemirror_mode": {
    "name": "ipython",
    "version": 3
   },
   "file_extension": ".py",
   "mimetype": "text/x-python",
   "name": "python",
   "nbconvert_exporter": "python",
   "pygments_lexer": "ipython3",
   "version": "3.7.3"
  }
 },
 "nbformat": 4,
 "nbformat_minor": 2
}
