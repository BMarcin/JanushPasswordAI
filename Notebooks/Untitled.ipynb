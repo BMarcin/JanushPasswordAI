{
 "cells": [
  {
   "cell_type": "code",
   "execution_count": 1,
   "metadata": {},
   "outputs": [],
   "source": [
    "import tqdm\n",
    "import random"
   ]
  },
  {
   "cell_type": "code",
   "execution_count": 2,
   "metadata": {},
   "outputs": [],
   "source": [
    "plikglowny = open(\"../polski.txt\", encoding=\"utf8\")\n",
    "\n",
    "linie1 = plikglowny.readlines()\n",
    "\n",
    "plikglowny.close()\n",
    "\n",
    "linie1 = [linia.replace(\"\\n\", \"\") for linia in linie1]"
   ]
  },
  {
   "cell_type": "code",
   "execution_count": 3,
   "metadata": {},
   "outputs": [],
   "source": [
    "slowa = []\n",
    "\n",
    "while len(slowa) < 18000:\n",
    "    los = random.randint(0, len(linie1)-1)\n",
    "    \n",
    "    if linie1[los] not in slowa:\n",
    "        slowa.append(linie1[los])"
   ]
  },
  {
   "cell_type": "code",
   "execution_count": 4,
   "metadata": {},
   "outputs": [],
   "source": [
    "zapis = open(\"../polski-18k.txt\", \"w\", encoding=\"utf8\")\n",
    "\n",
    "for linia in slowa:\n",
    "    zapis.write(linia + \"\\n\")\n",
    "    \n",
    "zapis.close()"
   ]
  },
  {
   "cell_type": "code",
   "execution_count": null,
   "metadata": {},
   "outputs": [],
   "source": []
  }
 ],
 "metadata": {
  "kernelspec": {
   "display_name": "Python 3",
   "language": "python",
   "name": "python3"
  },
  "language_info": {
   "codemirror_mode": {
    "name": "ipython",
    "version": 3
   },
   "file_extension": ".py",
   "mimetype": "text/x-python",
   "name": "python",
   "nbconvert_exporter": "python",
   "pygments_lexer": "ipython3",
   "version": "3.7.3"
  }
 },
 "nbformat": 4,
 "nbformat_minor": 2
}
