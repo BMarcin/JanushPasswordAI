{
 "cells": [
  {
   "cell_type": "code",
   "execution_count": 1,
   "metadata": {},
   "outputs": [],
   "source": [
    "%matplotlib widget\n",
    "import numpy as np\n",
    "import math\n",
    "import torch\n",
    "import torch.nn as nn\n",
    "from torch import optim\n",
    "import torch.nn.functional as F\n",
    "\n",
    "import random\n",
    "\n",
    "import matplotlib.pyplot as plt\n",
    "\n",
    "import re\n",
    "\n",
    "from tqdm import tqdm\n",
    "from tqdm import tnrange, tqdm_notebook\n",
    "\n",
    "from joblib import Parallel, delayed\n",
    "import multiprocessing\n",
    "from datetime import datetime"
   ]
  },
  {
   "cell_type": "code",
   "execution_count": 2,
   "metadata": {},
   "outputs": [],
   "source": [
    "lstm = nn.LSTM(5, 5)"
   ]
  },
  {
   "cell_type": "code",
   "execution_count": 3,
   "metadata": {},
   "outputs": [],
   "source": [
    "ins = [torch.Tensor([[[1, 0, 0, 0, 0]]]),\n",
    "       torch.Tensor([[[0, 1, 0, 0, 0]]]),\n",
    "       torch.Tensor([[[0, 0, 1, 0, 0]]]),\n",
    "       torch.Tensor([[[0, 0, 1, 0, 0]]]),\n",
    "       torch.Tensor([[[0, 0, 0, 1, 0]]])]"
   ]
  },
  {
   "cell_type": "code",
   "execution_count": 4,
   "metadata": {},
   "outputs": [],
   "source": [
    "hiddens = (torch.rand(1, 1,5), torch.rand(1, 1,5))"
   ]
  },
  {
   "cell_type": "code",
   "execution_count": 5,
   "metadata": {},
   "outputs": [
    {
     "name": "stdout",
     "output_type": "stream",
     "text": [
      "tensor([[[ 0.0786, -0.0476,  0.0968,  0.0770,  0.2617]]],\n",
      "       grad_fn=<StackBackward>)\n",
      "tensor([[[ 0.0470, -0.0168,  0.0808,  0.1874,  0.1915]]],\n",
      "       grad_fn=<StackBackward>)\n",
      "tensor([[[0.0424, 0.0274, 0.0344, 0.2388, 0.1601]]], grad_fn=<StackBackward>)\n",
      "tensor([[[0.0424, 0.0274, 0.0344, 0.2388, 0.1601]]], grad_fn=<StackBackward>)\n",
      "tensor([[[0.0575, 0.0530, 0.1741, 0.2025, 0.2021]]], grad_fn=<StackBackward>)\n"
     ]
    }
   ],
   "source": [
    "for i in ins:\n",
    "    y_, hid_ = lstm(i, hiddens)\n",
    "    print(y_)"
   ]
  },
  {
   "cell_type": "code",
   "execution_count": null,
   "metadata": {},
   "outputs": [],
   "source": []
  },
  {
   "cell_type": "code",
   "execution_count": null,
   "metadata": {},
   "outputs": [],
   "source": []
  },
  {
   "cell_type": "code",
   "execution_count": null,
   "metadata": {},
   "outputs": [],
   "source": []
  },
  {
   "cell_type": "code",
   "execution_count": null,
   "metadata": {},
   "outputs": [],
   "source": []
  },
  {
   "cell_type": "code",
   "execution_count": 6,
   "metadata": {},
   "outputs": [],
   "source": [
    "class StackedLSTM(nn.Module):\n",
    "    def __init__(self):\n",
    "        super(StackedLSTM, self).__init__()\n",
    "        \n",
    "        self.LSTM11 = nn.LSTM(5, 5)\n",
    "        self.LSTM12 = nn.LSTM(5, 5)\n",
    "        self.LSTM13 = nn.LSTM(5, 5)\n",
    "        self.LSTM14 = nn.LSTM(5, 5)\n",
    "        self.LSTM15 = nn.LSTM(5, 5)\n",
    "        \n",
    "        self.LSTM21 = nn.LSTM(5, 5)\n",
    "        self.LSTM22 = nn.LSTM(5, 5)\n",
    "        self.LSTM23 = nn.LSTM(5, 5)\n",
    "        self.LSTM24 = nn.LSTM(5, 5)\n",
    "        self.LSTM25 = nn.LSTM(5, 5)\n",
    "        \n",
    "        self.lin1 = nn.Linear(5, 5)\n",
    "        self.lin2 = nn.Linear(5, 5)\n",
    "        self.lin3 = nn.Linear(5, 5)\n",
    "        self.lin4 = nn.Linear(5, 5)\n",
    "        self.lin5 = nn.Linear(5, 5)\n",
    "        \n",
    "    def forward(self, x1, x2, x3, x4, x5, hidden):\n",
    "        # pierwsza warstwa LSTM\n",
    "        y11_, h11_ = self.LSTM11(x1, hidden)\n",
    "        y12_, h12_ = self.LSTM12(x2, h11_)\n",
    "        y13_, h13_ = self.LSTM13(x3, h12_)\n",
    "        y14_, h14_ = self.LSTM14(x4, h13_)\n",
    "        y15_, h15_ = self.LSTM15(x5, h14_)\n",
    "        \n",
    "        \n",
    "        # residuals\n",
    "        y11 = y11_ * x1\n",
    "        y12 = y12_ * x2\n",
    "        y13 = y13_ * x3\n",
    "        y14 = y14_ * x4\n",
    "        y15 = y15_ * x5\n",
    "        \n",
    "        \n",
    "        # druga warstwa LSTM\n",
    "        y21_, h21_ = self.LSTM21(y11, h15_)\n",
    "        y22_, h22_ = self.LSTM22(y12, h21_)\n",
    "        y23_, h23_ = self.LSTM23(y13, h22_)\n",
    "        y24_, h24_ = self.LSTM24(y14, h23_)\n",
    "        y25_, h25_ = self.LSTM25(y15, h24_)\n",
    "        \n",
    "        \n",
    "        # residuals\n",
    "        y21 = y21_ * y11 * x1\n",
    "        y22 = y22_ * y12 * x2\n",
    "        y23 = y23_ * y13 * x3\n",
    "        y24 = y24_ * y14 * x4\n",
    "        y25 = y25_ * y15 * x5\n",
    "        \n",
    "        \n",
    "        # linear\n",
    "        y31 = self.lin1(y21)\n",
    "        y32 = self.lin2(y22)\n",
    "        y33 = self.lin3(y23)\n",
    "        y34 = self.lin4(y24)\n",
    "        y35 = self.lin5(y25)\n",
    "        \n",
    "        \n",
    "        # zwrot\n",
    "        return torch.cat((y31, y32, y33, y34, y35)).reshape(5, -1) "
   ]
  },
  {
   "cell_type": "code",
   "execution_count": 7,
   "metadata": {},
   "outputs": [],
   "source": [
    "slstm = StackedLSTM()"
   ]
  },
  {
   "cell_type": "code",
   "execution_count": 8,
   "metadata": {},
   "outputs": [],
   "source": [
    "hidden = (torch.rand((1, 1, 5)), torch.rand((1, 1, 5)))"
   ]
  },
  {
   "cell_type": "code",
   "execution_count": 9,
   "metadata": {},
   "outputs": [],
   "source": [
    "x1 = torch.Tensor([[[1, 0, 0, 0, 0]]]) #h\n",
    "x2 = torch.Tensor([[[0, 1, 0, 0, 0]]]) #e\n",
    "x3 = torch.Tensor([[[0, 0, 1, 0, 0]]]) #l\n",
    "x4 = torch.Tensor([[[0, 0, 1, 0, 0]]]) #l\n",
    "x5 = torch.Tensor([[[0, 0, 0, 1, 0]]]) #o\n",
    "\n",
    "x0 = torch.Tensor([[[0, 0, 0, 0, 0]]])"
   ]
  },
  {
   "cell_type": "code",
   "execution_count": 10,
   "metadata": {},
   "outputs": [],
   "source": [
    "y = torch.Tensor([1, 2, 0, 0, 0]).long()"
   ]
  },
  {
   "cell_type": "code",
   "execution_count": 11,
   "metadata": {},
   "outputs": [
    {
     "data": {
      "text/plain": [
       "tensor([[-0.3294,  0.2955, -0.1982, -0.3178,  0.0461],\n",
       "        [ 0.2792, -0.4267,  0.3806, -0.4317, -0.2708],\n",
       "        [ 0.0957,  0.0579,  0.0309,  0.0004,  0.1527],\n",
       "        [-0.4397,  0.3471,  0.2232, -0.1855, -0.1130],\n",
       "        [-0.3142, -0.4397, -0.2017,  0.2163,  0.2909]],\n",
       "       grad_fn=<AsStridedBackward>)"
      ]
     },
     "execution_count": 11,
     "metadata": {},
     "output_type": "execute_result"
    }
   ],
   "source": [
    "out_ = slstm(x1, x2, x3, x4, x5, hidden); out_"
   ]
  },
  {
   "cell_type": "code",
   "execution_count": 12,
   "metadata": {},
   "outputs": [],
   "source": [
    "criterion = nn.CrossEntropyLoss()\n",
    "optimizer = optim.Adam(slstm.parameters(), lr=1e-3)"
   ]
  },
  {
   "cell_type": "code",
   "execution_count": 13,
   "metadata": {},
   "outputs": [
    {
     "data": {
      "text/plain": [
       "tensor(1.5913, grad_fn=<NllLossBackward>)"
      ]
     },
     "execution_count": 13,
     "metadata": {},
     "output_type": "execute_result"
    }
   ],
   "source": [
    "criterion(out_, y)"
   ]
  },
  {
   "cell_type": "code",
   "execution_count": 14,
   "metadata": {},
   "outputs": [
    {
     "name": "stdout",
     "output_type": "stream",
     "text": [
      "tensor(1.5913, grad_fn=<NllLossBackward>)\n",
      "tensor(1.3932, grad_fn=<NllLossBackward>)\n",
      "tensor(0.8944, grad_fn=<NllLossBackward>)\n",
      "tensor(0.6207, grad_fn=<NllLossBackward>)\n",
      "tensor(0.4611, grad_fn=<NllLossBackward>)\n",
      "tensor(0.3558, grad_fn=<NllLossBackward>)\n",
      "tensor(0.2821, grad_fn=<NllLossBackward>)\n",
      "tensor(0.2287, grad_fn=<NllLossBackward>)\n",
      "tensor(0.1888, grad_fn=<NllLossBackward>)\n",
      "tensor(0.1583, grad_fn=<NllLossBackward>)\n",
      "tensor(0.1346, grad_fn=<NllLossBackward>)\n",
      "tensor(0.1157, grad_fn=<NllLossBackward>)\n"
     ]
    }
   ],
   "source": [
    "for epoch in range(1200):\n",
    "    slstm.train()\n",
    "    optimizer.zero_grad()\n",
    "    \n",
    "    out_ = slstm(x1, x2, x3, x4, x5, hidden)\n",
    "    loss = criterion(out_, y)\n",
    "    \n",
    "    loss.backward()\n",
    "    optimizer.step()\n",
    "    \n",
    "    if epoch%100==0:\n",
    "        print(loss)"
   ]
  },
  {
   "cell_type": "code",
   "execution_count": 15,
   "metadata": {},
   "outputs": [
    {
     "name": "stdout",
     "output_type": "stream",
     "text": [
      "tensor([[-1.9137,  1.9453, -2.0253, -1.8936, -1.7205],\n",
      "        [-1.4611, -2.1103,  2.2152, -1.7508, -1.8543],\n",
      "        [ 1.8120, -1.9558, -1.6842, -1.8843, -1.9513],\n",
      "        [ 1.4069, -1.7909, -1.8340, -2.0481, -2.2379],\n",
      "        [ 0.3938, -1.1962, -0.9639, -0.3831, -0.4286]])\n",
      "tensor([1, 2, 0, 0, 0])\n"
     ]
    }
   ],
   "source": [
    "with torch.no_grad():\n",
    "    y_ = slstm(x1, x2, x3, x4, x0, hidden)\n",
    "    \n",
    "    print(y_)\n",
    "    \n",
    "    print(y_.argmax(1))"
   ]
  },
  {
   "cell_type": "code",
   "execution_count": 16,
   "metadata": {},
   "outputs": [
    {
     "name": "stdout",
     "output_type": "stream",
     "text": [
      "tensor([[-1.0497,  0.9904, -0.8656, -1.0399, -0.6346],\n",
      "        [-0.7189, -1.4146,  1.4355, -1.3521, -1.2406],\n",
      "        [ 1.0082, -0.9056, -0.9234, -0.9597, -0.8126],\n",
      "        [ 1.0191, -1.2957, -1.3737, -1.6707, -1.7484],\n",
      "        [ 0.3938, -1.1962, -0.9639, -0.3831, -0.4286]])\n",
      "tensor([1, 2, 0, 0, 0])\n"
     ]
    }
   ],
   "source": [
    "hidden2 = (torch.randn((1, 1, 5)), torch.randn((1, 1, 5)))\n",
    "\n",
    "with torch.no_grad():\n",
    "    y_ = slstm(x1, x2, x3, x4, x0, hidden2)\n",
    "    \n",
    "    print(y_)\n",
    "    \n",
    "    print(y_.argmax(1))"
   ]
  },
  {
   "cell_type": "code",
   "execution_count": null,
   "metadata": {},
   "outputs": [],
   "source": []
  },
  {
   "cell_type": "code",
   "execution_count": null,
   "metadata": {},
   "outputs": [],
   "source": []
  },
  {
   "cell_type": "code",
   "execution_count": null,
   "metadata": {},
   "outputs": [],
   "source": []
  },
  {
   "cell_type": "code",
   "execution_count": null,
   "metadata": {},
   "outputs": [],
   "source": []
  },
  {
   "cell_type": "code",
   "execution_count": null,
   "metadata": {},
   "outputs": [],
   "source": []
  },
  {
   "cell_type": "markdown",
   "metadata": {},
   "source": [
    "## Real life"
   ]
  },
  {
   "cell_type": "code",
   "execution_count": 17,
   "metadata": {},
   "outputs": [
    {
     "name": "stdout",
     "output_type": "stream",
     "text": [
      "['abmicro', '527579']\n",
      "100000\n"
     ]
    }
   ],
   "source": [
    "polskie = open(\"../100k.txt\", encoding='utf8')\n",
    "slowa = [slowo.replace(\"\\n\", \"\") for slowo in polskie.readlines()]\n",
    "polskie.close()\n",
    "print(slowa[:2])\n",
    "print(len(slowa))\n",
    "slowa = slowa[:5000]"
   ]
  },
  {
   "cell_type": "code",
   "execution_count": 18,
   "metadata": {},
   "outputs": [],
   "source": [
    "chartoidx = {}\n",
    "\n",
    "\n",
    "cnt = 0\n",
    "\n",
    "longestword = 0\n",
    "\n",
    "for slowo in slowa:\n",
    "    if len(slowo) > longestword:\n",
    "        longestword = len(slowo)\n",
    "    \n",
    "    \n",
    "    for litera in slowo:\n",
    "        if litera not in list(chartoidx.keys()):\n",
    "            chartoidx[litera] = cnt\n",
    "            cnt = cnt + 1\n",
    "            \n",
    "            \n",
    "chartoidx[\"<END>\"] = cnt"
   ]
  },
  {
   "cell_type": "code",
   "execution_count": 19,
   "metadata": {},
   "outputs": [
    {
     "data": {
      "text/plain": [
       "{'a': 0,\n",
       " 'b': 1,\n",
       " 'm': 2,\n",
       " 'i': 3,\n",
       " 'c': 4,\n",
       " 'r': 5,\n",
       " 'o': 6,\n",
       " '5': 7,\n",
       " '2': 8,\n",
       " '7': 9,\n",
       " '9': 10,\n",
       " 'g': 11,\n",
       " '0': 12,\n",
       " '1': 13,\n",
       " 'n': 14,\n",
       " 'k': 15,\n",
       " 'h': 16,\n",
       " 'd': 17,\n",
       " 'u': 18,\n",
       " 't': 19,\n",
       " '8': 20,\n",
       " 'p': 21,\n",
       " '3': 22,\n",
       " 'l': 23,\n",
       " 's': 24,\n",
       " 'z': 25,\n",
       " '4': 26,\n",
       " 'e': 27,\n",
       " 'w': 28,\n",
       " 'x': 29,\n",
       " 'Z': 30,\n",
       " '6': 31,\n",
       " 'C': 32,\n",
       " 'y': 33,\n",
       " 'j': 34,\n",
       " 'f': 35,\n",
       " 'v': 36,\n",
       " 'F': 37,\n",
       " 'P': 38,\n",
       " 'R': 39,\n",
       " 'O': 40,\n",
       " 'T': 41,\n",
       " 'A': 42,\n",
       " 'X': 43,\n",
       " 'L': 44,\n",
       " 'E': 45,\n",
       " 'S': 46,\n",
       " 'I': 47,\n",
       " 'K': 48,\n",
       " 'N': 49,\n",
       " 'D': 50,\n",
       " 'M': 51,\n",
       " 'q': 52,\n",
       " 'H': 53,\n",
       " 'U': 54,\n",
       " 'J': 55,\n",
       " 'Q': 56,\n",
       " 'G': 57,\n",
       " 'W': 58,\n",
       " 'B': 59,\n",
       " 'V': 60,\n",
       " 'Y': 61,\n",
       " '@': 62,\n",
       " '.': 63,\n",
       " '#': 64,\n",
       " '<END>': 65}"
      ]
     },
     "execution_count": 19,
     "metadata": {},
     "output_type": "execute_result"
    }
   ],
   "source": [
    "chartoidx"
   ]
  },
  {
   "cell_type": "code",
   "execution_count": 20,
   "metadata": {},
   "outputs": [
    {
     "data": {
      "text/plain": [
       "(5000, 15, 66)"
      ]
     },
     "execution_count": 20,
     "metadata": {},
     "output_type": "execute_result"
    }
   ],
   "source": [
    "slowatranslated = np.zeros((len(slowa), longestword, len(list(chartoidx.keys())))); slowatranslated.shape"
   ]
  },
  {
   "cell_type": "code",
   "execution_count": 21,
   "metadata": {},
   "outputs": [
    {
     "data": {
      "text/plain": [
       "(5000, 15, 1)"
      ]
     },
     "execution_count": 21,
     "metadata": {},
     "output_type": "execute_result"
    }
   ],
   "source": [
    "outputs = np.zeros((len(slowa), longestword, 1)); outputs.shape"
   ]
  },
  {
   "cell_type": "code",
   "execution_count": 22,
   "metadata": {},
   "outputs": [
    {
     "name": "stdout",
     "output_type": "stream",
     "text": [
      "Ilość komórek w warstwie:  15\n",
      "word_dimensions 66\n",
      "words_dimension 5000\n"
     ]
    }
   ],
   "source": [
    "word_dimensions = len(list(chartoidx.keys()))\n",
    "words_dimension = len(slowa)\n",
    "\n",
    "print(\"Ilość komórek w warstwie: \", longestword)\n",
    "\n",
    "print(\"word_dimensions\", word_dimensions)\n",
    "print(\"words_dimension\", words_dimension)"
   ]
  },
  {
   "cell_type": "code",
   "execution_count": 23,
   "metadata": {},
   "outputs": [],
   "source": [
    "for cnt, slowo in enumerate(slowa):\n",
    "    for cn2, litera in enumerate(slowo):\n",
    "        slowatranslated[cnt, cn2, chartoidx[litera]] = 1\n",
    "#         print(\"ins\", litera)\n",
    "        if cn2+1 < len(slowo):\n",
    "            outputs[cnt, cn2] = chartoidx[slowo[cn2+1]]\n",
    "#             print(\"outs\", slowo[cn2+1])\n",
    "    outputs[cnt, cn2] = chartoidx[\"<END>\"]\n",
    "#     print(\"\\n\\n\")\n",
    "\n",
    "outputs = outputs.reshape(len(slowa), longestword)"
   ]
  },
  {
   "cell_type": "code",
   "execution_count": 24,
   "metadata": {},
   "outputs": [
    {
     "name": "stdout",
     "output_type": "stream",
     "text": [
      "[[[1. 0. 0. ... 0. 0. 0.]\n",
      "  [0. 1. 0. ... 0. 0. 0.]\n",
      "  [0. 0. 1. ... 0. 0. 0.]\n",
      "  ...\n",
      "  [0. 0. 0. ... 0. 0. 0.]\n",
      "  [0. 0. 0. ... 0. 0. 0.]\n",
      "  [0. 0. 0. ... 0. 0. 0.]]\n",
      "\n",
      " [[0. 0. 0. ... 0. 0. 0.]\n",
      "  [0. 0. 0. ... 0. 0. 0.]\n",
      "  [0. 0. 0. ... 0. 0. 0.]\n",
      "  ...\n",
      "  [0. 0. 0. ... 0. 0. 0.]\n",
      "  [0. 0. 0. ... 0. 0. 0.]\n",
      "  [0. 0. 0. ... 0. 0. 0.]]]\n"
     ]
    }
   ],
   "source": [
    "print(slowatranslated[0:2])"
   ]
  },
  {
   "cell_type": "code",
   "execution_count": 25,
   "metadata": {},
   "outputs": [
    {
     "name": "stdout",
     "output_type": "stream",
     "text": [
      "[[ 1.  2.  3. ...  0.  0.  0.]\n",
      " [ 8.  9.  7. ...  0.  0.  0.]\n",
      " [11.  5.  6. ...  0.  0.  0.]\n",
      " ...\n",
      " [ 0. 35.  3. ...  0.  0.  0.]\n",
      " [12. 12. 10. ...  0.  0.  0.]\n",
      " [18.  4. 34. ...  0.  0.  0.]]\n"
     ]
    }
   ],
   "source": [
    "print(outputs)"
   ]
  },
  {
   "cell_type": "code",
   "execution_count": 29,
   "metadata": {},
   "outputs": [],
   "source": [
    "class CharacterLSTM(nn.Module):\n",
    "    def __init__(self, word_dimensions, words_dimension):\n",
    "        super(CharacterLSTM, self).__init__()\n",
    "        \n",
    "        self.word_dimensions = word_dimensions\n",
    "        self.words_dimension = words_dimension\n",
    "        \n",
    "        self.LSTM_11 = nn.LSTM(word_dimensions, word_dimensions)\n",
    "        self.LSTM_12 = nn.LSTM(word_dimensions, word_dimensions)\n",
    "        self.LSTM_13 = nn.LSTM(word_dimensions, word_dimensions)\n",
    "        self.LSTM_14 = nn.LSTM(word_dimensions, word_dimensions)\n",
    "        self.LSTM_15 = nn.LSTM(word_dimensions, word_dimensions)\n",
    "        self.LSTM_16 = nn.LSTM(word_dimensions, word_dimensions)\n",
    "        self.LSTM_17 = nn.LSTM(word_dimensions, word_dimensions)\n",
    "        self.LSTM_18 = nn.LSTM(word_dimensions, word_dimensions)\n",
    "        self.LSTM_19 = nn.LSTM(word_dimensions, word_dimensions)\n",
    "        self.LSTM_110 = nn.LSTM(word_dimensions, word_dimensions)\n",
    "        self.LSTM_111 = nn.LSTM(word_dimensions, word_dimensions)\n",
    "        self.LSTM_112 = nn.LSTM(word_dimensions, word_dimensions)\n",
    "        self.LSTM_113 = nn.LSTM(word_dimensions, word_dimensions)\n",
    "        self.LSTM_114 = nn.LSTM(word_dimensions, word_dimensions)\n",
    "        self.LSTM_115 = nn.LSTM(word_dimensions, word_dimensions)\n",
    "        \n",
    "        \n",
    "        self.LSTM_21 = nn.LSTM(word_dimensions, word_dimensions)\n",
    "        self.LSTM_22 = nn.LSTM(word_dimensions, word_dimensions)\n",
    "        self.LSTM_23 = nn.LSTM(word_dimensions, word_dimensions)\n",
    "        self.LSTM_24 = nn.LSTM(word_dimensions, word_dimensions)\n",
    "        self.LSTM_25 = nn.LSTM(word_dimensions, word_dimensions)\n",
    "        self.LSTM_26 = nn.LSTM(word_dimensions, word_dimensions)\n",
    "        self.LSTM_27 = nn.LSTM(word_dimensions, word_dimensions)\n",
    "        self.LSTM_28 = nn.LSTM(word_dimensions, word_dimensions)\n",
    "        self.LSTM_28 = nn.LSTM(word_dimensions, word_dimensions)\n",
    "        self.LSTM_210 = nn.LSTM(word_dimensions, word_dimensions)\n",
    "        self.LSTM_211 = nn.LSTM(word_dimensions, word_dimensions)\n",
    "        self.LSTM_212 = nn.LSTM(word_dimensions, word_dimensions)\n",
    "        self.LSTM_213 = nn.LSTM(word_dimensions, word_dimensions)\n",
    "        self.LSTM_214 = nn.LSTM(word_dimensions, word_dimensions)\n",
    "        self.LSTM_215 = nn.LSTM(word_dimensions, word_dimensions)\n",
    "        \n",
    "        \n",
    "        self.drop = nn.Dropout(p=0.01)\n",
    "        self.norm = nn.LayerNorm(word_dimensions)\n",
    "        \n",
    "        \n",
    "        self.lin_1 = nn.Linear(word_dimensions, word_dimensions)\n",
    "        self.lin_2 = nn.Linear(word_dimensions, word_dimensions)\n",
    "        self.lin_3 = nn.Linear(word_dimensions, word_dimensions)\n",
    "        self.lin_4 = nn.Linear(word_dimensions, word_dimensions)\n",
    "        self.lin_5 = nn.Linear(word_dimensions, word_dimensions)\n",
    "        self.lin_6 = nn.Linear(word_dimensions, word_dimensions)\n",
    "        self.lin_7 = nn.Linear(word_dimensions, word_dimensions)\n",
    "        self.lin_8 = nn.Linear(word_dimensions, word_dimensions)\n",
    "        self.lin_9 = nn.Linear(word_dimensions, word_dimensions)\n",
    "        self.lin_10 = nn.Linear(word_dimensions, word_dimensions)\n",
    "        self.lin_11 = nn.Linear(word_dimensions, word_dimensions)\n",
    "        self.lin_12 = nn.Linear(word_dimensions, word_dimensions)\n",
    "        self.lin_13 = nn.Linear(word_dimensions, word_dimensions)\n",
    "        self.lin_14 = nn.Linear(word_dimensions, word_dimensions)\n",
    "        self.lin_15 = nn.Linear(word_dimensions, word_dimensions)\n",
    "        \n",
    "    def forward(self, x1, x2, x3, x4, x5, x6, x7, x8, x9, x10, x11, x12, x13, x14, x15, hidden):\n",
    "        # pierwsza warstwa LSTM\n",
    "        y11_, h11_ = self.LSTM_11(x1, hidden)\n",
    "        y12_, h12_ = self.LSTM_12(x2, h11_)\n",
    "        y13_, h13_ = self.LSTM_13(x3, h12_)\n",
    "        y14_, h14_ = self.LSTM_14(x4, h13_)\n",
    "        y15_, h15_ = self.LSTM_15(x5, h14_)\n",
    "        y16_, h16_ = self.LSTM_16(x6, h15_)\n",
    "        y17_, h17_ = self.LSTM_17(x7, h16_)\n",
    "        y18_, h18_ = self.LSTM_18(x8, h17_)\n",
    "        y19_, h19_ = self.LSTM_19(x9, h18_)\n",
    "        y110_, h110_ = self.LSTM_110(x10, h19_)\n",
    "        y111_, h111_ = self.LSTM_111(x11, h110_)\n",
    "        y112_, h112_ = self.LSTM_112(x12, h111_)\n",
    "        y113_, h113_ = self.LSTM_113(x13, h112_)\n",
    "        y114_, h114_ = self.LSTM_114(x14, h113_)\n",
    "        y115_, h115_ = self.LSTM_115(x15, h114_)\n",
    "        \n",
    "        \n",
    "        # residuals\n",
    "        y11 = y11_ * x1\n",
    "        y12 = y12_ * x2\n",
    "        y13 = y13_ * x3\n",
    "        y14 = y14_ * x4\n",
    "        y15 = y15_ * x5\n",
    "        y16 = y16_ * x6\n",
    "        y17 = y17_ * x7\n",
    "        y18 = y18_ * x8\n",
    "        y19 = y19_ * x9\n",
    "        y110 = y110_ * x10\n",
    "        y111 = y111_ * x11\n",
    "        y112 = y112_ * x12\n",
    "        y113 = y113_ * x13\n",
    "        y114 = y114_ * x14\n",
    "        y115 = y115_ * x15\n",
    "        \n",
    "        \n",
    "        # druga warstwa LSTM\n",
    "        y21_, h21_ = self.LSTM_21(y11, h115_)\n",
    "        y22_, h22_ = self.LSTM_22(y12, h21_)\n",
    "        y23_, h23_ = self.LSTM_23(y13, h22_)\n",
    "        y24_, h24_ = self.LSTM_24(y14, h23_)\n",
    "        y25_, h25_ = self.LSTM_25(y15, h24_)\n",
    "        y26_, h26_ = self.LSTM_26(y16, h25_)\n",
    "        y27_, h27_ = self.LSTM_27(y17, h26_)\n",
    "        y28_, h28_ = self.LSTM_28(y18, h27_)\n",
    "        y29_, h29_ = self.LSTM_28(y19, h28_)\n",
    "        y210_, h210_ = self.LSTM_210(y110, h28_)\n",
    "        y211_, h211_ = self.LSTM_211(y111, h210_)\n",
    "        y212_, h212_ = self.LSTM_212(y112, h211_)\n",
    "        y213_, h213_ = self.LSTM_213(y113, h212_)\n",
    "        y214_, h214_ = self.LSTM_214(y114, h213_)\n",
    "        y215_, h215_ = self.LSTM_215(y115, h214_)\n",
    "        \n",
    "        \n",
    "        # residuals\n",
    "        y21 = self.norm(F.relu(self.drop(y21_ * y11 * x1)))\n",
    "        y22 = self.norm(F.relu(self.drop(y22_ * y12 * x2)))\n",
    "        y23 = self.norm(F.relu(self.drop(y23_ * y13 * x3)))\n",
    "        y24 = self.norm(F.relu(self.drop(y24_ * y14 * x4)))\n",
    "        y25 = self.norm(F.relu(self.drop(y25_ * y15 * x5)))\n",
    "        y26 = self.norm(F.relu(self.drop(y26_ * y16 * x6)))\n",
    "        y27 = self.norm(F.relu(self.drop(y27_ * y17 * x7)))\n",
    "        y28 = self.norm(F.relu(self.drop(y28_ * y18 * x8)))\n",
    "        y29 = self.norm(F.relu(self.drop(y29_ * y19 * x9)))\n",
    "        y210 = self.norm(F.relu(self.drop(y210_ * y110 * x10)))\n",
    "        y211 = self.norm(F.relu(self.drop(y211_ * y111 * x11)))\n",
    "        y212 = self.norm(F.relu(self.drop(y212_ * y112 * x12)))\n",
    "        y213 = self.norm(F.relu(self.drop(y213_ * y113 * x13)))\n",
    "        y214 = self.norm(F.relu(self.drop(y214_ * y114 * x14)))\n",
    "        y215 = self.norm(F.relu(self.drop(y215_ * y115 * x15)))\n",
    "        \n",
    "        \n",
    "        \n",
    "        # linear\n",
    "        y31 = F.relu(self.lin_1(y21))\n",
    "        y32 = F.relu(self.lin_2(y22))\n",
    "        y33 = F.relu(self.lin_3(y23))\n",
    "        y34 = F.relu(self.lin_4(y24))\n",
    "        y35 = F.relu(self.lin_5(y25))\n",
    "        y36 = F.relu(self.lin_6(y26))\n",
    "        y37 = F.relu(self.lin_7(y27))\n",
    "        y38 = F.relu(self.lin_8(y28))\n",
    "        y39 = F.relu(self.lin_9(y29))\n",
    "        y310 = F.relu(self.lin_10(y210))\n",
    "        y311 = F.relu(self.lin_11(y211))\n",
    "        y312 = F.relu(self.lin_11(y212))\n",
    "        y313 = F.relu(self.lin_11(y213))\n",
    "        y314 = F.relu(self.lin_11(y214))\n",
    "        y315 = F.relu(self.lin_11(y215))\n",
    "                \n",
    "        \n",
    "        # zwrot\n",
    "        return torch.cat((y31, y32, y33, y34, y35, y36, y37, y38, y39, y310, y311, y312, y313, y314, y315), 1).reshape(self.words_dimension, self.word_dimensions, -1)"
   ]
  },
  {
   "cell_type": "code",
   "execution_count": 30,
   "metadata": {},
   "outputs": [
    {
     "data": {
      "text/plain": [
       "(15, 66)"
      ]
     },
     "execution_count": 30,
     "metadata": {},
     "output_type": "execute_result"
    }
   ],
   "source": [
    "x1 = slowatranslated[:][:][0][:]; x1.shape"
   ]
  },
  {
   "cell_type": "code",
   "execution_count": 31,
   "metadata": {},
   "outputs": [
    {
     "data": {
      "text/plain": [
       "(5000, 15, 66)"
      ]
     },
     "execution_count": 31,
     "metadata": {},
     "output_type": "execute_result"
    }
   ],
   "source": [
    "slowatranslated.shape"
   ]
  },
  {
   "cell_type": "code",
   "execution_count": 32,
   "metadata": {},
   "outputs": [],
   "source": [
    "x1 = []\n",
    "x2 = []\n",
    "x3 = []\n",
    "x4 = []\n",
    "x5 = []\n",
    "x6 = []\n",
    "x7 = []\n",
    "x8 = []\n",
    "x9 = []\n",
    "x10 = []\n",
    "x11 = []\n",
    "x12 = []\n",
    "x13 = []\n",
    "x14 = []\n",
    "x15 = []\n",
    "\n",
    "for slowo in slowatranslated:\n",
    "    x1.append(slowo[0])\n",
    "    x2.append(slowo[1])\n",
    "    x3.append(slowo[2])\n",
    "    x4.append(slowo[3])\n",
    "    x5.append(slowo[4])\n",
    "    x6.append(slowo[5])\n",
    "    x7.append(slowo[6])\n",
    "    x8.append(slowo[7])\n",
    "    x9.append(slowo[8])\n",
    "    x10.append(slowo[9])\n",
    "    x11.append(slowo[10])\n",
    "    x12.append(slowo[11])\n",
    "    x13.append(slowo[12])\n",
    "    x14.append(slowo[13])\n",
    "    x15.append(slowo[14])"
   ]
  },
  {
   "cell_type": "code",
   "execution_count": 33,
   "metadata": {},
   "outputs": [],
   "source": [
    "x1 = torch.Tensor(np.array(x1)).reshape(1, words_dimension , word_dimensions).cuda()\n",
    "x2 = torch.Tensor(np.array(x2)).reshape(1, words_dimension , word_dimensions).cuda()\n",
    "x3 = torch.Tensor(np.array(x3)).reshape(1, words_dimension , word_dimensions).cuda()\n",
    "x4 = torch.Tensor(np.array(x4)).reshape(1, words_dimension , word_dimensions).cuda()\n",
    "x5 = torch.Tensor(np.array(x5)).reshape(1, words_dimension , word_dimensions).cuda()\n",
    "x6 = torch.Tensor(np.array(x6)).reshape(1, words_dimension , word_dimensions).cuda()\n",
    "x7 = torch.Tensor(np.array(x7)).reshape(1, words_dimension , word_dimensions).cuda()\n",
    "x8 = torch.Tensor(np.array(x8)).reshape(1, words_dimension , word_dimensions).cuda()\n",
    "x9 = torch.Tensor(np.array(x9)).reshape(1, words_dimension , word_dimensions).cuda()\n",
    "x10 = torch.Tensor(np.array(x10)).reshape(1, words_dimension , word_dimensions).cuda()\n",
    "x11 = torch.Tensor(np.array(x11)).reshape(1, words_dimension , word_dimensions).cuda()\n",
    "x12 = torch.Tensor(np.array(x12)).reshape(1, words_dimension , word_dimensions).cuda()\n",
    "x13 = torch.Tensor(np.array(x13)).reshape(1, words_dimension , word_dimensions).cuda()\n",
    "x14 = torch.Tensor(np.array(x14)).reshape(1, words_dimension , word_dimensions).cuda()\n",
    "x15 = torch.Tensor(np.array(x15)).reshape(1, words_dimension , word_dimensions).cuda()"
   ]
  },
  {
   "cell_type": "code",
   "execution_count": 34,
   "metadata": {},
   "outputs": [
    {
     "data": {
      "text/plain": [
       "array([[ 1.,  2.,  3., ...,  0.,  0.,  0.],\n",
       "       [ 8.,  9.,  7., ...,  0.,  0.,  0.],\n",
       "       [11.,  5.,  6., ...,  0.,  0.,  0.],\n",
       "       ...,\n",
       "       [ 0., 35.,  3., ...,  0.,  0.,  0.],\n",
       "       [12., 12., 10., ...,  0.,  0.,  0.],\n",
       "       [18.,  4., 34., ...,  0.,  0.,  0.]])"
      ]
     },
     "execution_count": 34,
     "metadata": {},
     "output_type": "execute_result"
    }
   ],
   "source": [
    "outputs"
   ]
  },
  {
   "cell_type": "code",
   "execution_count": 35,
   "metadata": {},
   "outputs": [],
   "source": [
    "Toutputs = torch.Tensor(outputs).long().cuda()"
   ]
  },
  {
   "cell_type": "code",
   "execution_count": 36,
   "metadata": {},
   "outputs": [
    {
     "data": {
      "text/plain": [
       "torch.Size([5000, 15])"
      ]
     },
     "execution_count": 36,
     "metadata": {},
     "output_type": "execute_result"
    }
   ],
   "source": [
    "Toutputs.shape"
   ]
  },
  {
   "cell_type": "code",
   "execution_count": 37,
   "metadata": {},
   "outputs": [
    {
     "data": {
      "text/plain": [
       "torch.Size([1, 5000, 66])"
      ]
     },
     "execution_count": 37,
     "metadata": {},
     "output_type": "execute_result"
    }
   ],
   "source": [
    "x1.shape"
   ]
  },
  {
   "cell_type": "code",
   "execution_count": 38,
   "metadata": {},
   "outputs": [
    {
     "data": {
      "text/plain": [
       "tensor([[[1., 0., 0.,  ..., 0., 0., 0.],\n",
       "         [0., 0., 0.,  ..., 0., 0., 0.],\n",
       "         [1., 0., 0.,  ..., 0., 0., 0.],\n",
       "         ...,\n",
       "         [0., 0., 0.,  ..., 0., 0., 0.],\n",
       "         [0., 0., 0.,  ..., 0., 0., 0.],\n",
       "         [0., 0., 0.,  ..., 0., 0., 0.]]], device='cuda:0')"
      ]
     },
     "execution_count": 38,
     "metadata": {},
     "output_type": "execute_result"
    }
   ],
   "source": [
    "x1"
   ]
  },
  {
   "cell_type": "code",
   "execution_count": 39,
   "metadata": {},
   "outputs": [],
   "source": [
    "ch_lstm = CharacterLSTM(word_dimensions, words_dimension).cuda()"
   ]
  },
  {
   "cell_type": "code",
   "execution_count": 40,
   "metadata": {},
   "outputs": [],
   "source": [
    "hiddens = (torch.rand((1,words_dimension, word_dimensions)).cuda(), torch.rand((1,words_dimension, word_dimensions)).cuda())"
   ]
  },
  {
   "cell_type": "code",
   "execution_count": 41,
   "metadata": {},
   "outputs": [
    {
     "data": {
      "text/plain": [
       "torch.Size([5000, 66, 15])"
      ]
     },
     "execution_count": 41,
     "metadata": {},
     "output_type": "execute_result"
    }
   ],
   "source": [
    "y_= ch_lstm(x1, x2, x3, x4, x5, x6, x7, x8, x9, x10, x11, x12, x13, x14, x15, hiddens).cuda(); y_.shape"
   ]
  },
  {
   "cell_type": "code",
   "execution_count": 42,
   "metadata": {},
   "outputs": [],
   "source": [
    "optimizer = optim.Adam(ch_lstm.parameters(), lr=3e-3)"
   ]
  },
  {
   "cell_type": "code",
   "execution_count": 43,
   "metadata": {},
   "outputs": [],
   "source": [
    "criterion = nn.CrossEntropyLoss()"
   ]
  },
  {
   "cell_type": "code",
   "execution_count": 44,
   "metadata": {},
   "outputs": [],
   "source": [
    "loss = criterion(y_, Toutputs)"
   ]
  },
  {
   "cell_type": "code",
   "execution_count": 52,
   "metadata": {},
   "outputs": [
    {
     "name": "stdout",
     "output_type": "stream",
     "text": [
      "12.583521842956543\n",
      "3.378568410873413\n",
      "3.3206777572631836\n",
      "3.306133508682251\n",
      "3.295006275177002\n",
      "3.292492151260376\n",
      "3.2873306274414062\n",
      "3.2825260162353516\n",
      "3.2824032306671143\n",
      "3.277313709259033\n",
      "3.2766642570495605\n",
      "3.2745065689086914\n",
      "3.2725167274475098\n",
      "3.269181966781616\n",
      "3.26542067527771\n",
      "3.265711545944214\n",
      "3.261781692504883\n",
      "3.2585501670837402\n",
      "3.253711700439453\n",
      "3.253967761993408\n",
      "3.248784303665161\n",
      "3.242337942123413\n",
      "3.2358949184417725\n",
      "3.233449697494507\n",
      "3.2313876152038574\n",
      "3.230433702468872\n",
      "3.23068904876709\n",
      "3.2308075428009033\n",
      "3.2313365936279297\n",
      "3.229114294052124\n",
      "3.23813533782959\n",
      "3.22804594039917\n",
      "3.2294790744781494\n",
      "3.2265853881835938\n",
      "3.22883677482605\n",
      "3.2254722118377686\n",
      "3.225127935409546\n",
      "3.227903127670288\n",
      "3.225874900817871\n",
      "3.225904703140259\n",
      "3.2266130447387695\n",
      "3.2236311435699463\n",
      "3.2217202186584473\n",
      "3.218883991241455\n",
      "3.219916343688965\n"
     ]
    },
    {
     "ename": "KeyboardInterrupt",
     "evalue": "",
     "output_type": "error",
     "traceback": [
      "\u001b[1;31m---------------------------------------------------------------------------\u001b[0m",
      "\u001b[1;31mKeyboardInterrupt\u001b[0m                         Traceback (most recent call last)",
      "\u001b[1;32m<ipython-input-52-b5e3872d0e74>\u001b[0m in \u001b[0;36m<module>\u001b[1;34m\u001b[0m\n\u001b[0;32m      6\u001b[0m     \u001b[0mloss\u001b[0m \u001b[1;33m=\u001b[0m \u001b[0mcriterion\u001b[0m\u001b[1;33m(\u001b[0m\u001b[0my_\u001b[0m\u001b[1;33m,\u001b[0m \u001b[0mToutputs\u001b[0m\u001b[1;33m)\u001b[0m\u001b[1;33m\u001b[0m\u001b[1;33m\u001b[0m\u001b[0m\n\u001b[0;32m      7\u001b[0m \u001b[1;33m\u001b[0m\u001b[0m\n\u001b[1;32m----> 8\u001b[1;33m     \u001b[0mloss\u001b[0m\u001b[1;33m.\u001b[0m\u001b[0mbackward\u001b[0m\u001b[1;33m(\u001b[0m\u001b[1;33m)\u001b[0m\u001b[1;33m\u001b[0m\u001b[1;33m\u001b[0m\u001b[0m\n\u001b[0m\u001b[0;32m      9\u001b[0m     \u001b[0moptimizer\u001b[0m\u001b[1;33m.\u001b[0m\u001b[0mstep\u001b[0m\u001b[1;33m(\u001b[0m\u001b[1;33m)\u001b[0m\u001b[1;33m\u001b[0m\u001b[1;33m\u001b[0m\u001b[0m\n\u001b[0;32m     10\u001b[0m \u001b[1;33m\u001b[0m\u001b[0m\n",
      "\u001b[1;32mC:\\Anaconda3\\lib\\site-packages\\torch\\tensor.py\u001b[0m in \u001b[0;36mbackward\u001b[1;34m(self, gradient, retain_graph, create_graph)\u001b[0m\n\u001b[0;32m    100\u001b[0m                 \u001b[0mproducts\u001b[0m\u001b[1;33m.\u001b[0m \u001b[0mDefaults\u001b[0m \u001b[0mto\u001b[0m\u001b[0;31m \u001b[0m\u001b[0;31m`\u001b[0m\u001b[0;31m`\u001b[0m\u001b[1;32mFalse\u001b[0m\u001b[0;31m`\u001b[0m\u001b[0;31m`\u001b[0m\u001b[1;33m.\u001b[0m\u001b[1;33m\u001b[0m\u001b[1;33m\u001b[0m\u001b[0m\n\u001b[0;32m    101\u001b[0m         \"\"\"\n\u001b[1;32m--> 102\u001b[1;33m         \u001b[0mtorch\u001b[0m\u001b[1;33m.\u001b[0m\u001b[0mautograd\u001b[0m\u001b[1;33m.\u001b[0m\u001b[0mbackward\u001b[0m\u001b[1;33m(\u001b[0m\u001b[0mself\u001b[0m\u001b[1;33m,\u001b[0m \u001b[0mgradient\u001b[0m\u001b[1;33m,\u001b[0m \u001b[0mretain_graph\u001b[0m\u001b[1;33m,\u001b[0m \u001b[0mcreate_graph\u001b[0m\u001b[1;33m)\u001b[0m\u001b[1;33m\u001b[0m\u001b[1;33m\u001b[0m\u001b[0m\n\u001b[0m\u001b[0;32m    103\u001b[0m \u001b[1;33m\u001b[0m\u001b[0m\n\u001b[0;32m    104\u001b[0m     \u001b[1;32mdef\u001b[0m \u001b[0mregister_hook\u001b[0m\u001b[1;33m(\u001b[0m\u001b[0mself\u001b[0m\u001b[1;33m,\u001b[0m \u001b[0mhook\u001b[0m\u001b[1;33m)\u001b[0m\u001b[1;33m:\u001b[0m\u001b[1;33m\u001b[0m\u001b[1;33m\u001b[0m\u001b[0m\n",
      "\u001b[1;32mC:\\Anaconda3\\lib\\site-packages\\torch\\autograd\\__init__.py\u001b[0m in \u001b[0;36mbackward\u001b[1;34m(tensors, grad_tensors, retain_graph, create_graph, grad_variables)\u001b[0m\n\u001b[0;32m     88\u001b[0m     Variable._execution_engine.run_backward(\n\u001b[0;32m     89\u001b[0m         \u001b[0mtensors\u001b[0m\u001b[1;33m,\u001b[0m \u001b[0mgrad_tensors\u001b[0m\u001b[1;33m,\u001b[0m \u001b[0mretain_graph\u001b[0m\u001b[1;33m,\u001b[0m \u001b[0mcreate_graph\u001b[0m\u001b[1;33m,\u001b[0m\u001b[1;33m\u001b[0m\u001b[1;33m\u001b[0m\u001b[0m\n\u001b[1;32m---> 90\u001b[1;33m         allow_unreachable=True)  # allow_unreachable flag\n\u001b[0m\u001b[0;32m     91\u001b[0m \u001b[1;33m\u001b[0m\u001b[0m\n\u001b[0;32m     92\u001b[0m \u001b[1;33m\u001b[0m\u001b[0m\n",
      "\u001b[1;31mKeyboardInterrupt\u001b[0m: "
     ]
    }
   ],
   "source": [
    "for epoch in range(20000):\n",
    "    ch_lstm.train()\n",
    "    optimizer.zero_grad()\n",
    "    \n",
    "    y_= ch_lstm(x1, x2, x3, x4, x5, x6, x7, x8, x9, x10, x11, x12, x13, x14, x15, hiddens).cuda()\n",
    "    loss = criterion(y_, Toutputs)\n",
    "    \n",
    "    loss.backward()\n",
    "    optimizer.step()\n",
    "    \n",
    "    if epoch%200==0:\n",
    "        print(loss.item())"
   ]
  },
  {
   "cell_type": "code",
   "execution_count": null,
   "metadata": {},
   "outputs": [],
   "source": [
    "with torch.no_grad():\n",
    "    hiddens = (torch.randn((1,words_dimension, word_dimensions)).cuda(), torch.randn((1,words_dimension, word_dimensions)).cuda())\n",
    "    y_= ch_lstm(x1, x1, x1, x1, x1, x6, x7, x8, x9, x10, x11, x12, x13, x14, x15, hiddens).cuda()\n",
    "    \n",
    "    \n",
    "    for row in y_.argmax(1).detach().cpu().numpy():\n",
    "        slowo = \"\"\n",
    "        for item in row[:100]:\n",
    "            slowo = slowo + list(chartoidx.keys())[item]\n",
    "        print(slowo)"
   ]
  },
  {
   "cell_type": "markdown",
   "metadata": {},
   "source": [
    "# WNIOSKI\n",
    "\n",
    "Pomysł jest prawie dobry, ale występuje w nim jeden błąd. Raczej nie powinno się robić osobnych sieci liniowych na każdy ze znaków, a bardziej zrobić jedną sieć obejmującą wszystkie wyjścia."
   ]
  },
  {
   "cell_type": "code",
   "execution_count": null,
   "metadata": {},
   "outputs": [],
   "source": []
  }
 ],
 "metadata": {
  "kernelspec": {
   "display_name": "Python 3",
   "language": "python",
   "name": "python3"
  },
  "language_info": {
   "codemirror_mode": {
    "name": "ipython",
    "version": 3
   },
   "file_extension": ".py",
   "mimetype": "text/x-python",
   "name": "python",
   "nbconvert_exporter": "python",
   "pygments_lexer": "ipython3",
   "version": "3.7.3"
  }
 },
 "nbformat": 4,
 "nbformat_minor": 2
}
