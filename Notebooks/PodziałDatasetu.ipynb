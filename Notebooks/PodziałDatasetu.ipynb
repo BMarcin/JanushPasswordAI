{
 "cells": [
  {
   "cell_type": "markdown",
   "metadata": {},
   "source": [
    "# Podzielenie datasetu\n",
    "Notebook ma za zadanie w randomowy sposób podzielić zbiór danych na uczący i walidacyjny\n",
    "Nie ma tu nic specjalnego z fajerwerkami 😎"
   ]
  },
  {
   "cell_type": "code",
   "execution_count": 1,
   "metadata": {},
   "outputs": [],
   "source": [
    "from tqdm import tqdm_notebook\n",
    "from sklearn.model_selection import train_test_split"
   ]
  },
  {
   "cell_type": "code",
   "execution_count": 5,
   "metadata": {},
   "outputs": [
    {
     "name": "stdout",
     "output_type": "stream",
     "text": [
      "['ap2300000', 'ek110', 'sail00', 'mega00000000', 'pigi00', 'vc4200', 'scas0000', 'r100000000000', 'mo0000', 'ffp00000', 'dyn10001000', 'ludo007', 'depu007', 'cmoa007', 'eden009', 'reli010990', 'vlad01091984', 'tema01111988', 'linn01111986', 'f8140123']\n",
      "178664\n"
     ]
    }
   ],
   "source": [
    "polskie = open(\"../dataset/potfiled.txt\", encoding='utf8')\n",
    "slowa = [slowo.replace(\"\\n\", \"\") for slowo in polskie.readlines()]\n",
    "polskie.close()\n",
    "print(slowa[:20])\n",
    "print(len(slowa))"
   ]
  },
  {
   "cell_type": "code",
   "execution_count": 6,
   "metadata": {},
   "outputs": [],
   "source": [
    "xTrain, xTest, _, _ = train_test_split(slowa, slowa, test_size = 0.05, random_state = 101)"
   ]
  },
  {
   "cell_type": "code",
   "execution_count": 7,
   "metadata": {},
   "outputs": [
    {
     "data": {
      "text/plain": [
       "169730"
      ]
     },
     "execution_count": 7,
     "metadata": {},
     "output_type": "execute_result"
    }
   ],
   "source": [
    "len(xTrain)"
   ]
  },
  {
   "cell_type": "code",
   "execution_count": 8,
   "metadata": {},
   "outputs": [
    {
     "data": {
      "text/plain": [
       "8934"
      ]
     },
     "execution_count": 8,
     "metadata": {},
     "output_type": "execute_result"
    }
   ],
   "source": [
    "len(xTest)"
   ]
  },
  {
   "cell_type": "code",
   "execution_count": 9,
   "metadata": {},
   "outputs": [
    {
     "name": "stdout",
     "output_type": "stream",
     "text": [
      "['1953lem', 'dyrhand', 'Rusia', 'li100pad', 'dyzio1978', 'dospel1', '879123', 'fiacik', 'kika1957', 'bush', 'martin6', '8227210', 'gucio0', '5494', 'betihetman', '326426', 'grom', 'masmas11', 'happy', 'ziuberek', 'pol31nn', 'brak007', 'hanka1959', 'szymon2009', 'menas79', 'lopex', 'maddog', '49lufi', 'adrianno', '1umbrella9', 'mx111', '1977bmw', 'andzin', 'mj1812', 'kasia19071983', 'osowanet1', 'maarynek', 'motion', 'gex5112', '081827', 'lalas', '0005ms', 'ripper', 'bank2004', 'Biango', 'domek2006', 'brawo7', 'klacic1', 'advisory', 'ameneh', 'dziuna', 'liszka7', '735273kj', '0867gr', 'bosko12121982', 'haris', 'marcel1', 'neo2458', 'colombia', 'baryga', 'benka63', '77aga77', 'browareczek', 'bmwh2so4', 'Wiosna01', 'dudka', 'zonakasia', '80060411932', 'zupparius', 'ciurlik', 'kto4321', 'jozef52', 'bgmaptech', '101178', 'lola7506', '13bobo', 'moris2000', 'Mycha23', '1aligator', 'pt47112', 'evil666', 'mam12', 'deathman', '28031974', 'sebus', '84312507', 'mikrogeo', 'ula1989', 'szaj12', 'oldaw', 'neoboniek', 'cocacola1', 'angelman', 'Maciek', 'aaudys6', '310363', '1grzegorz', 'lupa10', 'jm13094', 'sam372012']\n"
     ]
    }
   ],
   "source": [
    "print(xTrain[:100])"
   ]
  },
  {
   "cell_type": "code",
   "execution_count": 10,
   "metadata": {},
   "outputs": [
    {
     "name": "stdout",
     "output_type": "stream",
     "text": [
      "['radunia', 'skirball', '90iojknm', 'bunin1', 'frelka', 'kasztanek', 'obiobi1', '2181181', '1410bobo', 'kubam1', 'adamadam', 'zenon1', '003467', '27marcela', 'neo2411', 'korfball', '151193a', 'qbawoz', '10741074', '311095', '1488666', 'MAREK84', 'gr1234', '5824', 'michus10', '550ssy', 'meritx', 'Sicia1978', 'adgam23', 'beren100', 'mafin123456', 'sumsum', '32834', 'stuttgart', 'alagara', 'tytus99', 'rtu', 'z17041974', '336cherries', 'telec12', 'szmifa1', 'jajniki11', 'magda1981', 'felmet', 'nienia56', '123456mb', 'elac19', 'indorek', 'Mpbb123', '556677', 'dsstone', '180683', 'cha8ry', 'lillcia', 'txzakupy', '1807sabina', 'joga3bonito', 'neo24jurek', '9560turbo', 'spurs50', 'marek70', 'prizblez', 'memob5', 'kicaj25', 'zxc2511', 'SIWY12', '5130aarr', 'liefhondje', 'emilzola', 'gadu11', 'radar000', 'stocan', 'sedpol', 'kowar', 'pok220', 'psikuta', 'lazio123', 'kolorowa2', 'nazar1', 'antol2007', '3001495', '73iwona', '22luty', 'ydzio75', 'frisby', 'sklep2008', 'ag710926', 'bossanova', 'zorans', 'pawelpaulina', 'boyakasha', 'patusia', 'rafik4', 'aidil78', 'garbusek', 'luksemburg', 'ewerest', 'hasloecco', 'gosia1991', 'bl10327']\n"
     ]
    }
   ],
   "source": [
    "print(xTest[:100])"
   ]
  },
  {
   "cell_type": "code",
   "execution_count": 11,
   "metadata": {},
   "outputs": [],
   "source": [
    "train = open(\"../dataset/train_all.txt\", \"w\", encoding=\"utf8\")\n",
    "for line in xTrain:\n",
    "    train.write(line+\"\\n\")\n",
    "train.close()"
   ]
  },
  {
   "cell_type": "code",
   "execution_count": 12,
   "metadata": {},
   "outputs": [],
   "source": [
    "test = open(\"../dataset/test_all.txt\", \"w\", encoding=\"utf8\")\n",
    "for line in xTest:\n",
    "    test.write(line+\"\\n\")\n",
    "test.close()"
   ]
  }
 ],
 "metadata": {
  "kernelspec": {
   "display_name": "Python 3",
   "language": "python",
   "name": "python3"
  },
  "language_info": {
   "codemirror_mode": {
    "name": "ipython",
    "version": 3
   },
   "file_extension": ".py",
   "mimetype": "text/x-python",
   "name": "python",
   "nbconvert_exporter": "python",
   "pygments_lexer": "ipython3",
   "version": "3.7.3"
  }
 },
 "nbformat": 4,
 "nbformat_minor": 2
}
