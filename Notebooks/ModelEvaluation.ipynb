{
 "cells": [
  {
   "cell_type": "code",
   "execution_count": 1,
   "metadata": {},
   "outputs": [],
   "source": [
    "%matplotlib widget\n",
    "import numpy as np\n",
    "import math\n",
    "import torch\n",
    "import torch.nn as nn\n",
    "from torch import optim\n",
    "import torch.nn.functional as F\n",
    "\n",
    "import random\n",
    "\n",
    "import matplotlib.pyplot as plt\n",
    "\n",
    "import re\n",
    "\n",
    "from tqdm import tqdm\n",
    "from tqdm import tnrange, tqdm_notebook\n",
    "\n",
    "from joblib import Parallel, delayed\n",
    "\n",
    "import multiprocessing\n",
    "from datetime import datetime\n",
    "\n",
    "from torch.utils.data import DataLoader, Dataset\n",
    "from IPython.display import clear_output"
   ]
  },
  {
   "cell_type": "markdown",
   "metadata": {},
   "source": [
    "## Wybór urządzenia"
   ]
  },
  {
   "cell_type": "code",
   "execution_count": 2,
   "metadata": {},
   "outputs": [
    {
     "data": {
      "text/plain": [
       "device(type='cuda', index=0)"
      ]
     },
     "execution_count": 2,
     "metadata": {},
     "output_type": "execute_result"
    }
   ],
   "source": [
    "# device = torch.device(\"cuda:0\" if torch.cuda.is_available() else \"cpu\")\n",
    "device = torch.device(\"cuda:0\")\n",
    "device"
   ]
  },
  {
   "cell_type": "code",
   "execution_count": 3,
   "metadata": {},
   "outputs": [],
   "source": [
    "torch.manual_seed(1010101011)\n",
    "random.seed(1010101011)"
   ]
  },
  {
   "cell_type": "code",
   "execution_count": 4,
   "metadata": {},
   "outputs": [],
   "source": [
    "class CharacterLSTM(nn.Module):\n",
    "    def __init__(self, vocabsize, lstmlayers, hiddensize):\n",
    "        super(CharacterLSTM, self).__init__()\n",
    "        \n",
    "        \n",
    "        ## WARSTWY\n",
    "        self.embd = nn.Embedding(vocabsize, vocabsize)\n",
    "        self.LSTM1 = nn.GRU(vocabsize, hiddensize, lstmlayers, batch_first=True, bidirectional=True)\n",
    "        self.linear_ins = nn.Linear(2*hiddensize, vocabsize)\n",
    "#         self.linear_outs = nn.Linear(2*vocabsize, vocabsize)\n",
    "        \n",
    "        ## TRICKY LAYERS\n",
    "#         self.norm = nn.BatchNorm1d(windowsize)\n",
    "#         self.norm = nn.LayerNorm(2*vocabsize)\n",
    "#         self.norm2 = nn.LayerNorm(vocabsize)\n",
    "        self.drop = nn.Dropout(p=0.1)\n",
    "        \n",
    "        ## OUTS\n",
    "        self.softmax = nn.LogSoftmax(dim=1)\n",
    "        \n",
    "        \n",
    "#         self.init_weights()\n",
    "        \n",
    "    def init_weights(self):\n",
    "        initrange = 0.1\n",
    "        self.embd.weight.data.uniform_(-initrange, initrange)\n",
    "        self.linear_ins.bias.data.zero_()\n",
    "        self.linear_ins.weight.data.uniform_(-initrange, initrange)\n",
    "#         self.linear_outs.bias.data.zero_()\n",
    "#         self.linear_outs.weight.data.uniform_(-initrange, initrange)\n",
    "        \n",
    "    def forward(self, x, hidden, NLL=True):\n",
    "#         print(x.shape)\n",
    "        \n",
    "        # WEJSCIE\n",
    "        y0 = self.embd(x)\n",
    "#         y0  = self.drop(y0)\n",
    "#         y0 = self.EmbeddingDrop(y0, p=0.2)\n",
    "\n",
    "        \n",
    "        # DROP\n",
    "#         if drop>0:\n",
    "#             y0 = self.EmbeddingDrop(y0, p=drop)\n",
    "        \n",
    "        # LSTM\n",
    "        y, h1_ = self.LSTM1(y0, hidden)\n",
    "        \n",
    "        # TRICKY\n",
    "#         y = self.norm(y)\n",
    "        \n",
    "        y = self.drop(y)\n",
    "        \n",
    "        # LINEAR OUT 1\n",
    "        y = self.linear_ins(y)\n",
    "#         y = self.norm(y)\n",
    "#         y = self.linear_ins(y)\n",
    "        \n",
    "#         # TRICKY\n",
    "#         y = self.norm2(y)\n",
    "    \n",
    "#         # TRICKY 2\n",
    "#         y = self.drop(y)\n",
    "        \n",
    "        \n",
    "#         # LINEAR OUT 2\n",
    "#         y = F.relu(self.linear_outs(y))\n",
    "      \n",
    "#         y = self.norm2(y)\n",
    "\n",
    "#         print(y, y.shape)\n",
    "        \n",
    "        if NLL:\n",
    "            y = self.softmax(y[:,-1])\n",
    "        \n",
    "        # zwrot\n",
    "        return y, h1_\n",
    "    \n",
    "#     def EmbeddingDrop(self, dataset, p=0.1):\n",
    "#         w1, w2, w3 = dataset.shape\n",
    "#         bern = torch.bernoulli((1-p) * torch.ones((w1, w2, 1))).to(\"cuda:0\")\n",
    "#         return dataset * bern"
   ]
  },
  {
   "cell_type": "code",
   "execution_count": 5,
   "metadata": {},
   "outputs": [],
   "source": [
    "chartoidx = torch.load(\"../models/chartoidx.pth\")\n",
    "liczby = torch.load(\"../models/longestword.pth\")\n",
    "\n",
    "longestword = liczby[0]\n",
    "lstms = 4\n",
    "hiddensize = 40\n",
    "\n",
    "chlstm = torch.load(\"../models/bezrelu_lstm_4_hidden_40_onecycle_1e-2-1e-8_rmsprop1e-3_700epoch_loss_2.683788537979126.pt\", map_location=device).to(device)"
   ]
  },
  {
   "cell_type": "code",
   "execution_count": 6,
   "metadata": {},
   "outputs": [
    {
     "name": "stdout",
     "output_type": "stream",
     "text": [
      "tensor([1., 9., 3., 4., 9., 6.])\n"
     ]
    }
   ],
   "source": [
    "t1 = torch.Tensor([[1,2,3], [4,5,6]])\n",
    "t2 = torch.Tensor([9,9])\n",
    "\n",
    "xx1 = t1.index_put_((torch.Tensor([0,1]).long(), torch.Tensor([1,1]).long()), t2)\n",
    "\n",
    "print(t1.reshape(-1))"
   ]
  },
  {
   "cell_type": "markdown",
   "metadata": {},
   "source": [
    "## Działa dość wolno, ale nie ma już czasu na przyspieszane\n",
    "Do przyspieszenia całe pętle for trzeba zamienić na operacje na macierzach, tak by jednocześnie sieć generowała hasła dla np. 1000 haseł"
   ]
  },
  {
   "cell_type": "code",
   "execution_count": 7,
   "metadata": {},
   "outputs": [
    {
     "data": {
      "application/vnd.jupyter.widget-view+json": {
       "model_id": "e1b57ba5b93645ee92c21b64c9c719ce",
       "version_major": 2,
       "version_minor": 0
      },
      "text/plain": [
       "HBox(children=(IntProgress(value=0, max=10), HTML(value='')))"
      ]
     },
     "metadata": {},
     "output_type": "display_data"
    },
    {
     "name": "stdout",
     "output_type": "stream",
     "text": [
      "048320003\n",
      "farararn210\n",
      "hareselk2\n",
      "Gkanie15\n",
      "aronder1\n",
      "bala112259\n",
      "80299895\n",
      "90017016011\n",
      "Kora11121010\n",
      "onia09619\n",
      "\n"
     ]
    }
   ],
   "source": [
    "chardict = list(chartoidx.keys())\n",
    "temperature = 0.50\n",
    "\n",
    "# plikhasel = open(\"../haslaAI_bezrelu.txt\", \"a\", encoding=\"utf8\")\n",
    "\n",
    "hiddens = torch.zeros(2*lstms, 1, hiddensize).to(device)\n",
    "\n",
    "for _ in tqdm_notebook(range(10)):\n",
    "    slowostart = chardict[random.randint(1, 61)]\n",
    "\n",
    "    with torch.no_grad():\n",
    "        lastchar = 0\n",
    "        cnt = 0\n",
    "\n",
    "        chlstm.eval()\n",
    "        znaki = [chartoidx[item] for item in slowostart]\n",
    "        bazastart = len(znaki)\n",
    "\n",
    "        for __ in range(longestword - bazastart+1):\n",
    "            znaki.append(chartoidx[\"<EMPTY>\"])\n",
    "\n",
    "        for item in range(longestword - bazastart+1):\n",
    "            x = torch.Tensor(znaki).long().to(device).view(1, -1)\n",
    "\n",
    "            out, _ = chlstm(x, hiddens, NLL=False)\n",
    "            \n",
    "            zwrot = out[:,-1].view(-1)\n",
    "            exped = zwrot.data.div(temperature).exp()\n",
    "            top_i = torch.multinomial(exped, 1)\n",
    "    #         softmaxed = torch.softmax(top_i, 0)\n",
    "    #         charid = torch.argmax(softmaxed, 0)\n",
    "            charid = top_i[0]\n",
    "\n",
    "            znaki[item+bazastart] = charid\n",
    "\n",
    "\n",
    "        slowo = \"\"\n",
    "        for item in znaki:\n",
    "            if item != 0:\n",
    "                slowo+=chardict[item]\n",
    "\n",
    "        print(slowo)\n",
    "#         plikhasel.write(slowo+\"\\n\")\n",
    "# plikhasel.close()"
   ]
  },
  {
   "cell_type": "code",
   "execution_count": null,
   "metadata": {},
   "outputs": [],
   "source": []
  },
  {
   "cell_type": "code",
   "execution_count": null,
   "metadata": {},
   "outputs": [],
   "source": []
  }
 ],
 "metadata": {
  "kernelspec": {
   "display_name": "Python 3",
   "language": "python",
   "name": "python3"
  },
  "language_info": {
   "codemirror_mode": {
    "name": "ipython",
    "version": 3
   },
   "file_extension": ".py",
   "mimetype": "text/x-python",
   "name": "python",
   "nbconvert_exporter": "python",
   "pygments_lexer": "ipython3",
   "version": "3.7.3"
  }
 },
 "nbformat": 4,
 "nbformat_minor": 2
}
