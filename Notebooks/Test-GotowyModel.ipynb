{
 "cells": [
  {
   "cell_type": "code",
   "execution_count": 1,
   "metadata": {},
   "outputs": [
    {
     "name": "stderr",
     "output_type": "stream",
     "text": [
      "100%|███████████████████████████████████████████████████████████████████████| 231508/231508 [00:00<00:00, 617552.55B/s]\n",
      "100%|█████████████████████████████████████████████████████████████████████████████| 313/313 [00:00<00:00, 156511.34B/s]\n",
      "100%|████████████████████████████████████████████████████████████████| 440473133/440473133 [00:49<00:00, 8971586.12B/s]\n",
      "100%|██████████████████████████████████████████████████████████████████████| 815973/815973 [00:00<00:00, 1201135.57B/s]\n",
      "100%|███████████████████████████████████████████████████████████████████████| 458495/458495 [00:00<00:00, 743852.66B/s]\n",
      "ftfy or spacy is not installed using BERT BasicTokenizer instead of SpaCy & ftfy.\n",
      "100%|██████████████████████████████████████████████████████████████████████████████| 273/273 [00:00<00:00, 91028.30B/s]\n",
      "100%|████████████████████████████████████████████████████████████████| 478750579/478750579 [01:01<00:00, 7803385.70B/s]\n",
      "100%|█████████████████████████████████████████████████████████████████████| 1042301/1042301 [00:01<00:00, 552240.55B/s]\n",
      "100%|███████████████████████████████████████████████████████████████████████| 456318/456318 [00:01<00:00, 294117.68B/s]\n",
      "100%|██████████████████████████████████████████████████████████████████████████████| 176/176 [00:00<00:00, 88058.87B/s]\n",
      "100%|████████████████████████████████████████████████████████████████| 548118077/548118077 [01:12<00:00, 7587135.56B/s]\n",
      "100%|████████████████████████████████████████████████████████████████████| 9143613/9143613 [00:01<00:00, 6785283.23B/s]\n",
      "100%|█████████████████████████████████████████████████████████████████████████████| 606/606 [00:00<00:00, 202014.64B/s]\n",
      "100%|██████████████████████████████████████████████████████████████| 1140884800/1140884800 [02:12<00:00, 8635967.24B/s]\n",
      "100%|██████████████████████████████████████████████████████████████████████| 798011/798011 [00:00<00:00, 1075794.02B/s]\n",
      "100%|█████████████████████████████████████████████████████████████████████████████| 641/641 [00:00<00:00, 320561.45B/s]\n",
      "100%|████████████████████████████████████████████████████████████████| 467042463/467042463 [01:03<00:00, 7352968.55B/s]\n",
      "100%|████████████████████████████████████████████████████████████████████| 1452741/1452741 [00:00<00:00, 1697668.85B/s]\n",
      "100%|████████████████████████████████████████████████████████████████████| 1008321/1008321 [00:00<00:00, 1457581.51B/s]\n",
      "ftfy or spacy is not installed using BERT BasicTokenizer instead of SpaCy & ftfy.\n",
      "100%|█████████████████████████████████████████████████████████████████████████████| 396/396 [00:00<00:00, 198014.35B/s]\n",
      "100%|████████████████████████████████████████████████████████████████| 830121242/830121242 [02:42<00:00, 5116196.78B/s]\n",
      "Model name 'xlm-mlm-enfr-1024' was not found in model name list (bert-base-uncased, bert-large-uncased, bert-base-cased, bert-large-cased, bert-base-multilingual-uncased, bert-base-multilingual-cased, bert-base-chinese, bert-base-german-cased, bert-large-uncased-whole-word-masking, bert-large-cased-whole-word-masking, bert-large-uncased-whole-word-masking-finetuned-squad, bert-large-cased-whole-word-masking-finetuned-squad, bert-base-cased-finetuned-mrpc). We assumed 'xlm-mlm-enfr-1024' was a path or url but couldn't find any file associated to this path or url.\n",
      "Model name 'xlm-mlm-enfr-1024' was not found in model name list (bert-base-uncased, bert-large-uncased, bert-base-cased, bert-large-cased, bert-base-multilingual-uncased, bert-base-multilingual-cased, bert-base-chinese, bert-base-german-cased, bert-large-uncased-whole-word-masking, bert-large-cased-whole-word-masking, bert-large-uncased-whole-word-masking-finetuned-squad, bert-large-cased-whole-word-masking-finetuned-squad, bert-base-cased-finetuned-mrpc). We assumed 'xlm-mlm-enfr-1024' was a path or url but couldn't find any file associated to this path or url.\n"
     ]
    },
    {
     "ename": "TypeError",
     "evalue": "'NoneType' object is not callable",
     "output_type": "error",
     "traceback": [
      "\u001b[1;31m---------------------------------------------------------------------------\u001b[0m",
      "\u001b[1;31mTypeError\u001b[0m                                 Traceback (most recent call last)",
      "\u001b[1;32m<ipython-input-1-c9897238b104>\u001b[0m in \u001b[0;36m<module>\u001b[1;34m\u001b[0m\n\u001b[0;32m     41\u001b[0m                                     output_attentions=True)\n\u001b[0;32m     42\u001b[0m \u001b[0minput_ids\u001b[0m \u001b[1;33m=\u001b[0m \u001b[0mtorch\u001b[0m\u001b[1;33m.\u001b[0m\u001b[0mtensor\u001b[0m\u001b[1;33m(\u001b[0m\u001b[1;33m[\u001b[0m\u001b[0mtokenizer\u001b[0m\u001b[1;33m.\u001b[0m\u001b[0mencode\u001b[0m\u001b[1;33m(\u001b[0m\u001b[1;34m\"Let's see all hidden-states and attentions on this text\"\u001b[0m\u001b[1;33m)\u001b[0m\u001b[1;33m]\u001b[0m\u001b[1;33m)\u001b[0m\u001b[1;33m\u001b[0m\u001b[1;33m\u001b[0m\u001b[0m\n\u001b[1;32m---> 43\u001b[1;33m \u001b[0mall_hidden_states\u001b[0m\u001b[1;33m,\u001b[0m \u001b[0mall_attentions\u001b[0m \u001b[1;33m=\u001b[0m \u001b[0mmodel\u001b[0m\u001b[1;33m(\u001b[0m\u001b[0minput_ids\u001b[0m\u001b[1;33m)\u001b[0m\u001b[1;33m[\u001b[0m\u001b[1;33m-\u001b[0m\u001b[1;36m2\u001b[0m\u001b[1;33m:\u001b[0m\u001b[1;33m]\u001b[0m\u001b[1;33m\u001b[0m\u001b[1;33m\u001b[0m\u001b[0m\n\u001b[0m\u001b[0;32m     44\u001b[0m \u001b[1;33m\u001b[0m\u001b[0m\n\u001b[0;32m     45\u001b[0m \u001b[1;31m# Models are compatible with Torchscript\u001b[0m\u001b[1;33m\u001b[0m\u001b[1;33m\u001b[0m\u001b[1;33m\u001b[0m\u001b[0m\n",
      "\u001b[1;31mTypeError\u001b[0m: 'NoneType' object is not callable"
     ]
    }
   ],
   "source": [
    "import torch\n",
    "from pytorch_transformers import *\n",
    "\n",
    "# PyTorch-Transformers has a unified API\n",
    "# for 6 transformer architectures and 27 pretrained weights.\n",
    "#          Model          | Tokenizer          | Pretrained weights shortcut\n",
    "MODELS = [(BertModel,       BertTokenizer,      'bert-base-uncased'),\n",
    "          (OpenAIGPTModel,  OpenAIGPTTokenizer, 'openai-gpt'),\n",
    "          (GPT2Model,       GPT2Tokenizer,      'gpt2'),\n",
    "          (TransfoXLModel,  TransfoXLTokenizer, 'transfo-xl-wt103'),\n",
    "          (XLNetModel,      XLNetTokenizer,     'xlnet-base-cased'),\n",
    "          (XLMModel,        XLMTokenizer,       'xlm-mlm-enfr-1024')]\n",
    "\n",
    "# Let's encode some text in a sequence of hidden-states using each model:\n",
    "for model_class, tokenizer_class, pretrained_weights in MODELS:\n",
    "    # Load pretrained model/tokenizer\n",
    "    tokenizer = tokenizer_class.from_pretrained(pretrained_weights)\n",
    "    model = model_class.from_pretrained(pretrained_weights)\n",
    "\n",
    "    # Encode text\n",
    "    input_ids = torch.tensor([tokenizer.encode(\"Here is some text to encode\")])\n",
    "    with torch.no_grad():\n",
    "        last_hidden_states = model(input_ids)[0]  # Models outputs are now tuples\n",
    "\n",
    "# Each architecture is provided with several class for fine-tuning on down-stream tasks, e.g.\n",
    "BERT_MODEL_CLASSES = [BertModel, BertForPreTraining, BertForMaskedLM, BertForNextSentencePrediction,\n",
    "                      BertForSequenceClassification, BertForMultipleChoice, BertForTokenClassification,\n",
    "                      BertForQuestionAnswering]\n",
    "\n",
    "# All the classes for an architecture can be initiated from pretrained weights for this architecture\n",
    "# Note that additional weights added for fine-tuning are only initialized\n",
    "# and need to be trained on the down-stream task\n",
    "tokenizer = BertTokenizer.from_pretrained('bert-base-uncased')\n",
    "for model_class in BERT_MODEL_CLASSES:\n",
    "    # Load pretrained model/tokenizer\n",
    "    model = model_class.from_pretrained('bert-base-uncased')\n",
    "\n",
    "# Models can return full list of hidden-states & attentions weights at each layer\n",
    "model = model_class.from_pretrained(pretrained_weights,\n",
    "                                    output_hidden_states=True,\n",
    "                                    output_attentions=True)\n",
    "input_ids = torch.tensor([tokenizer.encode(\"Let's see all hidden-states and attentions on this text\")])\n",
    "all_hidden_states, all_attentions = model(input_ids)[-2:]\n",
    "\n",
    "# Models are compatible with Torchscript\n",
    "model = model_class.from_pretrained(pretrained_weights, torchscript=True)\n",
    "traced_model = torch.jit.trace(model, (input_ids,))\n",
    "\n",
    "# Simple serialization for models and tokenizers\n",
    "model.save_pretrained('./directory/to/save/')  # save\n",
    "model = model_class.from_pretrained('./directory/to/save/')  # re-load\n",
    "tokenizer.save_pretrained('./directory/to/save/')  # save\n",
    "tokenizer = tokenizer_class.from_pretrained(pretrained_weights)"
   ]
  },
  {
   "cell_type": "code",
   "execution_count": null,
   "metadata": {},
   "outputs": [],
   "source": []
  }
 ],
 "metadata": {
  "kernelspec": {
   "display_name": "Python 3",
   "language": "python",
   "name": "python3"
  },
  "language_info": {
   "codemirror_mode": {
    "name": "ipython",
    "version": 3
   },
   "file_extension": ".py",
   "mimetype": "text/x-python",
   "name": "python",
   "nbconvert_exporter": "python",
   "pygments_lexer": "ipython3",
   "version": "3.7.3"
  }
 },
 "nbformat": 4,
 "nbformat_minor": 2
}
