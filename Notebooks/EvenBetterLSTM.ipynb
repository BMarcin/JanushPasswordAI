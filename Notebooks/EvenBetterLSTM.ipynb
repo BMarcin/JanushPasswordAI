{
 "cells": [
  {
   "cell_type": "code",
   "execution_count": 1,
   "metadata": {},
   "outputs": [],
   "source": [
    "%matplotlib widget\n",
    "import numpy as np\n",
    "import math\n",
    "import torch\n",
    "import torch.nn as nn\n",
    "from torch import optim\n",
    "import torch.nn.functional as F\n",
    "\n",
    "import random\n",
    "\n",
    "import matplotlib.pyplot as plt\n",
    "\n",
    "import re\n",
    "\n",
    "from tqdm import tqdm\n",
    "from tqdm import tnrange, tqdm_notebook\n",
    "\n",
    "from joblib import Parallel, delayed\n",
    "\n",
    "import multiprocessing\n",
    "from datetime import datetime\n",
    "\n",
    "from torch.utils.data import DataLoader, Dataset\n",
    "from IPython.display import clear_output"
   ]
  },
  {
   "cell_type": "code",
   "execution_count": 2,
   "metadata": {},
   "outputs": [
    {
     "data": {
      "text/plain": [
       "device(type='cuda', index=0)"
      ]
     },
     "execution_count": 2,
     "metadata": {},
     "output_type": "execute_result"
    }
   ],
   "source": [
    "# device = torch.device(\"cuda:0\" if torch.cuda.is_available() else \"cpu\")\n",
    "device = torch.device(\"cuda:0\")\n",
    "device"
   ]
  },
  {
   "cell_type": "code",
   "execution_count": 3,
   "metadata": {},
   "outputs": [],
   "source": [
    "torch.manual_seed(1010101011)\n",
    "random.seed(1010101011)"
   ]
  },
  {
   "cell_type": "code",
   "execution_count": 4,
   "metadata": {},
   "outputs": [],
   "source": [
    "ftrainset = open(\"../dataset/train.txt\", encoding='utf8')\n",
    "trainset = [slowo.replace(\"\\n\", \"\") for slowo in ftrainset.readlines() if len(slowo) < 22]\n",
    "ftrainset.close()\n",
    "\n",
    "ftestset = open(\"../dataset/test.txt\", encoding='utf8')\n",
    "testset = [slowo.replace(\"\\n\", \"\") for slowo in ftestset.readlines()]\n",
    "ftestset.close()"
   ]
  },
  {
   "cell_type": "code",
   "execution_count": 5,
   "metadata": {},
   "outputs": [],
   "source": [
    "# trainset = [\"abc\", \"abcd\", \"abcccc\", \"bcde\"]\n",
    "# testset = []"
   ]
  },
  {
   "cell_type": "code",
   "execution_count": 6,
   "metadata": {},
   "outputs": [
    {
     "name": "stdout",
     "output_type": "stream",
     "text": [
      "Train:  169668\n",
      "Test:  8931\n"
     ]
    }
   ],
   "source": [
    "print(\"Train: \", len(trainset))\n",
    "print(\"Test: \", len(testset))"
   ]
  },
  {
   "cell_type": "code",
   "execution_count": 7,
   "metadata": {},
   "outputs": [
    {
     "data": {
      "application/vnd.jupyter.widget-view+json": {
       "model_id": "34f3bc22e1cd4bccb9d85948b2d34ae3",
       "version_major": 2,
       "version_minor": 0
      },
      "text/plain": [
       "HBox(children=(IntProgress(value=0, max=178599), HTML(value='')))"
      ]
     },
     "metadata": {},
     "output_type": "display_data"
    },
    {
     "name": "stdout",
     "output_type": "stream",
     "text": [
      "\n"
     ]
    }
   ],
   "source": [
    "chartoidx = {}\n",
    "\n",
    "cnt = 0\n",
    "\n",
    "longestword = 0\n",
    "\n",
    "chartoidx[\"<EMPTY>\"] = 0\n",
    "\n",
    "for slowo in tqdm_notebook(trainset+testset):  \n",
    "    for litera in slowo:\n",
    "        if litera not in list(chartoidx.keys()):\n",
    "            chartoidx[litera] = cnt+1\n",
    "            cnt = cnt + 1\n",
    "            \n",
    "    if len(slowo) > longestword:\n",
    "        longestword = len(slowo)\n",
    "            \n",
    "vocabsize = len(list(chartoidx.keys()))"
   ]
  },
  {
   "cell_type": "code",
   "execution_count": 8,
   "metadata": {},
   "outputs": [
    {
     "data": {
      "text/plain": [
       "19"
      ]
     },
     "execution_count": 8,
     "metadata": {},
     "output_type": "execute_result"
    }
   ],
   "source": [
    "longestword"
   ]
  },
  {
   "cell_type": "code",
   "execution_count": 9,
   "metadata": {},
   "outputs": [
    {
     "data": {
      "text/plain": [
       "{'<EMPTY>': 0,\n",
       " 'p': 1,\n",
       " 'i': 2,\n",
       " 'k': 3,\n",
       " 'u': 4,\n",
       " 's': 5,\n",
       " '8': 6,\n",
       " '0': 7,\n",
       " 'a': 8,\n",
       " 'n': 9,\n",
       " 'e': 10,\n",
       " 'c': 11,\n",
       " 'A': 12,\n",
       " '1': 13,\n",
       " '2': 14,\n",
       " '3': 15,\n",
       " '4': 16,\n",
       " '5': 17,\n",
       " '6': 18,\n",
       " '7': 19,\n",
       " '9': 20,\n",
       " 'l': 21,\n",
       " 't': 22,\n",
       " 'g': 23,\n",
       " 'h': 24,\n",
       " 'd': 25,\n",
       " 'm': 26,\n",
       " 'r': 27,\n",
       " 'M': 28,\n",
       " 'I': 29,\n",
       " 'S': 30,\n",
       " 'K': 31,\n",
       " 'J': 32,\n",
       " 'o': 33,\n",
       " 'P': 34,\n",
       " 'j': 35,\n",
       " 'z': 36,\n",
       " 'B': 37,\n",
       " 'U': 38,\n",
       " 'b': 39,\n",
       " 'f': 40,\n",
       " 'w': 41,\n",
       " 'v': 42,\n",
       " 'y': 43,\n",
       " 'H': 44,\n",
       " 'L': 45,\n",
       " 'O': 46,\n",
       " 'T': 47,\n",
       " 'E': 48,\n",
       " 'R': 49,\n",
       " 'N': 50,\n",
       " 'x': 51,\n",
       " 'G': 52,\n",
       " 'q': 53,\n",
       " 'D': 54,\n",
       " 'Q': 55,\n",
       " 'Z': 56,\n",
       " 'V': 57,\n",
       " 'C': 58,\n",
       " 'X': 59,\n",
       " 'W': 60,\n",
       " 'Y': 61,\n",
       " 'F': 62,\n",
       " '!': 63,\n",
       " '-': 64,\n",
       " ' ': 65,\n",
       " '@': 66,\n",
       " '.': 67,\n",
       " '_': 68,\n",
       " '/': 69,\n",
       " '[': 70,\n",
       " ']': 71,\n",
       " '~': 72,\n",
       " '#': 73,\n",
       " '*': 74,\n",
       " '(': 75,\n",
       " ')': 76,\n",
       " '+': 77,\n",
       " '`': 78,\n",
       " '$': 79,\n",
       " ',': 80,\n",
       " '%': 81,\n",
       " '^': 82,\n",
       " '=': 83,\n",
       " ';': 84,\n",
       " '&': 85,\n",
       " '?': 86,\n",
       " 'ł': 87}"
      ]
     },
     "execution_count": 9,
     "metadata": {},
     "output_type": "execute_result"
    }
   ],
   "source": [
    "chartoidx"
   ]
  },
  {
   "cell_type": "code",
   "execution_count": 10,
   "metadata": {},
   "outputs": [],
   "source": [
    "torch.save(chartoidx, \"../models/chartoidx.pth\")"
   ]
  },
  {
   "cell_type": "code",
   "execution_count": 10,
   "metadata": {},
   "outputs": [
    {
     "data": {
      "text/plain": [
       "'pikus80'"
      ]
     },
     "execution_count": 10,
     "metadata": {},
     "output_type": "execute_result"
    }
   ],
   "source": [
    "slowo = trainset[0]; slowo"
   ]
  },
  {
   "cell_type": "code",
   "execution_count": 11,
   "metadata": {},
   "outputs": [
    {
     "name": "stdout",
     "output_type": "stream",
     "text": [
      "['a', '<', '<', '<', '<'] ['b']\n",
      "['a', 'b', '<', '<', '<'] ['c']\n",
      "['a', 'b', 'c', '<', '<'] ['<']\n",
      "['d', '<', '<', '<', '<'] ['e']\n",
      "['d', 'e', '<', '<', '<'] ['f']\n",
      "['d', 'e', 'f', '<', '<'] ['g']\n",
      "['d', 'e', 'f', 'g', '<'] ['<']\n"
     ]
    }
   ],
   "source": [
    "window = 5\n",
    "\n",
    "slowka = [\"abc\", \"defg\"]\n",
    "slowkaidx = [0, 0, 0, 1, 1, 1, 1]\n",
    "\n",
    "def getitem(slowa, index, window, slowkaidx):\n",
    "    slowo = slowa[slowkaidx[index]]\n",
    "    \n",
    "    idx = slowkaidx[index]\n",
    "    currindex = 0\n",
    "    \n",
    "    while idx == slowkaidx[index]:\n",
    "        currindex += 1\n",
    "        idx = slowkaidx[index-currindex]\n",
    "    currindex -= 1\n",
    "    \n",
    "    ins = []\n",
    "    out = []\n",
    "    \n",
    "    ins = [litera for litera in slowo[:currindex+1]]\n",
    "    for __ in range(window-len(ins)):\n",
    "        ins.append(\"<\")\n",
    "    \n",
    "    if currindex<len(slowo)-1:\n",
    "        out = [slowo[currindex+1]]\n",
    "    else:\n",
    "        out = [\"<\"]\n",
    "    \n",
    "    print(ins, out)\n",
    "\n",
    "for i in range(len(slowkaidx)):\n",
    "    getitem(slowka, i, window, slowkaidx)   "
   ]
  },
  {
   "cell_type": "code",
   "execution_count": 12,
   "metadata": {},
   "outputs": [],
   "source": [
    "class MyDataset(Dataset):\n",
    "    def __init__(self, slowa, chartoidx, longestword, padding):\n",
    "        self.slowa = slowa\n",
    "        self.chartoidx = chartoidx\n",
    "        self.longestword = longestword\n",
    "        self.padding = padding\n",
    "        self.indexpos = []\n",
    "        \n",
    "        for idd, slowo in enumerate(slowa):\n",
    "            for letter in slowo:\n",
    "                self.indexpos.append(idd)\n",
    "        \n",
    "    def __len__(self):\n",
    "        return len(self.indexpos)\n",
    "        \n",
    "    def __getitem__(self, index):\n",
    "        literyx = []\n",
    "        literyy = []\n",
    "        \n",
    "        slowo = self.slowa[self.indexpos[index]]\n",
    "        \n",
    "        \n",
    "        idx = self.indexpos[index]\n",
    "        currindex = 0\n",
    "    \n",
    "        while idx == self.indexpos[index]:\n",
    "            currindex += 1\n",
    "            idx = self.indexpos[index-currindex]\n",
    "        currindex -= 1\n",
    "        \n",
    "        \n",
    "        literyx = [self.chartoidx[litera] for litera in slowo[:currindex+1]]\n",
    "        for __ in range(self.longestword-len(literyx)):\n",
    "            literyx.append(self.chartoidx[\"<EMPTY>\"])\n",
    "    \n",
    "        if currindex<len(slowo)-1:\n",
    "            literyy = [self.chartoidx[slowo[currindex+1]]]\n",
    "        else:\n",
    "            literyy = [self.chartoidx[\"<EMPTY>\"]]\n",
    "                \n",
    "        return np.array(literyx, dtype=\"float32\"), np.array(literyy, dtype=\"long\")"
   ]
  },
  {
   "cell_type": "code",
   "execution_count": 13,
   "metadata": {},
   "outputs": [],
   "source": [
    "DS_train = MyDataset(trainset, chartoidx, longestword, 0)\n",
    "DS_test = MyDataset(testset, chartoidx, longestword, 0)"
   ]
  },
  {
   "cell_type": "code",
   "execution_count": 14,
   "metadata": {},
   "outputs": [],
   "source": [
    "BS = 10000"
   ]
  },
  {
   "cell_type": "code",
   "execution_count": 15,
   "metadata": {},
   "outputs": [
    {
     "data": {
      "text/plain": [
       "(array([12.,  0.,  0.,  0.,  0.,  0.,  0.,  0.,  0.,  0.,  0.,  0.,  0.,\n",
       "         0.,  0.,  0.,  0.,  0.,  0.], dtype=float32), array([12]))"
      ]
     },
     "execution_count": 15,
     "metadata": {},
     "output_type": "execute_result"
    }
   ],
   "source": [
    "DS_train.__getitem__(13)"
   ]
  },
  {
   "cell_type": "code",
   "execution_count": 16,
   "metadata": {},
   "outputs": [],
   "source": [
    "DL_train = DataLoader(dataset=DS_train, batch_size=BS, num_workers=5)\n",
    "DL_test = DataLoader(dataset=DS_test, batch_size=BS, num_workers=5)"
   ]
  },
  {
   "cell_type": "code",
   "execution_count": 17,
   "metadata": {},
   "outputs": [],
   "source": [
    "class CharacterLSTM(nn.Module):\n",
    "    def __init__(self, vocabsize, lstmlayers, hiddensize):\n",
    "        super(CharacterLSTM, self).__init__()\n",
    "        \n",
    "        \n",
    "        ## WARSTWY\n",
    "        self.embd = nn.Embedding(vocabsize, vocabsize)\n",
    "        self.LSTM1 = nn.GRU(vocabsize, hiddensize, lstmlayers, batch_first=True, bidirectional=True)\n",
    "        self.linear_ins = nn.Linear(2*hiddensize, vocabsize)\n",
    "#         self.linear_outs = nn.Linear(2*vocabsize, vocabsize)\n",
    "        \n",
    "        ## TRICKY LAYERS\n",
    "#         self.norm = nn.BatchNorm1d(windowsize)\n",
    "#         self.norm = nn.LayerNorm(2*vocabsize)\n",
    "#         self.norm2 = nn.LayerNorm(vocabsize)\n",
    "        self.drop = nn.Dropout(p=0.1)\n",
    "        \n",
    "        ## OUTS\n",
    "        self.softmax = nn.LogSoftmax(dim=1)\n",
    "        \n",
    "        \n",
    "#         self.init_weights()\n",
    "        \n",
    "    def init_weights(self):\n",
    "        initrange = 0.1\n",
    "        self.embd.weight.data.uniform_(-initrange, initrange)\n",
    "        self.linear_ins.bias.data.zero_()\n",
    "        self.linear_ins.weight.data.uniform_(-initrange, initrange)\n",
    "#         self.linear_outs.bias.data.zero_()\n",
    "#         self.linear_outs.weight.data.uniform_(-initrange, initrange)\n",
    "        \n",
    "    def forward(self, x, hidden, NLL=True):\n",
    "#         print(x.shape)\n",
    "        \n",
    "        # WEJSCIE\n",
    "        y0 = self.embd(x)\n",
    "#         y0  = self.drop(y0)\n",
    "#         y0 = self.EmbeddingDrop(y0, p=0.2)\n",
    "\n",
    "        \n",
    "        # DROP\n",
    "#         if drop>0:\n",
    "#             y0 = self.EmbeddingDrop(y0, p=drop)\n",
    "        \n",
    "        # LSTM\n",
    "        y, h1_ = self.LSTM1(y0, hidden)\n",
    "        \n",
    "        # TRICKY\n",
    "#         y = self.norm(y)\n",
    "        \n",
    "        y = self.drop(y)\n",
    "        \n",
    "        # LINEAR OUT 1\n",
    "        y = self.linear_ins(y)\n",
    "#         y = self.norm(y)\n",
    "#         y = self.linear_ins(y)\n",
    "        \n",
    "#         # TRICKY\n",
    "#         y = self.norm2(y)\n",
    "    \n",
    "#         # TRICKY 2\n",
    "#         y = self.drop(y)\n",
    "        \n",
    "        \n",
    "#         # LINEAR OUT 2\n",
    "#         y = F.relu(self.linear_outs(y))\n",
    "      \n",
    "#         y = self.norm2(y)\n",
    "\n",
    "#         print(y, y.shape)\n",
    "        \n",
    "        if NLL:\n",
    "            y = self.softmax(y[:,-1])\n",
    "        \n",
    "        # zwrot\n",
    "        return y, h1_\n",
    "    \n",
    "#     def EmbeddingDrop(self, dataset, p=0.1):\n",
    "#         w1, w2, w3 = dataset.shape\n",
    "#         bern = torch.bernoulli((1-p) * torch.ones((w1, w2, 1))).to(\"cuda:0\")\n",
    "#         return dataset * bern"
   ]
  },
  {
   "cell_type": "code",
   "execution_count": 18,
   "metadata": {},
   "outputs": [],
   "source": [
    "lstms = 15\n",
    "hiddensize = 40"
   ]
  },
  {
   "cell_type": "code",
   "execution_count": 19,
   "metadata": {},
   "outputs": [],
   "source": [
    "# chlstm = CharacterLSTM(vocabsize, lstms, hiddensize).to(device)\n",
    "chlstm = torch.load(\"../models/bezrelu_lstm_15_hidden_40_cosine1e-8_rmsprop1e-7_50epoch_loss_2.408825635910034.pt\").to(device)"
   ]
  },
  {
   "cell_type": "code",
   "execution_count": 20,
   "metadata": {},
   "outputs": [],
   "source": [
    "criterion = nn.BCELoss()\n",
    "criterionPretraining = nn.CrossEntropyLoss()"
   ]
  },
  {
   "cell_type": "code",
   "execution_count": 21,
   "metadata": {},
   "outputs": [],
   "source": [
    "epochs = 50"
   ]
  },
  {
   "cell_type": "code",
   "execution_count": 22,
   "metadata": {},
   "outputs": [],
   "source": [
    "lrmin = 1e-8\n",
    "lrmax = 1e-2 \n",
    "\n",
    "def getlr(lrmin, lrmax, epoch, epochs):\n",
    "    b1 = lrmin\n",
    "    a1 = (lrmax - b1) / (epochs/2)\n",
    "    b2 = lrmax - ((-a1)*epochs/2)\n",
    "    \n",
    "    lr = 0\n",
    "    \n",
    "    if epoch <= epochs/2:\n",
    "        return  a1*epoch+b1\n",
    "    else:\n",
    "        return -a1*epoch+b2\n",
    "\n",
    "# X1"
   ]
  },
  {
   "cell_type": "code",
   "execution_count": 23,
   "metadata": {},
   "outputs": [],
   "source": [
    "#BAZA EPOCH x1\n",
    "\n",
    "onecyclelambda = lambda epoch: getlr(lrmin, lrmax, epoch, epochs)\n",
    "\n",
    "optimizerLSTM = optim.RMSprop(chlstm.parameters(), lr=1e-3)\n",
    "scheduler = optim.lr_scheduler.CosineAnnealingLR(optimizerLSTM, epochs, eta_min = 1e-8)\n",
    "# scheduler = optim.lr_scheduler.LambdaLR(optimizerLSTM, lr_lambda=[onecyclelambda])"
   ]
  },
  {
   "cell_type": "code",
   "execution_count": 18,
   "metadata": {},
   "outputs": [
    {
     "ename": "NameError",
     "evalue": "name 'epochs' is not defined",
     "output_type": "error",
     "traceback": [
      "\u001b[1;31m---------------------------------------------------------------------------\u001b[0m",
      "\u001b[1;31mNameError\u001b[0m                                 Traceback (most recent call last)",
      "\u001b[1;32m<ipython-input-18-ac433bbf9e17>\u001b[0m in \u001b[0;36m<module>\u001b[1;34m\u001b[0m\n\u001b[1;32m----> 1\u001b[1;33m \u001b[0mt_epochs\u001b[0m \u001b[1;33m=\u001b[0m \u001b[0mtnrange\u001b[0m\u001b[1;33m(\u001b[0m\u001b[0mepochs\u001b[0m\u001b[1;33m)\u001b[0m\u001b[1;33m\u001b[0m\u001b[1;33m\u001b[0m\u001b[0m\n\u001b[0m\u001b[0;32m      2\u001b[0m \u001b[1;33m\u001b[0m\u001b[0m\n\u001b[0;32m      3\u001b[0m \u001b[0mlosssess\u001b[0m \u001b[1;33m=\u001b[0m \u001b[1;33m[\u001b[0m\u001b[1;33m]\u001b[0m\u001b[1;33m\u001b[0m\u001b[1;33m\u001b[0m\u001b[0m\n\u001b[0;32m      4\u001b[0m \u001b[1;33m\u001b[0m\u001b[0m\n\u001b[0;32m      5\u001b[0m \u001b[1;32mfor\u001b[0m \u001b[0mepoch\u001b[0m \u001b[1;32min\u001b[0m \u001b[0mt_epochs\u001b[0m\u001b[1;33m:\u001b[0m\u001b[1;33m\u001b[0m\u001b[1;33m\u001b[0m\u001b[0m\n",
      "\u001b[1;31mNameError\u001b[0m: name 'epochs' is not defined"
     ]
    }
   ],
   "source": [
    "t_epochs = tnrange(epochs)\n",
    "\n",
    "losssess = []\n",
    "\n",
    "for epoch in t_epochs:\n",
    "    t_batch = tqdm_notebook(DL_train, leave=False)\n",
    "    \n",
    "    for batch in t_batch:\n",
    "        d1, d2 = batch[0].shape\n",
    "        xreals = batch[0].long().to(device)\n",
    "        y = batch[1].long().to(device)\n",
    "        \n",
    "        hiddens1 = torch.zeros(2*lstms, d1, hiddensize).to(device)\n",
    "        \n",
    "        chlstm.train()\n",
    "        optimizerLSTM.zero_grad()\n",
    "        \n",
    "        y_, _ = chlstm(xreals, hiddens1, NLL=False)\n",
    "#         print(y_[:,-1], torch.softmax(y_[:,-1], 1))\n",
    "        loss = criterionPretraining(y_[:,-1], y.view(-1))\n",
    "        \n",
    "        loss.backward()\n",
    "        optimizerLSTM.step()\n",
    "        \n",
    "        losss = loss.item()\n",
    "        losssess.append(losss)\n",
    "        \n",
    "        t_batch.set_description(\"Loss: {:.8f}\".format(losss))\n",
    "        \n",
    "\n",
    "    t_batch.close()\n",
    "    t_epochs.set_description(\"Epoch {}/{}\".format(epoch+1, epochs))\n",
    "    scheduler.step()\n",
    "    \n",
    "#     if epoch % 100 == 0:\n",
    "#         torch.save(chlstm, \"../models/bezrelu_lstm_8_hidden_40_bezonecycle_1e-2-1e-8_rmsprop1e-3_700epoch_loss_\"+str(losss)+\".pt\")\n",
    "    \n",
    "#     acc = accuracy(chlstm, DL_test, device, lstms, vocabsize)\n",
    "    print(\"Epoch {}/{}, Loss {:.8f}, LR {:.8f}\".format(epoch+1, epochs, losss, scheduler.get_lr()[0]))\n",
    "#     print(\"Epoch {}/{}, Loss {:.8f}\".format(epoch+1, epochs, losss))"
   ]
  },
  {
   "cell_type": "code",
   "execution_count": 25,
   "metadata": {},
   "outputs": [
    {
     "data": {
      "text/plain": [
       "455992"
      ]
     },
     "execution_count": 25,
     "metadata": {},
     "output_type": "execute_result"
    }
   ],
   "source": [
    "sum(p.numel() for p in chlstm.parameters())"
   ]
  },
  {
   "cell_type": "code",
   "execution_count": 26,
   "metadata": {},
   "outputs": [],
   "source": [
    "torch.save(losssess, \"../wykresy/bezrelu_lstm_15_hidden_40_cosine1e-8_rmsprop1e-7_50epoch_loss_\"+str(losss)+\".pt\")"
   ]
  },
  {
   "cell_type": "code",
   "execution_count": 27,
   "metadata": {},
   "outputs": [
    {
     "name": "stderr",
     "output_type": "stream",
     "text": [
      "/home/mborzymowski/.conda/envs/mborzymowski/lib/python3.7/site-packages/torch/serialization.py:256: UserWarning: Couldn't retrieve source code for container of type CharacterLSTM. It won't be checked for correctness upon loading.\n",
      "  \"type \" + obj.__name__ + \". It won't be checked \"\n"
     ]
    }
   ],
   "source": [
    "torch.save(chlstm, \"../models/bezrelu_lstm_15_hidden_40_cosine1e-8_rmsprop1e-7_50epoch_loss_\"+str(losss)+\".pt\")"
   ]
  },
  {
   "cell_type": "code",
   "execution_count": 25,
   "metadata": {},
   "outputs": [
    {
     "name": "stderr",
     "output_type": "stream",
     "text": [
      "/home/mborzymowski/.conda/envs/mborzymowski/lib/python3.7/site-packages/torch/serialization.py:256: UserWarning: Couldn't retrieve source code for container of type CharacterLSTM. It won't be checked for correctness upon loading.\n",
      "  \"type \" + obj.__name__ + \". It won't be checked \"\n"
     ]
    }
   ],
   "source": [
    "torch.save(chlstm, \"../models/bezrelu_500epoch_onecycle_1e-2-1e-8_rmsprop1e-3_4lstm_50hidd.pt\")"
   ]
  },
  {
   "cell_type": "code",
   "execution_count": 35,
   "metadata": {},
   "outputs": [],
   "source": [
    "# torch.save(losssess, \"../wykresy/600epoch_onecycle_1e-2-1e-6_rmsprop1e-3_4lstm_50hidd.pt\")"
   ]
  },
  {
   "cell_type": "code",
   "execution_count": 22,
   "metadata": {},
   "outputs": [],
   "source": [
    "losssess = torch.load(\"../wykresy/600epoch_onecycle_1e-2-1e-6_rmsprop1e-3_4lstm_50hidd.pt\")"
   ]
  },
  {
   "cell_type": "code",
   "execution_count": 23,
   "metadata": {},
   "outputs": [
    {
     "name": "stdout",
     "output_type": "stream",
     "text": [
      "Warning: Cannot change to a different GUI toolkit: notebook. Using widget instead.\n"
     ]
    },
    {
     "data": {
      "application/vnd.jupyter.widget-view+json": {
       "model_id": "bff9e9356c3f4301bf597d9b6c43592b",
       "version_major": 2,
       "version_minor": 0
      },
      "text/plain": [
       "FigureCanvasNbAgg()"
      ]
     },
     "metadata": {},
     "output_type": "display_data"
    },
    {
     "data": {
      "text/plain": [
       "[<matplotlib.lines.Line2D at 0x7fbe2faebda0>]"
      ]
     },
     "execution_count": 23,
     "metadata": {},
     "output_type": "execute_result"
    }
   ],
   "source": [
    "%matplotlib notebook\n",
    "fix, ax = plt.subplots()\n",
    "ax.plot([x for x in range(len(losssess))], losssess, \".\")"
   ]
  },
  {
   "cell_type": "code",
   "execution_count": 81,
   "metadata": {},
   "outputs": [
    {
     "data": {
      "text/plain": [
       "\"['a', 'a', 'a']\""
      ]
     },
     "execution_count": 81,
     "metadata": {},
     "output_type": "execute_result"
    }
   ],
   "source": [
    "str([\"a\" for i in range(3)])"
   ]
  },
  {
   "cell_type": "code",
   "execution_count": 23,
   "metadata": {},
   "outputs": [
    {
     "data": {
      "application/vnd.jupyter.widget-view+json": {
       "model_id": "620cd61bb3e640bebc970fbcc6628aec",
       "version_major": 2,
       "version_minor": 0
      },
      "text/plain": [
       "HBox(children=(IntProgress(value=0, max=20), HTML(value='')))"
      ]
     },
     "metadata": {},
     "output_type": "display_data"
    },
    {
     "name": "stdout",
     "output_type": "stream",
     "text": [
      "torch.Size([1, 20])\n",
      "torch.Size([1, 20, 88])\n",
      "torch.Size([1, 20])\n",
      "torch.Size([1, 20, 88])\n",
      "torch.Size([1, 20])\n",
      "torch.Size([1, 20, 88])\n",
      "torch.Size([1, 20])\n",
      "torch.Size([1, 20, 88])\n",
      "torch.Size([1, 20])\n",
      "torch.Size([1, 20, 88])\n",
      "torch.Size([1, 20])\n",
      "torch.Size([1, 20, 88])\n",
      "torch.Size([1, 20])\n",
      "torch.Size([1, 20, 88])\n",
      "torch.Size([1, 20])\n",
      "torch.Size([1, 20, 88])\n",
      "torch.Size([1, 20])\n",
      "torch.Size([1, 20, 88])\n",
      "torch.Size([1, 20])\n",
      "torch.Size([1, 20, 88])\n",
      "torch.Size([1, 20])\n",
      "torch.Size([1, 20, 88])\n",
      "torch.Size([1, 20])\n",
      "torch.Size([1, 20, 88])\n",
      "torch.Size([1, 20])\n",
      "torch.Size([1, 20, 88])\n",
      "torch.Size([1, 20])\n",
      "torch.Size([1, 20, 88])\n",
      "torch.Size([1, 20])\n",
      "torch.Size([1, 20, 88])\n",
      "torch.Size([1, 20])\n",
      "torch.Size([1, 20, 88])\n",
      "torch.Size([1, 20])\n",
      "torch.Size([1, 20, 88])\n",
      "torch.Size([1, 20])\n",
      "torch.Size([1, 20, 88])\n",
      "torch.Size([1, 20])\n",
      "torch.Size([1, 20, 88])\n",
      "danio2001\n",
      "torch.Size([1, 20])\n",
      "torch.Size([1, 20, 88])\n",
      "torch.Size([1, 20])\n",
      "torch.Size([1, 20, 88])\n",
      "torch.Size([1, 20])\n",
      "torch.Size([1, 20, 88])\n",
      "torch.Size([1, 20])\n",
      "torch.Size([1, 20, 88])\n",
      "torch.Size([1, 20])\n",
      "torch.Size([1, 20, 88])\n",
      "torch.Size([1, 20])\n",
      "torch.Size([1, 20, 88])\n",
      "torch.Size([1, 20])\n",
      "torch.Size([1, 20, 88])\n",
      "torch.Size([1, 20])\n",
      "torch.Size([1, 20, 88])\n",
      "torch.Size([1, 20])\n",
      "torch.Size([1, 20, 88])\n",
      "torch.Size([1, 20])\n",
      "torch.Size([1, 20, 88])\n",
      "torch.Size([1, 20])\n",
      "torch.Size([1, 20, 88])\n",
      "torch.Size([1, 20])\n",
      "torch.Size([1, 20, 88])\n",
      "torch.Size([1, 20])\n",
      "torch.Size([1, 20, 88])\n",
      "torch.Size([1, 20])\n",
      "torch.Size([1, 20, 88])\n",
      "torch.Size([1, 20])\n",
      "torch.Size([1, 20, 88])\n",
      "torch.Size([1, 20])\n",
      "torch.Size([1, 20, 88])\n",
      "torch.Size([1, 20])\n",
      "torch.Size([1, 20, 88])\n",
      "torch.Size([1, 20])\n",
      "torch.Size([1, 20, 88])\n",
      "torch.Size([1, 20])\n",
      "torch.Size([1, 20, 88])\n",
      "daszka17\n",
      "torch.Size([1, 20])\n",
      "torch.Size([1, 20, 88])\n",
      "torch.Size([1, 20])\n",
      "torch.Size([1, 20, 88])\n",
      "torch.Size([1, 20])\n",
      "torch.Size([1, 20, 88])\n",
      "torch.Size([1, 20])\n",
      "torch.Size([1, 20, 88])\n",
      "torch.Size([1, 20])\n",
      "torch.Size([1, 20, 88])\n",
      "torch.Size([1, 20])\n",
      "torch.Size([1, 20, 88])\n",
      "torch.Size([1, 20])\n",
      "torch.Size([1, 20, 88])\n",
      "torch.Size([1, 20])\n",
      "torch.Size([1, 20, 88])\n",
      "torch.Size([1, 20])\n",
      "torch.Size([1, 20, 88])\n",
      "torch.Size([1, 20])\n",
      "torch.Size([1, 20, 88])\n",
      "torch.Size([1, 20])\n",
      "torch.Size([1, 20, 88])\n",
      "torch.Size([1, 20])\n",
      "torch.Size([1, 20, 88])\n",
      "torch.Size([1, 20])\n",
      "torch.Size([1, 20, 88])\n",
      "torch.Size([1, 20])\n",
      "torch.Size([1, 20, 88])\n",
      "torch.Size([1, 20])\n",
      "torch.Size([1, 20, 88])\n",
      "torch.Size([1, 20])\n",
      "torch.Size([1, 20, 88])\n",
      "torch.Size([1, 20])\n",
      "torch.Size([1, 20, 88])\n",
      "torch.Size([1, 20])\n",
      "torch.Size([1, 20, 88])\n",
      "torch.Size([1, 20])\n",
      "torch.Size([1, 20, 88])\n",
      "domina19\n",
      "torch.Size([1, 20])\n",
      "torch.Size([1, 20, 88])\n",
      "torch.Size([1, 20])\n",
      "torch.Size([1, 20, 88])\n",
      "torch.Size([1, 20])\n",
      "torch.Size([1, 20, 88])\n",
      "torch.Size([1, 20])\n",
      "torch.Size([1, 20, 88])\n",
      "torch.Size([1, 20])\n",
      "torch.Size([1, 20, 88])\n",
      "torch.Size([1, 20])\n",
      "torch.Size([1, 20, 88])\n",
      "torch.Size([1, 20])\n",
      "torch.Size([1, 20, 88])\n",
      "torch.Size([1, 20])\n",
      "torch.Size([1, 20, 88])\n",
      "torch.Size([1, 20])\n",
      "torch.Size([1, 20, 88])\n",
      "torch.Size([1, 20])\n",
      "torch.Size([1, 20, 88])\n",
      "torch.Size([1, 20])\n",
      "torch.Size([1, 20, 88])\n",
      "torch.Size([1, 20])\n",
      "torch.Size([1, 20, 88])\n",
      "torch.Size([1, 20])\n",
      "torch.Size([1, 20, 88])\n",
      "torch.Size([1, 20])\n",
      "torch.Size([1, 20, 88])\n",
      "torch.Size([1, 20])\n",
      "torch.Size([1, 20, 88])\n",
      "torch.Size([1, 20])\n",
      "torch.Size([1, 20, 88])\n",
      "torch.Size([1, 20])\n",
      "torch.Size([1, 20, 88])\n",
      "torch.Size([1, 20])\n",
      "torch.Size([1, 20, 88])\n",
      "torch.Size([1, 20])\n",
      "torch.Size([1, 20, 88])\n",
      "dala1976\n",
      "torch.Size([1, 20])\n",
      "torch.Size([1, 20, 88])\n",
      "torch.Size([1, 20])\n",
      "torch.Size([1, 20, 88])\n",
      "torch.Size([1, 20])\n",
      "torch.Size([1, 20, 88])\n",
      "torch.Size([1, 20])\n",
      "torch.Size([1, 20, 88])\n",
      "torch.Size([1, 20])\n",
      "torch.Size([1, 20, 88])\n",
      "torch.Size([1, 20])\n",
      "torch.Size([1, 20, 88])\n",
      "torch.Size([1, 20])\n",
      "torch.Size([1, 20, 88])\n",
      "torch.Size([1, 20])\n",
      "torch.Size([1, 20, 88])\n",
      "torch.Size([1, 20])\n",
      "torch.Size([1, 20, 88])\n",
      "torch.Size([1, 20])\n",
      "torch.Size([1, 20, 88])\n",
      "torch.Size([1, 20])\n",
      "torch.Size([1, 20, 88])\n",
      "torch.Size([1, 20])\n",
      "torch.Size([1, 20, 88])\n",
      "torch.Size([1, 20])\n",
      "torch.Size([1, 20, 88])\n",
      "torch.Size([1, 20])\n",
      "torch.Size([1, 20, 88])\n",
      "torch.Size([1, 20])\n",
      "torch.Size([1, 20, 88])\n",
      "torch.Size([1, 20])\n",
      "torch.Size([1, 20, 88])\n",
      "torch.Size([1, 20])\n",
      "torch.Size([1, 20, 88])\n",
      "torch.Size([1, 20])\n",
      "torch.Size([1, 20, 88])\n",
      "torch.Size([1, 20])\n",
      "torch.Size([1, 20, 88])\n",
      "domina19\n",
      "torch.Size([1, 20])\n",
      "torch.Size([1, 20, 88])\n",
      "torch.Size([1, 20])\n",
      "torch.Size([1, 20, 88])\n",
      "torch.Size([1, 20])\n",
      "torch.Size([1, 20, 88])\n",
      "torch.Size([1, 20])\n",
      "torch.Size([1, 20, 88])\n",
      "torch.Size([1, 20])\n",
      "torch.Size([1, 20, 88])\n",
      "torch.Size([1, 20])\n",
      "torch.Size([1, 20, 88])\n",
      "torch.Size([1, 20])\n",
      "torch.Size([1, 20, 88])\n",
      "torch.Size([1, 20])\n",
      "torch.Size([1, 20, 88])\n",
      "torch.Size([1, 20])\n",
      "torch.Size([1, 20, 88])\n",
      "torch.Size([1, 20])\n",
      "torch.Size([1, 20, 88])\n",
      "torch.Size([1, 20])\n",
      "torch.Size([1, 20, 88])\n",
      "torch.Size([1, 20])\n",
      "torch.Size([1, 20, 88])\n",
      "torch.Size([1, 20])\n",
      "torch.Size([1, 20, 88])\n",
      "torch.Size([1, 20])\n",
      "torch.Size([1, 20, 88])\n",
      "torch.Size([1, 20])\n",
      "torch.Size([1, 20, 88])\n",
      "torch.Size([1, 20])\n",
      "torch.Size([1, 20, 88])\n",
      "torch.Size([1, 20])\n",
      "torch.Size([1, 20, 88])\n",
      "torch.Size([1, 20])\n",
      "torch.Size([1, 20, 88])\n",
      "torch.Size([1, 20])\n",
      "torch.Size([1, 20, 88])\n",
      "daro1987\n",
      "torch.Size([1, 20])\n",
      "torch.Size([1, 20, 88])\n",
      "torch.Size([1, 20])\n"
     ]
    },
    {
     "ename": "KeyboardInterrupt",
     "evalue": "",
     "output_type": "error",
     "traceback": [
      "\u001b[1;31m---------------------------------------------------------------------------\u001b[0m",
      "\u001b[1;31mKeyboardInterrupt\u001b[0m                         Traceback (most recent call last)",
      "\u001b[1;32m<ipython-input-23-3a31d9301eb8>\u001b[0m in \u001b[0;36m<module>\u001b[1;34m\u001b[0m\n\u001b[0;32m     25\u001b[0m             \u001b[0mout\u001b[0m\u001b[1;33m,\u001b[0m \u001b[0m_\u001b[0m \u001b[1;33m=\u001b[0m \u001b[0mchlstm\u001b[0m\u001b[1;33m(\u001b[0m\u001b[0mx\u001b[0m\u001b[1;33m,\u001b[0m \u001b[0mhiddens\u001b[0m\u001b[1;33m,\u001b[0m \u001b[0mNLL\u001b[0m\u001b[1;33m=\u001b[0m\u001b[1;32mFalse\u001b[0m\u001b[1;33m)\u001b[0m\u001b[1;33m\u001b[0m\u001b[1;33m\u001b[0m\u001b[0m\n\u001b[0;32m     26\u001b[0m \u001b[1;33m\u001b[0m\u001b[0m\n\u001b[1;32m---> 27\u001b[1;33m             \u001b[0mprint\u001b[0m\u001b[1;33m(\u001b[0m\u001b[0mx\u001b[0m\u001b[1;33m.\u001b[0m\u001b[0mshape\u001b[0m\u001b[1;33m)\u001b[0m\u001b[1;33m\u001b[0m\u001b[1;33m\u001b[0m\u001b[0m\n\u001b[0m\u001b[0;32m     28\u001b[0m             \u001b[0mprint\u001b[0m\u001b[1;33m(\u001b[0m\u001b[0mout\u001b[0m\u001b[1;33m.\u001b[0m\u001b[0mshape\u001b[0m\u001b[1;33m)\u001b[0m\u001b[1;33m\u001b[0m\u001b[1;33m\u001b[0m\u001b[0m\n\u001b[0;32m     29\u001b[0m \u001b[1;33m\u001b[0m\u001b[0m\n",
      "\u001b[1;32mC:\\Anaconda3\\lib\\site-packages\\colorama\\ansitowin32.py\u001b[0m in \u001b[0;36mwrite\u001b[1;34m(self, text)\u001b[0m\n\u001b[0;32m     39\u001b[0m \u001b[1;33m\u001b[0m\u001b[0m\n\u001b[0;32m     40\u001b[0m     \u001b[1;32mdef\u001b[0m \u001b[0mwrite\u001b[0m\u001b[1;33m(\u001b[0m\u001b[0mself\u001b[0m\u001b[1;33m,\u001b[0m \u001b[0mtext\u001b[0m\u001b[1;33m)\u001b[0m\u001b[1;33m:\u001b[0m\u001b[1;33m\u001b[0m\u001b[1;33m\u001b[0m\u001b[0m\n\u001b[1;32m---> 41\u001b[1;33m         \u001b[0mself\u001b[0m\u001b[1;33m.\u001b[0m\u001b[0m__convertor\u001b[0m\u001b[1;33m.\u001b[0m\u001b[0mwrite\u001b[0m\u001b[1;33m(\u001b[0m\u001b[0mtext\u001b[0m\u001b[1;33m)\u001b[0m\u001b[1;33m\u001b[0m\u001b[1;33m\u001b[0m\u001b[0m\n\u001b[0m\u001b[0;32m     42\u001b[0m \u001b[1;33m\u001b[0m\u001b[0m\n\u001b[0;32m     43\u001b[0m     \u001b[1;32mdef\u001b[0m \u001b[0misatty\u001b[0m\u001b[1;33m(\u001b[0m\u001b[0mself\u001b[0m\u001b[1;33m)\u001b[0m\u001b[1;33m:\u001b[0m\u001b[1;33m\u001b[0m\u001b[1;33m\u001b[0m\u001b[0m\n",
      "\u001b[1;32mC:\\Anaconda3\\lib\\site-packages\\colorama\\ansitowin32.py\u001b[0m in \u001b[0;36mwrite\u001b[1;34m(self, text)\u001b[0m\n\u001b[0;32m    160\u001b[0m     \u001b[1;32mdef\u001b[0m \u001b[0mwrite\u001b[0m\u001b[1;33m(\u001b[0m\u001b[0mself\u001b[0m\u001b[1;33m,\u001b[0m \u001b[0mtext\u001b[0m\u001b[1;33m)\u001b[0m\u001b[1;33m:\u001b[0m\u001b[1;33m\u001b[0m\u001b[1;33m\u001b[0m\u001b[0m\n\u001b[0;32m    161\u001b[0m         \u001b[1;32mif\u001b[0m \u001b[0mself\u001b[0m\u001b[1;33m.\u001b[0m\u001b[0mstrip\u001b[0m \u001b[1;32mor\u001b[0m \u001b[0mself\u001b[0m\u001b[1;33m.\u001b[0m\u001b[0mconvert\u001b[0m\u001b[1;33m:\u001b[0m\u001b[1;33m\u001b[0m\u001b[1;33m\u001b[0m\u001b[0m\n\u001b[1;32m--> 162\u001b[1;33m             \u001b[0mself\u001b[0m\u001b[1;33m.\u001b[0m\u001b[0mwrite_and_convert\u001b[0m\u001b[1;33m(\u001b[0m\u001b[0mtext\u001b[0m\u001b[1;33m)\u001b[0m\u001b[1;33m\u001b[0m\u001b[1;33m\u001b[0m\u001b[0m\n\u001b[0m\u001b[0;32m    163\u001b[0m         \u001b[1;32melse\u001b[0m\u001b[1;33m:\u001b[0m\u001b[1;33m\u001b[0m\u001b[1;33m\u001b[0m\u001b[0m\n\u001b[0;32m    164\u001b[0m             \u001b[0mself\u001b[0m\u001b[1;33m.\u001b[0m\u001b[0mwrapped\u001b[0m\u001b[1;33m.\u001b[0m\u001b[0mwrite\u001b[0m\u001b[1;33m(\u001b[0m\u001b[0mtext\u001b[0m\u001b[1;33m)\u001b[0m\u001b[1;33m\u001b[0m\u001b[1;33m\u001b[0m\u001b[0m\n",
      "\u001b[1;32mC:\\Anaconda3\\lib\\site-packages\\colorama\\ansitowin32.py\u001b[0m in \u001b[0;36mwrite_and_convert\u001b[1;34m(self, text)\u001b[0m\n\u001b[0;32m    188\u001b[0m             \u001b[0mself\u001b[0m\u001b[1;33m.\u001b[0m\u001b[0mconvert_ansi\u001b[0m\u001b[1;33m(\u001b[0m\u001b[1;33m*\u001b[0m\u001b[0mmatch\u001b[0m\u001b[1;33m.\u001b[0m\u001b[0mgroups\u001b[0m\u001b[1;33m(\u001b[0m\u001b[1;33m)\u001b[0m\u001b[1;33m)\u001b[0m\u001b[1;33m\u001b[0m\u001b[1;33m\u001b[0m\u001b[0m\n\u001b[0;32m    189\u001b[0m             \u001b[0mcursor\u001b[0m \u001b[1;33m=\u001b[0m \u001b[0mend\u001b[0m\u001b[1;33m\u001b[0m\u001b[1;33m\u001b[0m\u001b[0m\n\u001b[1;32m--> 190\u001b[1;33m         \u001b[0mself\u001b[0m\u001b[1;33m.\u001b[0m\u001b[0mwrite_plain_text\u001b[0m\u001b[1;33m(\u001b[0m\u001b[0mtext\u001b[0m\u001b[1;33m,\u001b[0m \u001b[0mcursor\u001b[0m\u001b[1;33m,\u001b[0m \u001b[0mlen\u001b[0m\u001b[1;33m(\u001b[0m\u001b[0mtext\u001b[0m\u001b[1;33m)\u001b[0m\u001b[1;33m)\u001b[0m\u001b[1;33m\u001b[0m\u001b[1;33m\u001b[0m\u001b[0m\n\u001b[0m\u001b[0;32m    191\u001b[0m \u001b[1;33m\u001b[0m\u001b[0m\n\u001b[0;32m    192\u001b[0m \u001b[1;33m\u001b[0m\u001b[0m\n",
      "\u001b[1;32mC:\\Anaconda3\\lib\\site-packages\\colorama\\ansitowin32.py\u001b[0m in \u001b[0;36mwrite_plain_text\u001b[1;34m(self, text, start, end)\u001b[0m\n\u001b[0;32m    194\u001b[0m         \u001b[1;32mif\u001b[0m \u001b[0mstart\u001b[0m \u001b[1;33m<\u001b[0m \u001b[0mend\u001b[0m\u001b[1;33m:\u001b[0m\u001b[1;33m\u001b[0m\u001b[1;33m\u001b[0m\u001b[0m\n\u001b[0;32m    195\u001b[0m             \u001b[0mself\u001b[0m\u001b[1;33m.\u001b[0m\u001b[0mwrapped\u001b[0m\u001b[1;33m.\u001b[0m\u001b[0mwrite\u001b[0m\u001b[1;33m(\u001b[0m\u001b[0mtext\u001b[0m\u001b[1;33m[\u001b[0m\u001b[0mstart\u001b[0m\u001b[1;33m:\u001b[0m\u001b[0mend\u001b[0m\u001b[1;33m]\u001b[0m\u001b[1;33m)\u001b[0m\u001b[1;33m\u001b[0m\u001b[1;33m\u001b[0m\u001b[0m\n\u001b[1;32m--> 196\u001b[1;33m             \u001b[0mself\u001b[0m\u001b[1;33m.\u001b[0m\u001b[0mwrapped\u001b[0m\u001b[1;33m.\u001b[0m\u001b[0mflush\u001b[0m\u001b[1;33m(\u001b[0m\u001b[1;33m)\u001b[0m\u001b[1;33m\u001b[0m\u001b[1;33m\u001b[0m\u001b[0m\n\u001b[0m\u001b[0;32m    197\u001b[0m \u001b[1;33m\u001b[0m\u001b[0m\n\u001b[0;32m    198\u001b[0m \u001b[1;33m\u001b[0m\u001b[0m\n",
      "\u001b[1;32mC:\\Anaconda3\\lib\\site-packages\\ipykernel\\iostream.py\u001b[0m in \u001b[0;36mflush\u001b[1;34m(self)\u001b[0m\n\u001b[0;32m    347\u001b[0m                 \u001b[0mself\u001b[0m\u001b[1;33m.\u001b[0m\u001b[0mpub_thread\u001b[0m\u001b[1;33m.\u001b[0m\u001b[0mschedule\u001b[0m\u001b[1;33m(\u001b[0m\u001b[0mevt\u001b[0m\u001b[1;33m.\u001b[0m\u001b[0mset\u001b[0m\u001b[1;33m)\u001b[0m\u001b[1;33m\u001b[0m\u001b[1;33m\u001b[0m\u001b[0m\n\u001b[0;32m    348\u001b[0m                 \u001b[1;31m# and give a timeout to avoid\u001b[0m\u001b[1;33m\u001b[0m\u001b[1;33m\u001b[0m\u001b[1;33m\u001b[0m\u001b[0m\n\u001b[1;32m--> 349\u001b[1;33m                 \u001b[1;32mif\u001b[0m \u001b[1;32mnot\u001b[0m \u001b[0mevt\u001b[0m\u001b[1;33m.\u001b[0m\u001b[0mwait\u001b[0m\u001b[1;33m(\u001b[0m\u001b[0mself\u001b[0m\u001b[1;33m.\u001b[0m\u001b[0mflush_timeout\u001b[0m\u001b[1;33m)\u001b[0m\u001b[1;33m:\u001b[0m\u001b[1;33m\u001b[0m\u001b[1;33m\u001b[0m\u001b[0m\n\u001b[0m\u001b[0;32m    350\u001b[0m                     \u001b[1;31m# write directly to __stderr__ instead of warning because\u001b[0m\u001b[1;33m\u001b[0m\u001b[1;33m\u001b[0m\u001b[1;33m\u001b[0m\u001b[0m\n\u001b[0;32m    351\u001b[0m                     \u001b[1;31m# if this is happening sys.stderr may be the problem.\u001b[0m\u001b[1;33m\u001b[0m\u001b[1;33m\u001b[0m\u001b[1;33m\u001b[0m\u001b[0m\n",
      "\u001b[1;32mC:\\Anaconda3\\lib\\threading.py\u001b[0m in \u001b[0;36mwait\u001b[1;34m(self, timeout)\u001b[0m\n\u001b[0;32m    550\u001b[0m             \u001b[0msignaled\u001b[0m \u001b[1;33m=\u001b[0m \u001b[0mself\u001b[0m\u001b[1;33m.\u001b[0m\u001b[0m_flag\u001b[0m\u001b[1;33m\u001b[0m\u001b[1;33m\u001b[0m\u001b[0m\n\u001b[0;32m    551\u001b[0m             \u001b[1;32mif\u001b[0m \u001b[1;32mnot\u001b[0m \u001b[0msignaled\u001b[0m\u001b[1;33m:\u001b[0m\u001b[1;33m\u001b[0m\u001b[1;33m\u001b[0m\u001b[0m\n\u001b[1;32m--> 552\u001b[1;33m                 \u001b[0msignaled\u001b[0m \u001b[1;33m=\u001b[0m \u001b[0mself\u001b[0m\u001b[1;33m.\u001b[0m\u001b[0m_cond\u001b[0m\u001b[1;33m.\u001b[0m\u001b[0mwait\u001b[0m\u001b[1;33m(\u001b[0m\u001b[0mtimeout\u001b[0m\u001b[1;33m)\u001b[0m\u001b[1;33m\u001b[0m\u001b[1;33m\u001b[0m\u001b[0m\n\u001b[0m\u001b[0;32m    553\u001b[0m             \u001b[1;32mreturn\u001b[0m \u001b[0msignaled\u001b[0m\u001b[1;33m\u001b[0m\u001b[1;33m\u001b[0m\u001b[0m\n\u001b[0;32m    554\u001b[0m \u001b[1;33m\u001b[0m\u001b[0m\n",
      "\u001b[1;32mC:\\Anaconda3\\lib\\threading.py\u001b[0m in \u001b[0;36mwait\u001b[1;34m(self, timeout)\u001b[0m\n\u001b[0;32m    298\u001b[0m             \u001b[1;32melse\u001b[0m\u001b[1;33m:\u001b[0m\u001b[1;33m\u001b[0m\u001b[1;33m\u001b[0m\u001b[0m\n\u001b[0;32m    299\u001b[0m                 \u001b[1;32mif\u001b[0m \u001b[0mtimeout\u001b[0m \u001b[1;33m>\u001b[0m \u001b[1;36m0\u001b[0m\u001b[1;33m:\u001b[0m\u001b[1;33m\u001b[0m\u001b[1;33m\u001b[0m\u001b[0m\n\u001b[1;32m--> 300\u001b[1;33m                     \u001b[0mgotit\u001b[0m \u001b[1;33m=\u001b[0m \u001b[0mwaiter\u001b[0m\u001b[1;33m.\u001b[0m\u001b[0macquire\u001b[0m\u001b[1;33m(\u001b[0m\u001b[1;32mTrue\u001b[0m\u001b[1;33m,\u001b[0m \u001b[0mtimeout\u001b[0m\u001b[1;33m)\u001b[0m\u001b[1;33m\u001b[0m\u001b[1;33m\u001b[0m\u001b[0m\n\u001b[0m\u001b[0;32m    301\u001b[0m                 \u001b[1;32melse\u001b[0m\u001b[1;33m:\u001b[0m\u001b[1;33m\u001b[0m\u001b[1;33m\u001b[0m\u001b[0m\n\u001b[0;32m    302\u001b[0m                     \u001b[0mgotit\u001b[0m \u001b[1;33m=\u001b[0m \u001b[0mwaiter\u001b[0m\u001b[1;33m.\u001b[0m\u001b[0macquire\u001b[0m\u001b[1;33m(\u001b[0m\u001b[1;32mFalse\u001b[0m\u001b[1;33m)\u001b[0m\u001b[1;33m\u001b[0m\u001b[1;33m\u001b[0m\u001b[0m\n",
      "\u001b[1;31mKeyboardInterrupt\u001b[0m: "
     ]
    }
   ],
   "source": [
    "chardict = list(chartoidx.keys())\n",
    "temperature = 0.35\n",
    "\n",
    "# plikhasel = open(\"../haslaAI_bezrelu.txt\", \"a\", encoding=\"utf8\")\n",
    "\n",
    "hiddens = torch.zeros(2*lstms, 1, hiddensize).to(device)\n",
    "\n",
    "for _ in tqdm_notebook(range(20)):\n",
    "    slowostart = \"d\"\n",
    "\n",
    "    with torch.no_grad():\n",
    "        lastchar = 0\n",
    "        cnt = 0\n",
    "\n",
    "        chlstm.eval()\n",
    "        znaki = [chartoidx[item] for item in slowostart]\n",
    "        bazastart = len(znaki)\n",
    "\n",
    "        for __ in range(longestword - bazastart+1):\n",
    "            znaki.append(chartoidx[\"<EMPTY>\"])\n",
    "\n",
    "        for item in range(longestword - bazastart+1):\n",
    "            x = torch.Tensor(znaki).long().to(device).view(1, -1)\n",
    "\n",
    "            out, _ = chlstm(x, hiddens, NLL=False)\n",
    "\n",
    "            print(x.shape)\n",
    "            print(out.shape)\n",
    "            \n",
    "            zwrot = out[:,-1].view(-1)\n",
    "            exped = zwrot.data.div(temperature).exp()\n",
    "            top_i = torch.multinomial(exped, 1)\n",
    "    #         softmaxed = torch.softmax(top_i, 0)\n",
    "    #         charid = torch.argmax(softmaxed, 0)\n",
    "            charid = top_i[0]\n",
    "\n",
    "            znaki[item+bazastart] = charid\n",
    "\n",
    "\n",
    "        slowo = \"\"\n",
    "        for item in znaki:\n",
    "            if item != 0:\n",
    "                slowo+=chardict[item]\n",
    "\n",
    "        print(slowo)\n",
    "#         plikhasel.write(slowo+\"\\n\")\n",
    "# plikhasel.close()"
   ]
  },
  {
   "cell_type": "code",
   "execution_count": 16,
   "metadata": {},
   "outputs": [],
   "source": [
    "torch.save([longestword, lstms, hiddensize], \"../models/longestword.pth\")"
   ]
  },
  {
   "cell_type": "code",
   "execution_count": 79,
   "metadata": {},
   "outputs": [
    {
     "data": {
      "application/vnd.jupyter.widget-view+json": {
       "model_id": "6e64ecfeea894af2bb60e483e470e4e6",
       "version_major": 2,
       "version_minor": 0
      },
      "text/plain": [
       "HBox(children=(IntProgress(value=0, max=215940), HTML(value='')))"
      ]
     },
     "metadata": {},
     "output_type": "display_data"
    },
    {
     "ename": "KeyboardInterrupt",
     "evalue": "",
     "output_type": "error",
     "traceback": [
      "\u001b[0;31m---------------------------------------------------------------------------\u001b[0m",
      "\u001b[0;31mKeyboardInterrupt\u001b[0m                         Traceback (most recent call last)",
      "\u001b[0;32m<ipython-input-79-0820f5155bec>\u001b[0m in \u001b[0;36m<module>\u001b[0;34m\u001b[0m\n\u001b[1;32m     17\u001b[0m \u001b[0mplikhasel\u001b[0m \u001b[0;34m=\u001b[0m \u001b[0mopen\u001b[0m\u001b[0;34m(\u001b[0m\u001b[0;34m\"../haslaAI_bezrelu.txt\"\u001b[0m\u001b[0;34m,\u001b[0m \u001b[0;34m\"a\"\u001b[0m\u001b[0;34m,\u001b[0m \u001b[0mencoding\u001b[0m\u001b[0;34m=\u001b[0m\u001b[0;34m\"utf8\"\u001b[0m\u001b[0;34m)\u001b[0m\u001b[0;34m\u001b[0m\u001b[0;34m\u001b[0m\u001b[0m\n\u001b[1;32m     18\u001b[0m \u001b[0;34m\u001b[0m\u001b[0m\n\u001b[0;32m---> 19\u001b[0;31m \u001b[0;32mfor\u001b[0m \u001b[0mstart\u001b[0m \u001b[0;32min\u001b[0m \u001b[0mtqdm_notebook\u001b[0m\u001b[0;34m(\u001b[0m\u001b[0mstartowe\u001b[0m\u001b[0;34m)\u001b[0m\u001b[0;34m:\u001b[0m\u001b[0;34m\u001b[0m\u001b[0;34m\u001b[0m\u001b[0m\n\u001b[0m\u001b[1;32m     20\u001b[0m     \u001b[0mhiddens\u001b[0m \u001b[0;34m=\u001b[0m \u001b[0mtorch\u001b[0m\u001b[0;34m.\u001b[0m\u001b[0mzeros\u001b[0m\u001b[0;34m(\u001b[0m\u001b[0;36m2\u001b[0m\u001b[0;34m*\u001b[0m\u001b[0mlstms\u001b[0m\u001b[0;34m,\u001b[0m \u001b[0milehasel\u001b[0m\u001b[0;34m,\u001b[0m \u001b[0mhiddensize\u001b[0m\u001b[0;34m)\u001b[0m\u001b[0;34m.\u001b[0m\u001b[0mto\u001b[0m\u001b[0;34m(\u001b[0m\u001b[0mdevice\u001b[0m\u001b[0;34m)\u001b[0m\u001b[0;34m\u001b[0m\u001b[0;34m\u001b[0m\u001b[0m\n\u001b[1;32m     21\u001b[0m     \u001b[0mslowostart\u001b[0m \u001b[0;34m=\u001b[0m \u001b[0mstart\u001b[0m\u001b[0;34m\u001b[0m\u001b[0;34m\u001b[0m\u001b[0m\n",
      "\u001b[0;32m~/.conda/envs/mborzymowski/lib/python3.7/site-packages/tqdm/_tqdm_notebook.py\u001b[0m in \u001b[0;36m__iter__\u001b[0;34m(self, *args, **kwargs)\u001b[0m\n\u001b[1;32m    219\u001b[0m     \u001b[0;32mdef\u001b[0m \u001b[0m__iter__\u001b[0m\u001b[0;34m(\u001b[0m\u001b[0mself\u001b[0m\u001b[0;34m,\u001b[0m \u001b[0;34m*\u001b[0m\u001b[0margs\u001b[0m\u001b[0;34m,\u001b[0m \u001b[0;34m**\u001b[0m\u001b[0mkwargs\u001b[0m\u001b[0;34m)\u001b[0m\u001b[0;34m:\u001b[0m\u001b[0;34m\u001b[0m\u001b[0;34m\u001b[0m\u001b[0m\n\u001b[1;32m    220\u001b[0m         \u001b[0;32mtry\u001b[0m\u001b[0;34m:\u001b[0m\u001b[0;34m\u001b[0m\u001b[0;34m\u001b[0m\u001b[0m\n\u001b[0;32m--> 221\u001b[0;31m             \u001b[0;32mfor\u001b[0m \u001b[0mobj\u001b[0m \u001b[0;32min\u001b[0m \u001b[0msuper\u001b[0m\u001b[0;34m(\u001b[0m\u001b[0mtqdm_notebook\u001b[0m\u001b[0;34m,\u001b[0m \u001b[0mself\u001b[0m\u001b[0;34m)\u001b[0m\u001b[0;34m.\u001b[0m\u001b[0m__iter__\u001b[0m\u001b[0;34m(\u001b[0m\u001b[0;34m*\u001b[0m\u001b[0margs\u001b[0m\u001b[0;34m,\u001b[0m \u001b[0;34m**\u001b[0m\u001b[0mkwargs\u001b[0m\u001b[0;34m)\u001b[0m\u001b[0;34m:\u001b[0m\u001b[0;34m\u001b[0m\u001b[0;34m\u001b[0m\u001b[0m\n\u001b[0m\u001b[1;32m    222\u001b[0m                 \u001b[0;31m# return super(tqdm...) will not catch exception\u001b[0m\u001b[0;34m\u001b[0m\u001b[0;34m\u001b[0m\u001b[0;34m\u001b[0m\u001b[0m\n\u001b[1;32m    223\u001b[0m                 \u001b[0;32myield\u001b[0m \u001b[0mobj\u001b[0m\u001b[0;34m\u001b[0m\u001b[0;34m\u001b[0m\u001b[0m\n",
      "\u001b[0;32m~/.conda/envs/mborzymowski/lib/python3.7/site-packages/tqdm/_tqdm.py\u001b[0m in \u001b[0;36m__iter__\u001b[0;34m(self)\u001b[0m\n\u001b[1;32m   1040\u001b[0m                         \u001b[0mself\u001b[0m\u001b[0;34m.\u001b[0m\u001b[0mn\u001b[0m \u001b[0;34m=\u001b[0m \u001b[0mn\u001b[0m\u001b[0;34m\u001b[0m\u001b[0;34m\u001b[0m\u001b[0m\n\u001b[1;32m   1041\u001b[0m                         \u001b[0;32mwith\u001b[0m \u001b[0mself\u001b[0m\u001b[0;34m.\u001b[0m\u001b[0m_lock\u001b[0m\u001b[0;34m:\u001b[0m\u001b[0;34m\u001b[0m\u001b[0;34m\u001b[0m\u001b[0m\n\u001b[0;32m-> 1042\u001b[0;31m                             \u001b[0mself\u001b[0m\u001b[0;34m.\u001b[0m\u001b[0mdisplay\u001b[0m\u001b[0;34m(\u001b[0m\u001b[0;34m)\u001b[0m\u001b[0;34m\u001b[0m\u001b[0;34m\u001b[0m\u001b[0m\n\u001b[0m\u001b[1;32m   1043\u001b[0m \u001b[0;34m\u001b[0m\u001b[0m\n\u001b[1;32m   1044\u001b[0m                         \u001b[0;31m# If no `miniters` was specified, adjust automatically\u001b[0m\u001b[0;34m\u001b[0m\u001b[0;34m\u001b[0m\u001b[0;34m\u001b[0m\u001b[0m\n",
      "\u001b[0;32m~/.conda/envs/mborzymowski/lib/python3.7/site-packages/tqdm/_tqdm.py\u001b[0m in \u001b[0;36mdisplay\u001b[0;34m(self, msg, pos)\u001b[0m\n\u001b[1;32m   1313\u001b[0m         \u001b[0;32mif\u001b[0m \u001b[0mpos\u001b[0m\u001b[0;34m:\u001b[0m\u001b[0;34m\u001b[0m\u001b[0;34m\u001b[0m\u001b[0m\n\u001b[1;32m   1314\u001b[0m             \u001b[0mself\u001b[0m\u001b[0;34m.\u001b[0m\u001b[0mmoveto\u001b[0m\u001b[0;34m(\u001b[0m\u001b[0mpos\u001b[0m\u001b[0;34m)\u001b[0m\u001b[0;34m\u001b[0m\u001b[0;34m\u001b[0m\u001b[0m\n\u001b[0;32m-> 1315\u001b[0;31m         \u001b[0mself\u001b[0m\u001b[0;34m.\u001b[0m\u001b[0msp\u001b[0m\u001b[0;34m(\u001b[0m\u001b[0mself\u001b[0m\u001b[0;34m.\u001b[0m\u001b[0m__repr__\u001b[0m\u001b[0;34m(\u001b[0m\u001b[0;34m)\u001b[0m \u001b[0;32mif\u001b[0m \u001b[0mmsg\u001b[0m \u001b[0;32mis\u001b[0m \u001b[0;32mNone\u001b[0m \u001b[0;32melse\u001b[0m \u001b[0mmsg\u001b[0m\u001b[0;34m)\u001b[0m\u001b[0;34m\u001b[0m\u001b[0;34m\u001b[0m\u001b[0m\n\u001b[0m\u001b[1;32m   1316\u001b[0m         \u001b[0;32mif\u001b[0m \u001b[0mpos\u001b[0m\u001b[0;34m:\u001b[0m\u001b[0;34m\u001b[0m\u001b[0;34m\u001b[0m\u001b[0m\n\u001b[1;32m   1317\u001b[0m             \u001b[0mself\u001b[0m\u001b[0;34m.\u001b[0m\u001b[0mmoveto\u001b[0m\u001b[0;34m(\u001b[0m\u001b[0;34m-\u001b[0m\u001b[0mpos\u001b[0m\u001b[0;34m)\u001b[0m\u001b[0;34m\u001b[0m\u001b[0;34m\u001b[0m\u001b[0m\n",
      "\u001b[0;32m~/.conda/envs/mborzymowski/lib/python3.7/site-packages/tqdm/_tqdm_notebook.py\u001b[0m in \u001b[0;36mprint_status\u001b[0;34m(s, close, bar_style, desc)\u001b[0m\n\u001b[1;32m    156\u001b[0m                         \u001b[0;31m# Update bar with current n value\u001b[0m\u001b[0;34m\u001b[0m\u001b[0;34m\u001b[0m\u001b[0;34m\u001b[0m\u001b[0m\n\u001b[1;32m    157\u001b[0m                         \u001b[0;32mif\u001b[0m \u001b[0mn\u001b[0m \u001b[0;32mis\u001b[0m \u001b[0;32mnot\u001b[0m \u001b[0;32mNone\u001b[0m\u001b[0;34m:\u001b[0m\u001b[0;34m\u001b[0m\u001b[0;34m\u001b[0m\u001b[0m\n\u001b[0;32m--> 158\u001b[0;31m                             \u001b[0mpbar\u001b[0m\u001b[0;34m.\u001b[0m\u001b[0mvalue\u001b[0m \u001b[0;34m=\u001b[0m \u001b[0mn\u001b[0m\u001b[0;34m\u001b[0m\u001b[0;34m\u001b[0m\u001b[0m\n\u001b[0m\u001b[1;32m    159\u001b[0m \u001b[0;34m\u001b[0m\u001b[0m\n\u001b[1;32m    160\u001b[0m             \u001b[0;31m# Print stats\u001b[0m\u001b[0;34m\u001b[0m\u001b[0;34m\u001b[0m\u001b[0;34m\u001b[0m\u001b[0m\n",
      "\u001b[0;32m~/.conda/envs/mborzymowski/lib/python3.7/site-packages/traitlets/traitlets.py\u001b[0m in \u001b[0;36m__set__\u001b[0;34m(self, obj, value)\u001b[0m\n\u001b[1;32m    583\u001b[0m             \u001b[0;32mraise\u001b[0m \u001b[0mTraitError\u001b[0m\u001b[0;34m(\u001b[0m\u001b[0;34m'The \"%s\" trait is read-only.'\u001b[0m \u001b[0;34m%\u001b[0m \u001b[0mself\u001b[0m\u001b[0;34m.\u001b[0m\u001b[0mname\u001b[0m\u001b[0;34m)\u001b[0m\u001b[0;34m\u001b[0m\u001b[0;34m\u001b[0m\u001b[0m\n\u001b[1;32m    584\u001b[0m         \u001b[0;32melse\u001b[0m\u001b[0;34m:\u001b[0m\u001b[0;34m\u001b[0m\u001b[0;34m\u001b[0m\u001b[0m\n\u001b[0;32m--> 585\u001b[0;31m             \u001b[0mself\u001b[0m\u001b[0;34m.\u001b[0m\u001b[0mset\u001b[0m\u001b[0;34m(\u001b[0m\u001b[0mobj\u001b[0m\u001b[0;34m,\u001b[0m \u001b[0mvalue\u001b[0m\u001b[0;34m)\u001b[0m\u001b[0;34m\u001b[0m\u001b[0;34m\u001b[0m\u001b[0m\n\u001b[0m\u001b[1;32m    586\u001b[0m \u001b[0;34m\u001b[0m\u001b[0m\n\u001b[1;32m    587\u001b[0m     \u001b[0;32mdef\u001b[0m \u001b[0m_validate\u001b[0m\u001b[0;34m(\u001b[0m\u001b[0mself\u001b[0m\u001b[0;34m,\u001b[0m \u001b[0mobj\u001b[0m\u001b[0;34m,\u001b[0m \u001b[0mvalue\u001b[0m\u001b[0;34m)\u001b[0m\u001b[0;34m:\u001b[0m\u001b[0;34m\u001b[0m\u001b[0;34m\u001b[0m\u001b[0m\n",
      "\u001b[0;32m~/.conda/envs/mborzymowski/lib/python3.7/site-packages/traitlets/traitlets.py\u001b[0m in \u001b[0;36mset\u001b[0;34m(self, obj, value)\u001b[0m\n\u001b[1;32m    572\u001b[0m             \u001b[0;31m# we explicitly compare silent to True just in case the equality\u001b[0m\u001b[0;34m\u001b[0m\u001b[0;34m\u001b[0m\u001b[0;34m\u001b[0m\u001b[0m\n\u001b[1;32m    573\u001b[0m             \u001b[0;31m# comparison above returns something other than True/False\u001b[0m\u001b[0;34m\u001b[0m\u001b[0;34m\u001b[0m\u001b[0;34m\u001b[0m\u001b[0m\n\u001b[0;32m--> 574\u001b[0;31m             \u001b[0mobj\u001b[0m\u001b[0;34m.\u001b[0m\u001b[0m_notify_trait\u001b[0m\u001b[0;34m(\u001b[0m\u001b[0mself\u001b[0m\u001b[0;34m.\u001b[0m\u001b[0mname\u001b[0m\u001b[0;34m,\u001b[0m \u001b[0mold_value\u001b[0m\u001b[0;34m,\u001b[0m \u001b[0mnew_value\u001b[0m\u001b[0;34m)\u001b[0m\u001b[0;34m\u001b[0m\u001b[0;34m\u001b[0m\u001b[0m\n\u001b[0m\u001b[1;32m    575\u001b[0m \u001b[0;34m\u001b[0m\u001b[0m\n\u001b[1;32m    576\u001b[0m     \u001b[0;32mdef\u001b[0m \u001b[0m__set__\u001b[0m\u001b[0;34m(\u001b[0m\u001b[0mself\u001b[0m\u001b[0;34m,\u001b[0m \u001b[0mobj\u001b[0m\u001b[0;34m,\u001b[0m \u001b[0mvalue\u001b[0m\u001b[0;34m)\u001b[0m\u001b[0;34m:\u001b[0m\u001b[0;34m\u001b[0m\u001b[0;34m\u001b[0m\u001b[0m\n",
      "\u001b[0;32m~/.conda/envs/mborzymowski/lib/python3.7/site-packages/traitlets/traitlets.py\u001b[0m in \u001b[0;36m_notify_trait\u001b[0;34m(self, name, old_value, new_value)\u001b[0m\n\u001b[1;32m   1137\u001b[0m             \u001b[0mnew\u001b[0m\u001b[0;34m=\u001b[0m\u001b[0mnew_value\u001b[0m\u001b[0;34m,\u001b[0m\u001b[0;34m\u001b[0m\u001b[0;34m\u001b[0m\u001b[0m\n\u001b[1;32m   1138\u001b[0m             \u001b[0mowner\u001b[0m\u001b[0;34m=\u001b[0m\u001b[0mself\u001b[0m\u001b[0;34m,\u001b[0m\u001b[0;34m\u001b[0m\u001b[0;34m\u001b[0m\u001b[0m\n\u001b[0;32m-> 1139\u001b[0;31m             \u001b[0mtype\u001b[0m\u001b[0;34m=\u001b[0m\u001b[0;34m'change'\u001b[0m\u001b[0;34m,\u001b[0m\u001b[0;34m\u001b[0m\u001b[0;34m\u001b[0m\u001b[0m\n\u001b[0m\u001b[1;32m   1140\u001b[0m         ))\n\u001b[1;32m   1141\u001b[0m \u001b[0;34m\u001b[0m\u001b[0m\n",
      "\u001b[0;32m~/.conda/envs/mborzymowski/lib/python3.7/site-packages/ipywidgets/widgets/widget.py\u001b[0m in \u001b[0;36mnotify_change\u001b[0;34m(self, change)\u001b[0m\n\u001b[1;32m    597\u001b[0m             \u001b[0;32mif\u001b[0m \u001b[0mname\u001b[0m \u001b[0;32min\u001b[0m \u001b[0mself\u001b[0m\u001b[0;34m.\u001b[0m\u001b[0mkeys\u001b[0m \u001b[0;32mand\u001b[0m \u001b[0mself\u001b[0m\u001b[0;34m.\u001b[0m\u001b[0m_should_send_property\u001b[0m\u001b[0;34m(\u001b[0m\u001b[0mname\u001b[0m\u001b[0;34m,\u001b[0m \u001b[0mgetattr\u001b[0m\u001b[0;34m(\u001b[0m\u001b[0mself\u001b[0m\u001b[0;34m,\u001b[0m \u001b[0mname\u001b[0m\u001b[0;34m)\u001b[0m\u001b[0;34m)\u001b[0m\u001b[0;34m:\u001b[0m\u001b[0;34m\u001b[0m\u001b[0;34m\u001b[0m\u001b[0m\n\u001b[1;32m    598\u001b[0m                 \u001b[0;31m# Send new state to front-end\u001b[0m\u001b[0;34m\u001b[0m\u001b[0;34m\u001b[0m\u001b[0;34m\u001b[0m\u001b[0m\n\u001b[0;32m--> 599\u001b[0;31m                 \u001b[0mself\u001b[0m\u001b[0;34m.\u001b[0m\u001b[0msend_state\u001b[0m\u001b[0;34m(\u001b[0m\u001b[0mkey\u001b[0m\u001b[0;34m=\u001b[0m\u001b[0mname\u001b[0m\u001b[0;34m)\u001b[0m\u001b[0;34m\u001b[0m\u001b[0;34m\u001b[0m\u001b[0m\n\u001b[0m\u001b[1;32m    600\u001b[0m         \u001b[0msuper\u001b[0m\u001b[0;34m(\u001b[0m\u001b[0mWidget\u001b[0m\u001b[0;34m,\u001b[0m \u001b[0mself\u001b[0m\u001b[0;34m)\u001b[0m\u001b[0;34m.\u001b[0m\u001b[0mnotify_change\u001b[0m\u001b[0;34m(\u001b[0m\u001b[0mchange\u001b[0m\u001b[0;34m)\u001b[0m\u001b[0;34m\u001b[0m\u001b[0;34m\u001b[0m\u001b[0m\n\u001b[1;32m    601\u001b[0m \u001b[0;34m\u001b[0m\u001b[0m\n",
      "\u001b[0;32m~/.conda/envs/mborzymowski/lib/python3.7/site-packages/ipywidgets/widgets/widget.py\u001b[0m in \u001b[0;36msend_state\u001b[0;34m(self, key)\u001b[0m\n\u001b[1;32m    482\u001b[0m             \u001b[0mstate\u001b[0m\u001b[0;34m,\u001b[0m \u001b[0mbuffer_paths\u001b[0m\u001b[0;34m,\u001b[0m \u001b[0mbuffers\u001b[0m \u001b[0;34m=\u001b[0m \u001b[0m_remove_buffers\u001b[0m\u001b[0;34m(\u001b[0m\u001b[0mstate\u001b[0m\u001b[0;34m)\u001b[0m\u001b[0;34m\u001b[0m\u001b[0;34m\u001b[0m\u001b[0m\n\u001b[1;32m    483\u001b[0m             \u001b[0mmsg\u001b[0m \u001b[0;34m=\u001b[0m \u001b[0;34m{\u001b[0m\u001b[0;34m'method'\u001b[0m\u001b[0;34m:\u001b[0m \u001b[0;34m'update'\u001b[0m\u001b[0;34m,\u001b[0m \u001b[0;34m'state'\u001b[0m\u001b[0;34m:\u001b[0m \u001b[0mstate\u001b[0m\u001b[0;34m,\u001b[0m \u001b[0;34m'buffer_paths'\u001b[0m\u001b[0;34m:\u001b[0m \u001b[0mbuffer_paths\u001b[0m\u001b[0;34m}\u001b[0m\u001b[0;34m\u001b[0m\u001b[0;34m\u001b[0m\u001b[0m\n\u001b[0;32m--> 484\u001b[0;31m             \u001b[0mself\u001b[0m\u001b[0;34m.\u001b[0m\u001b[0m_send\u001b[0m\u001b[0;34m(\u001b[0m\u001b[0mmsg\u001b[0m\u001b[0;34m,\u001b[0m \u001b[0mbuffers\u001b[0m\u001b[0;34m=\u001b[0m\u001b[0mbuffers\u001b[0m\u001b[0;34m)\u001b[0m\u001b[0;34m\u001b[0m\u001b[0;34m\u001b[0m\u001b[0m\n\u001b[0m\u001b[1;32m    485\u001b[0m \u001b[0;34m\u001b[0m\u001b[0m\n\u001b[1;32m    486\u001b[0m     \u001b[0;32mdef\u001b[0m \u001b[0mget_state\u001b[0m\u001b[0;34m(\u001b[0m\u001b[0mself\u001b[0m\u001b[0;34m,\u001b[0m \u001b[0mkey\u001b[0m\u001b[0;34m=\u001b[0m\u001b[0;32mNone\u001b[0m\u001b[0;34m,\u001b[0m \u001b[0mdrop_defaults\u001b[0m\u001b[0;34m=\u001b[0m\u001b[0;32mFalse\u001b[0m\u001b[0;34m)\u001b[0m\u001b[0;34m:\u001b[0m\u001b[0;34m\u001b[0m\u001b[0;34m\u001b[0m\u001b[0m\n",
      "\u001b[0;32m~/.conda/envs/mborzymowski/lib/python3.7/site-packages/ipywidgets/widgets/widget.py\u001b[0m in \u001b[0;36m_send\u001b[0;34m(self, msg, buffers)\u001b[0m\n\u001b[1;32m    727\u001b[0m         \u001b[0;34m\"\"\"Sends a message to the model in the front-end.\"\"\"\u001b[0m\u001b[0;34m\u001b[0m\u001b[0;34m\u001b[0m\u001b[0m\n\u001b[1;32m    728\u001b[0m         \u001b[0;32mif\u001b[0m \u001b[0mself\u001b[0m\u001b[0;34m.\u001b[0m\u001b[0mcomm\u001b[0m \u001b[0;32mis\u001b[0m \u001b[0;32mnot\u001b[0m \u001b[0;32mNone\u001b[0m \u001b[0;32mand\u001b[0m \u001b[0mself\u001b[0m\u001b[0;34m.\u001b[0m\u001b[0mcomm\u001b[0m\u001b[0;34m.\u001b[0m\u001b[0mkernel\u001b[0m \u001b[0;32mis\u001b[0m \u001b[0;32mnot\u001b[0m \u001b[0;32mNone\u001b[0m\u001b[0;34m:\u001b[0m\u001b[0;34m\u001b[0m\u001b[0;34m\u001b[0m\u001b[0m\n\u001b[0;32m--> 729\u001b[0;31m             \u001b[0mself\u001b[0m\u001b[0;34m.\u001b[0m\u001b[0mcomm\u001b[0m\u001b[0;34m.\u001b[0m\u001b[0msend\u001b[0m\u001b[0;34m(\u001b[0m\u001b[0mdata\u001b[0m\u001b[0;34m=\u001b[0m\u001b[0mmsg\u001b[0m\u001b[0;34m,\u001b[0m \u001b[0mbuffers\u001b[0m\u001b[0;34m=\u001b[0m\u001b[0mbuffers\u001b[0m\u001b[0;34m)\u001b[0m\u001b[0;34m\u001b[0m\u001b[0;34m\u001b[0m\u001b[0m\n\u001b[0m\u001b[1;32m    730\u001b[0m \u001b[0;34m\u001b[0m\u001b[0m\n\u001b[1;32m    731\u001b[0m     \u001b[0;32mdef\u001b[0m \u001b[0m_repr_keys\u001b[0m\u001b[0;34m(\u001b[0m\u001b[0mself\u001b[0m\u001b[0;34m)\u001b[0m\u001b[0;34m:\u001b[0m\u001b[0;34m\u001b[0m\u001b[0;34m\u001b[0m\u001b[0m\n",
      "\u001b[0;32m~/.conda/envs/mborzymowski/lib/python3.7/site-packages/ipykernel/comm/comm.py\u001b[0m in \u001b[0;36msend\u001b[0;34m(self, data, metadata, buffers)\u001b[0m\n\u001b[1;32m    119\u001b[0m         \u001b[0;34m\"\"\"Send a message to the frontend-side version of this comm\"\"\"\u001b[0m\u001b[0;34m\u001b[0m\u001b[0;34m\u001b[0m\u001b[0m\n\u001b[1;32m    120\u001b[0m         self._publish_msg('comm_msg',\n\u001b[0;32m--> 121\u001b[0;31m             \u001b[0mdata\u001b[0m\u001b[0;34m=\u001b[0m\u001b[0mdata\u001b[0m\u001b[0;34m,\u001b[0m \u001b[0mmetadata\u001b[0m\u001b[0;34m=\u001b[0m\u001b[0mmetadata\u001b[0m\u001b[0;34m,\u001b[0m \u001b[0mbuffers\u001b[0m\u001b[0;34m=\u001b[0m\u001b[0mbuffers\u001b[0m\u001b[0;34m,\u001b[0m\u001b[0;34m\u001b[0m\u001b[0;34m\u001b[0m\u001b[0m\n\u001b[0m\u001b[1;32m    122\u001b[0m         )\n\u001b[1;32m    123\u001b[0m \u001b[0;34m\u001b[0m\u001b[0m\n",
      "\u001b[0;32m~/.conda/envs/mborzymowski/lib/python3.7/site-packages/ipykernel/comm/comm.py\u001b[0m in \u001b[0;36m_publish_msg\u001b[0;34m(self, msg_type, data, metadata, buffers, **keys)\u001b[0m\n\u001b[1;32m     69\u001b[0m             \u001b[0mparent\u001b[0m\u001b[0;34m=\u001b[0m\u001b[0mself\u001b[0m\u001b[0;34m.\u001b[0m\u001b[0mkernel\u001b[0m\u001b[0;34m.\u001b[0m\u001b[0m_parent_header\u001b[0m\u001b[0;34m,\u001b[0m\u001b[0;34m\u001b[0m\u001b[0;34m\u001b[0m\u001b[0m\n\u001b[1;32m     70\u001b[0m             \u001b[0mident\u001b[0m\u001b[0;34m=\u001b[0m\u001b[0mself\u001b[0m\u001b[0;34m.\u001b[0m\u001b[0mtopic\u001b[0m\u001b[0;34m,\u001b[0m\u001b[0;34m\u001b[0m\u001b[0;34m\u001b[0m\u001b[0m\n\u001b[0;32m---> 71\u001b[0;31m             \u001b[0mbuffers\u001b[0m\u001b[0;34m=\u001b[0m\u001b[0mbuffers\u001b[0m\u001b[0;34m,\u001b[0m\u001b[0;34m\u001b[0m\u001b[0;34m\u001b[0m\u001b[0m\n\u001b[0m\u001b[1;32m     72\u001b[0m         )\n\u001b[1;32m     73\u001b[0m \u001b[0;34m\u001b[0m\u001b[0m\n",
      "\u001b[0;32m~/.conda/envs/mborzymowski/lib/python3.7/site-packages/jupyter_client/session.py\u001b[0m in \u001b[0;36msend\u001b[0;34m(self, stream, msg_or_type, content, parent, ident, buffers, track, header, metadata)\u001b[0m\n\u001b[1;32m    711\u001b[0m         \u001b[0;32melse\u001b[0m\u001b[0;34m:\u001b[0m\u001b[0;34m\u001b[0m\u001b[0;34m\u001b[0m\u001b[0m\n\u001b[1;32m    712\u001b[0m             msg = self.msg(msg_or_type, content=content, parent=parent,\n\u001b[0;32m--> 713\u001b[0;31m                            header=header, metadata=metadata)\n\u001b[0m\u001b[1;32m    714\u001b[0m         \u001b[0;32mif\u001b[0m \u001b[0mself\u001b[0m\u001b[0;34m.\u001b[0m\u001b[0mcheck_pid\u001b[0m \u001b[0;32mand\u001b[0m \u001b[0;32mnot\u001b[0m \u001b[0mos\u001b[0m\u001b[0;34m.\u001b[0m\u001b[0mgetpid\u001b[0m\u001b[0;34m(\u001b[0m\u001b[0;34m)\u001b[0m \u001b[0;34m==\u001b[0m \u001b[0mself\u001b[0m\u001b[0;34m.\u001b[0m\u001b[0mpid\u001b[0m\u001b[0;34m:\u001b[0m\u001b[0;34m\u001b[0m\u001b[0;34m\u001b[0m\u001b[0m\n\u001b[1;32m    715\u001b[0m             get_logger().warning(\"WARNING: attempted to send message from fork\\n%s\",\n",
      "\u001b[0;32m~/.conda/envs/mborzymowski/lib/python3.7/site-packages/jupyter_client/session.py\u001b[0m in \u001b[0;36mmsg\u001b[0;34m(self, msg_type, content, parent, header, metadata)\u001b[0m\n\u001b[1;32m    570\u001b[0m         \"\"\"\n\u001b[1;32m    571\u001b[0m         \u001b[0mmsg\u001b[0m \u001b[0;34m=\u001b[0m \u001b[0;34m{\u001b[0m\u001b[0;34m}\u001b[0m\u001b[0;34m\u001b[0m\u001b[0;34m\u001b[0m\u001b[0m\n\u001b[0;32m--> 572\u001b[0;31m         \u001b[0mheader\u001b[0m \u001b[0;34m=\u001b[0m \u001b[0mself\u001b[0m\u001b[0;34m.\u001b[0m\u001b[0mmsg_header\u001b[0m\u001b[0;34m(\u001b[0m\u001b[0mmsg_type\u001b[0m\u001b[0;34m)\u001b[0m \u001b[0;32mif\u001b[0m \u001b[0mheader\u001b[0m \u001b[0;32mis\u001b[0m \u001b[0;32mNone\u001b[0m \u001b[0;32melse\u001b[0m \u001b[0mheader\u001b[0m\u001b[0;34m\u001b[0m\u001b[0;34m\u001b[0m\u001b[0m\n\u001b[0m\u001b[1;32m    573\u001b[0m         \u001b[0mmsg\u001b[0m\u001b[0;34m[\u001b[0m\u001b[0;34m'header'\u001b[0m\u001b[0;34m]\u001b[0m \u001b[0;34m=\u001b[0m \u001b[0mheader\u001b[0m\u001b[0;34m\u001b[0m\u001b[0;34m\u001b[0m\u001b[0m\n\u001b[1;32m    574\u001b[0m         \u001b[0mmsg\u001b[0m\u001b[0;34m[\u001b[0m\u001b[0;34m'msg_id'\u001b[0m\u001b[0;34m]\u001b[0m \u001b[0;34m=\u001b[0m \u001b[0mheader\u001b[0m\u001b[0;34m[\u001b[0m\u001b[0;34m'msg_id'\u001b[0m\u001b[0;34m]\u001b[0m\u001b[0;34m\u001b[0m\u001b[0;34m\u001b[0m\u001b[0m\n",
      "\u001b[0;32m~/.conda/envs/mborzymowski/lib/python3.7/site-packages/jupyter_client/session.py\u001b[0m in \u001b[0;36mmsg_header\u001b[0;34m(self, msg_type)\u001b[0m\n\u001b[1;32m    560\u001b[0m \u001b[0;34m\u001b[0m\u001b[0m\n\u001b[1;32m    561\u001b[0m     \u001b[0;32mdef\u001b[0m \u001b[0mmsg_header\u001b[0m\u001b[0;34m(\u001b[0m\u001b[0mself\u001b[0m\u001b[0;34m,\u001b[0m \u001b[0mmsg_type\u001b[0m\u001b[0;34m)\u001b[0m\u001b[0;34m:\u001b[0m\u001b[0;34m\u001b[0m\u001b[0;34m\u001b[0m\u001b[0m\n\u001b[0;32m--> 562\u001b[0;31m         \u001b[0;32mreturn\u001b[0m \u001b[0mmsg_header\u001b[0m\u001b[0;34m(\u001b[0m\u001b[0mself\u001b[0m\u001b[0;34m.\u001b[0m\u001b[0mmsg_id\u001b[0m\u001b[0;34m,\u001b[0m \u001b[0mmsg_type\u001b[0m\u001b[0;34m,\u001b[0m \u001b[0mself\u001b[0m\u001b[0;34m.\u001b[0m\u001b[0musername\u001b[0m\u001b[0;34m,\u001b[0m \u001b[0mself\u001b[0m\u001b[0;34m.\u001b[0m\u001b[0msession\u001b[0m\u001b[0;34m)\u001b[0m\u001b[0;34m\u001b[0m\u001b[0;34m\u001b[0m\u001b[0m\n\u001b[0m\u001b[1;32m    563\u001b[0m \u001b[0;34m\u001b[0m\u001b[0m\n\u001b[1;32m    564\u001b[0m     \u001b[0;32mdef\u001b[0m \u001b[0mmsg\u001b[0m\u001b[0;34m(\u001b[0m\u001b[0mself\u001b[0m\u001b[0;34m,\u001b[0m \u001b[0mmsg_type\u001b[0m\u001b[0;34m,\u001b[0m \u001b[0mcontent\u001b[0m\u001b[0;34m=\u001b[0m\u001b[0;32mNone\u001b[0m\u001b[0;34m,\u001b[0m \u001b[0mparent\u001b[0m\u001b[0;34m=\u001b[0m\u001b[0;32mNone\u001b[0m\u001b[0;34m,\u001b[0m \u001b[0mheader\u001b[0m\u001b[0;34m=\u001b[0m\u001b[0;32mNone\u001b[0m\u001b[0;34m,\u001b[0m \u001b[0mmetadata\u001b[0m\u001b[0;34m=\u001b[0m\u001b[0;32mNone\u001b[0m\u001b[0;34m)\u001b[0m\u001b[0;34m:\u001b[0m\u001b[0;34m\u001b[0m\u001b[0;34m\u001b[0m\u001b[0m\n",
      "\u001b[0;32m~/.conda/envs/mborzymowski/lib/python3.7/site-packages/jupyter_client/session.py\u001b[0m in \u001b[0;36mmsg_id\u001b[0;34m(self)\u001b[0m\n\u001b[1;32m    510\u001b[0m     \u001b[0;32mdef\u001b[0m \u001b[0mmsg_id\u001b[0m\u001b[0;34m(\u001b[0m\u001b[0mself\u001b[0m\u001b[0;34m)\u001b[0m\u001b[0;34m:\u001b[0m\u001b[0;34m\u001b[0m\u001b[0;34m\u001b[0m\u001b[0m\n\u001b[1;32m    511\u001b[0m         \u001b[0;34m\"\"\"always return new uuid\"\"\"\u001b[0m\u001b[0;34m\u001b[0m\u001b[0;34m\u001b[0m\u001b[0m\n\u001b[0;32m--> 512\u001b[0;31m         \u001b[0;32mreturn\u001b[0m \u001b[0mnew_id\u001b[0m\u001b[0;34m(\u001b[0m\u001b[0;34m)\u001b[0m\u001b[0;34m\u001b[0m\u001b[0;34m\u001b[0m\u001b[0m\n\u001b[0m\u001b[1;32m    513\u001b[0m \u001b[0;34m\u001b[0m\u001b[0m\n\u001b[1;32m    514\u001b[0m     \u001b[0;32mdef\u001b[0m \u001b[0m_check_packers\u001b[0m\u001b[0;34m(\u001b[0m\u001b[0mself\u001b[0m\u001b[0;34m)\u001b[0m\u001b[0;34m:\u001b[0m\u001b[0;34m\u001b[0m\u001b[0;34m\u001b[0m\u001b[0m\n",
      "\u001b[0;32m~/.conda/envs/mborzymowski/lib/python3.7/site-packages/jupyter_client/session.py\u001b[0m in \u001b[0;36mnew_id\u001b[0;34m()\u001b[0m\n\u001b[1;32m    129\u001b[0m     \u001b[0mid\u001b[0m \u001b[0mstring\u001b[0m \u001b[0;34m(\u001b[0m\u001b[0;36m16\u001b[0m \u001b[0mrandom\u001b[0m \u001b[0mbytes\u001b[0m \u001b[0;32mas\u001b[0m \u001b[0mhex\u001b[0m\u001b[0;34m-\u001b[0m\u001b[0mencoded\u001b[0m \u001b[0mtext\u001b[0m\u001b[0;34m,\u001b[0m \u001b[0mchunks\u001b[0m \u001b[0mseparated\u001b[0m \u001b[0mby\u001b[0m \u001b[0;34m'-'\u001b[0m\u001b[0;34m)\u001b[0m\u001b[0;34m\u001b[0m\u001b[0;34m\u001b[0m\u001b[0m\n\u001b[1;32m    130\u001b[0m     \"\"\"\n\u001b[0;32m--> 131\u001b[0;31m     \u001b[0mbuf\u001b[0m \u001b[0;34m=\u001b[0m \u001b[0mos\u001b[0m\u001b[0;34m.\u001b[0m\u001b[0murandom\u001b[0m\u001b[0;34m(\u001b[0m\u001b[0;36m16\u001b[0m\u001b[0;34m)\u001b[0m\u001b[0;34m\u001b[0m\u001b[0;34m\u001b[0m\u001b[0m\n\u001b[0m\u001b[1;32m    132\u001b[0m     return u'-'.join(b2a_hex(x).decode('ascii') for x in (\n\u001b[1;32m    133\u001b[0m         \u001b[0mbuf\u001b[0m\u001b[0;34m[\u001b[0m\u001b[0;34m:\u001b[0m\u001b[0;36m4\u001b[0m\u001b[0;34m]\u001b[0m\u001b[0;34m,\u001b[0m \u001b[0mbuf\u001b[0m\u001b[0;34m[\u001b[0m\u001b[0;36m4\u001b[0m\u001b[0;34m:\u001b[0m\u001b[0;34m]\u001b[0m\u001b[0;34m\u001b[0m\u001b[0;34m\u001b[0m\u001b[0m\n",
      "\u001b[0;31mKeyboardInterrupt\u001b[0m: "
     ]
    }
   ],
   "source": [
    "chardict = list(chartoidx.keys())\n",
    "temperature = 0.5\n",
    "ilehasel = 100\n",
    "startrange = 3\n",
    "\n",
    "fakehasla = []\n",
    "startowegen = list(itertools.permutations(chardict[1:62], startrange))\n",
    "startowe = []\n",
    "\n",
    "for it in startowegen:\n",
    "    slw = \"\"\n",
    "    for letter in it:\n",
    "        slw+=letter\n",
    "    startowe.append(slw)\n",
    "    \n",
    "    \n",
    "plikhasel = open(\"../haslaAI_bezrelu.txt\", \"a\", encoding=\"utf8\")\n",
    "\n",
    "for start in tqdm_notebook(startowe):\n",
    "    hiddens = torch.zeros(2*lstms, ilehasel, hiddensize).to(device)\n",
    "    slowostart = start\n",
    "    \n",
    "    with torch.no_grad():\n",
    "        lastchar = 0\n",
    "        cnt = 0\n",
    "\n",
    "        chlstm.eval()\n",
    "        znaki = [[chartoidx[item] for item in slowostart] for _ in range(ilehasel)]\n",
    "        bazastart = len(znaki[0])\n",
    "\n",
    "        for i in range(ilehasel):\n",
    "            for __ in range(longestword - bazastart+1):\n",
    "                znaki[i].append(chartoidx[\"<EMPTY>\"])\n",
    "\n",
    "        for item in range(longestword - bazastart+1):\n",
    "            x = torch.Tensor(znaki).long().to(device).view(ilehasel, -1)\n",
    "\n",
    "            out, hiddens = chlstm(x, hiddens, NLL=False)\n",
    "\n",
    "            zwrot = out[:,-1].view(ilehasel, -1)\n",
    "            exped = zwrot.data.div(temperature).exp()\n",
    "            top_i = torch.multinomial(exped, 1)\n",
    "    #         softmaxed = torch.softmax(top_i, 0)\n",
    "    #         charid = torch.argmax(softmaxed, 0)\n",
    "\n",
    "            for i in range(len(top_i)):\n",
    "                charid = top_i[i][0]\n",
    "                znaki[i][item+bazastart] = charid\n",
    "\n",
    "        for haslo in znaki:\n",
    "            slowo = \"\"\n",
    "            for item in haslo:\n",
    "                if item != 0:\n",
    "                    slowo+=chardict[item]\n",
    "            plikhasel.write(slowo+\"\\n\")\n",
    "plikhasel.close()"
   ]
  },
  {
   "cell_type": "code",
   "execution_count": null,
   "metadata": {},
   "outputs": [],
   "source": []
  }
 ],
 "metadata": {
  "kernelspec": {
   "display_name": "Python 3",
   "language": "python",
   "name": "python3"
  },
  "language_info": {
   "codemirror_mode": {
    "name": "ipython",
    "version": 3
   },
   "file_extension": ".py",
   "mimetype": "text/x-python",
   "name": "python",
   "nbconvert_exporter": "python",
   "pygments_lexer": "ipython3",
   "version": "3.7.3"
  }
 },
 "nbformat": 4,
 "nbformat_minor": 4
}
