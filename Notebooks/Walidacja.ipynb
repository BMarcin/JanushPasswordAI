{
 "cells": [
  {
   "cell_type": "markdown",
   "metadata": {},
   "source": [
    "# Walidacja modelu\n",
    "Tutaj wczytujemy zapisane wcześniej dane i generujemy reprezentacje liczbową 🐱‍👤"
   ]
  },
  {
   "cell_type": "code",
   "execution_count": 1,
   "metadata": {},
   "outputs": [],
   "source": [
    "from tqdm import tqdm_notebook\n",
    "import re"
   ]
  },
  {
   "cell_type": "code",
   "execution_count": 2,
   "metadata": {},
   "outputs": [],
   "source": [
    "fwygenerowane = open(\"../haslaAI.txt\", encoding=\"utf8\")\n",
    "ftestset = open(\"../dataset/test_all.txt\", encoding=\"utf8\")\n",
    "\n",
    "wygenerowane = set([line.replace(\"\\n\", \"\") for line in fwygenerowane.readlines()])\n",
    "testset = set([line.replace(\"\\n\", \"\") for line in ftestset.readlines()])"
   ]
  },
  {
   "cell_type": "markdown",
   "metadata": {},
   "source": [
    "## Przeliczenie"
   ]
  },
  {
   "cell_type": "code",
   "execution_count": 3,
   "metadata": {},
   "outputs": [
    {
     "data": {
      "application/vnd.jupyter.widget-view+json": {
       "model_id": "3d1932f8fcd44e769e959353fe17be36",
       "version_major": 2,
       "version_minor": 0
      },
      "text/plain": [
       "HBox(children=(IntProgress(value=0, max=8934), HTML(value='')))"
      ]
     },
     "metadata": {},
     "output_type": "display_data"
    },
    {
     "name": "stdout",
     "output_type": "stream",
     "text": [
      "\n",
      "Takie same: 3.604208641146183%\n",
      "Pokrycie schematów: 88.40385045892097%\n"
     ]
    }
   ],
   "source": [
    "xs = list(testset)\n",
    "ys = list(wygenerowane)\n",
    "\n",
    "\n",
    "def search_pattern(pattern, result):\n",
    "    pattern2 = re.compile(pattern)\n",
    "    for y in ys:\n",
    "#         print(pattern2.findall(y))\n",
    "        if pattern2.findall(y):\n",
    "            if pattern not in set(validation_result[\"patterns\"].keys()):\n",
    "                validation_result[\"patterns\"][pattern] = 0\n",
    "            validation_result[\"patterns\"][pattern]+=1\n",
    "            if not 'pattern' in result:\n",
    "                result['pattern'] = 1\n",
    "            else:\n",
    "                result['pattern'] += 1\n",
    "            break\n",
    "\n",
    "\n",
    "digit = re.compile('\\d')\n",
    "big_letter = re.compile('[A-Z]')\n",
    "small_letter = re.compile('[a-z]')\n",
    "space = re.compile('\\s')\n",
    "non_word = re.compile('\\W')\n",
    "\n",
    "\n",
    "validation_result = {}\n",
    "validation_result[\"equals\"] = 0\n",
    "validation_result[\"patterns\"] = {}\n",
    "validation_result[\"pattern\"] = 0\n",
    "\n",
    "# unikalne hasła wygenerowane\n",
    "validation_set_length = len(set(xs))\n",
    "\n",
    "for word in tqdm_notebook(set(xs)):\n",
    "#     dokładne dopasowanie\n",
    "    if ys.count(word) >= 1:\n",
    "        if not 'equals' in validation_result:\n",
    "            validation_result['equals'] = 1\n",
    "        else:\n",
    "            validation_result['equals'] += 1\n",
    "    else:\n",
    "        pattern = '^'\n",
    "        for w in word:\n",
    "            if digit.findall(w):\n",
    "                pattern += '\\d'\n",
    "            elif big_letter.findall(w):\n",
    "                pattern += '[A-Z]'\n",
    "            elif small_letter.findall(w):\n",
    "                pattern += '[a-z]'\n",
    "            elif space.findall(w):\n",
    "                pattern += '\\s'\n",
    "            elif non_word.findall(w):\n",
    "                pattern += '\\W'\n",
    "        pattern+=\"$\"\n",
    "        search_pattern(pattern, validation_result)\n",
    "        \n",
    "\n",
    "print('Takie same: {}%'.format(validation_result.get('equals')/validation_set_length * 100))\n",
    "print('Pokrycie schematów: {}%'.format(validation_result.get('pattern')/validation_set_length * 100))\n",
    "# print(validation_result[\"equals\"], validation_result[\"pattern\"])"
   ]
  }
 ],
 "metadata": {
  "kernelspec": {
   "display_name": "Python 3",
   "language": "python",
   "name": "python3"
  },
  "language_info": {
   "codemirror_mode": {
    "name": "ipython",
    "version": 3
   },
   "file_extension": ".py",
   "mimetype": "text/x-python",
   "name": "python",
   "nbconvert_exporter": "python",
   "pygments_lexer": "ipython3",
   "version": "3.7.3"
  }
 },
 "nbformat": 4,
 "nbformat_minor": 4
}
