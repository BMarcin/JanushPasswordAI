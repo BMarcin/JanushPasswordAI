{
 "cells": [
  {
   "cell_type": "code",
   "execution_count": 1,
   "metadata": {},
   "outputs": [],
   "source": [
    "from sklearn.model_selection import train_test_split"
   ]
  },
  {
   "cell_type": "code",
   "execution_count": 4,
   "metadata": {},
   "outputs": [
    {
     "name": "stdout",
     "output_type": "stream",
     "text": [
      "['123456', '12345', '123456789', 'password', 'iloveyou', 'princess', '1234567', 'rockyou', '12345678', 'abc123', 'nicole', 'daniel', 'babygirl', 'monkey', 'lovely', 'jessica', '654321', 'michael', 'ashley', 'qwerty']\n",
      "14344365\n"
     ]
    }
   ],
   "source": [
    "polskie = open(\"../rockyou.txt\", encoding='utf8')\n",
    "slowa = [slowo.replace(\"\\n\", \"\") for slowo in polskie.readlines()]\n",
    "polskie.close()\n",
    "print(slowa[:20])\n",
    "print(len(slowa))"
   ]
  },
  {
   "cell_type": "code",
   "execution_count": 5,
   "metadata": {},
   "outputs": [],
   "source": [
    "xTrain, xTest, _, _ = train_test_split(slowa, slowa, test_size = 0.20, random_state = 101)"
   ]
  },
  {
   "cell_type": "code",
   "execution_count": 6,
   "metadata": {},
   "outputs": [
    {
     "data": {
      "text/plain": [
       "11475492"
      ]
     },
     "execution_count": 6,
     "metadata": {},
     "output_type": "execute_result"
    }
   ],
   "source": [
    "len(xTrain)"
   ]
  },
  {
   "cell_type": "code",
   "execution_count": 7,
   "metadata": {},
   "outputs": [
    {
     "data": {
      "text/plain": [
       "2868873"
      ]
     },
     "execution_count": 7,
     "metadata": {},
     "output_type": "execute_result"
    }
   ],
   "source": [
    "len(xTest)"
   ]
  },
  {
   "cell_type": "code",
   "execution_count": 8,
   "metadata": {},
   "outputs": [
    {
     "name": "stdout",
     "output_type": "stream",
     "text": [
      "['627484200', 'sexyorfy18', 'play2505+-*', '21831824', 'nice36', \"Alex'shot1\", 'boyzahn', 'allover26', 'shyne12', 'nanche77', 'rintaku', 'salmoro', '0841525447', 'juventus9', 'rose1810', 'angelise', 'fogs69', 'pookie900', 'alisyosh', 'boykin53', 'tahtinen', 'suzieqz1', 'karin248', 'sexy@one', 'd02343490', 'rock,punk,emo', 'theclasic26', '3433Rb', 'superchicken5050', 'tragiko', 'wcs83220', 'yupankiatahualpa', 'lma007', 'liberte2008', 'megaman21', '=touohvp444', '5h4h1n4', 'M31F860J104', '32652622646', 'swtqwt', 'thefans', 'cityjock11', 'terezaitan', 'bria*randi', '111090', 'famousamos81992', 'skyway12', 'tefydannygene', '151482', 'dylanandwizo16', '22agosto85', 'nebular', '94dinah', 'kmv2093s', 'c29456b', 'boufante', '214915', 'fufo03', 'jsjnjsjn', 'kory27', 'eznabamato', 'flopshot', '1996MARK', 'akosipepay', '789896alisson', 'Kittyboy', '1ROMEO', 'sara664', '9939975', 'xygenes', 'jimianlyn', '0833943622', 'no1pig', 'baybeehthug', 'O42276', '2106838229', '022799392', '6l7f8a', 'josh@47', 'danielnadali', 'sour785else884', '323088', '0697581', 'bronzi', 'alacoco', '09072914433', '4photo4', 'BUTTERLOVE', 'cowboys1130', 'AMAMIGUITA', '0871351503', 'zeanmartin', 'llakeline', 'cicling', '07232605', '486118', 'tinerbell44', 'JROD040803', 'rlgr150476', 'faborless1']\n"
     ]
    }
   ],
   "source": [
    "print(xTrain[:100])"
   ]
  },
  {
   "cell_type": "code",
   "execution_count": 9,
   "metadata": {},
   "outputs": [
    {
     "name": "stdout",
     "output_type": "stream",
     "text": [
      "['cOdMiLLItOs253', 'shimar36', '123seal', '034318db', 'tjvaugh', 'babygurlr17', 'ikasika', 'roo777', 'shesofine', 'kapotcripz', 'happyhr', '213114', 'ltdu14', '368150', 'loriana9962815...', 'emanktm67', 'anthony61507', 'tatianaejessika', 'chhitu', 'mapogiku', 'clc161980', 'REBELDE20', 'mariahdez', 'MOONSY93', 'jmhs5577', '1jessi12', '051549752', 'sarahtommy2008', 'efxxosa', 'ble$$edfromheavenabove!!', '3236902', 'delta209', 'Mloveoum', 'pingkays', '0867000322', 'damelis123amor12', 'mq63wm99wm', 'brie10', 'triiiangle', 'naraeandreiadorovosbjx', 'qazqazwsxwsx', 'land80cr', 'boogieface', '4261746', '0105290746', 'ckyidr', 'bn102/0266', 'paulad07', 'nidoma12', 'mdrcmsfmadda', 'monatrip', 'sooty91', 'ebrel17', 'layne873', 'hugues2526', 'cutieissy', 'marcus2425', '228699aim', 'lemon777', '5217521k', 'pajaithao', 'cdm1623', 'a100699', '440640', 'eddy4966', 'ferridee.', 'iloveme$69', 'Triathlon1', 'mattyandy', 'mac_jnt', 'tiffenyann', 'harrietta1', 'bquims', '1226sp', '11916232', 'cheana1', 'bella1014', 'stojakovoc', '0877225306', '454560', 'v.a.v.o.', 'finger_', '1827814619345501', 'tixafofa', '12213852', '4801272306', 'schaknows2', 'REDCIVIC20', 'DHK13', '2192982', '3573367', 'runt79', 'dtc111', 'starsph', 'guyticia', 'carshow06', '337799jd', 'luskey', 'lekpg1995', 'mogwai1990!']\n"
     ]
    }
   ],
   "source": [
    "print(xTest[:100])"
   ]
  },
  {
   "cell_type": "code",
   "execution_count": 10,
   "metadata": {},
   "outputs": [],
   "source": [
    "train = open(\"../dataset/train_rockyou.txt\", \"w\", encoding=\"utf8\")\n",
    "for line in xTrain:\n",
    "    train.write(line+\"\\n\")\n",
    "train.close()"
   ]
  },
  {
   "cell_type": "code",
   "execution_count": 11,
   "metadata": {},
   "outputs": [],
   "source": [
    "test = open(\"../dataset/test_rockyou.txt\", \"w\", encoding=\"utf8\")\n",
    "for line in xTest:\n",
    "    test.write(line+\"\\n\")\n",
    "test.close()"
   ]
  },
  {
   "cell_type": "code",
   "execution_count": null,
   "metadata": {},
   "outputs": [],
   "source": []
  }
 ],
 "metadata": {
  "kernelspec": {
   "display_name": "Python 3",
   "language": "python",
   "name": "python3"
  },
  "language_info": {
   "codemirror_mode": {
    "name": "ipython",
    "version": 3
   },
   "file_extension": ".py",
   "mimetype": "text/x-python",
   "name": "python",
   "nbconvert_exporter": "python",
   "pygments_lexer": "ipython3",
   "version": "3.7.3"
  }
 },
 "nbformat": 4,
 "nbformat_minor": 2
}
